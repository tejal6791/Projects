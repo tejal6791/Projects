{
 "cells": [
  {
   "cell_type": "code",
   "execution_count": 1,
   "id": "625ab7a1-bfc3-41ef-9d9c-cf05b4f4b0c3",
   "metadata": {},
   "outputs": [],
   "source": [
    "#advertising.csv\n",
    "\n",
    "import numpy as np\n",
    "import pandas as pd\n",
    "import matplotlib.pyplot as plt\n",
    "import seaborn as sb\n",
    "import warnings\n",
    "warnings.filterwarnings('ignore')"
   ]
  },
  {
   "cell_type": "code",
   "execution_count": 2,
   "id": "b9f64afc-7699-47e3-9bc2-3e563563a09c",
   "metadata": {},
   "outputs": [
    {
     "data": {
      "text/html": [
       "<div>\n",
       "<style scoped>\n",
       "    .dataframe tbody tr th:only-of-type {\n",
       "        vertical-align: middle;\n",
       "    }\n",
       "\n",
       "    .dataframe tbody tr th {\n",
       "        vertical-align: top;\n",
       "    }\n",
       "\n",
       "    .dataframe thead th {\n",
       "        text-align: right;\n",
       "    }\n",
       "</style>\n",
       "<table border=\"1\" class=\"dataframe\">\n",
       "  <thead>\n",
       "    <tr style=\"text-align: right;\">\n",
       "      <th></th>\n",
       "      <th>Unnamed: 0</th>\n",
       "      <th>TV</th>\n",
       "      <th>radio</th>\n",
       "      <th>newspaper</th>\n",
       "      <th>sales</th>\n",
       "    </tr>\n",
       "  </thead>\n",
       "  <tbody>\n",
       "    <tr>\n",
       "      <th>0</th>\n",
       "      <td>1</td>\n",
       "      <td>230.1</td>\n",
       "      <td>37.8</td>\n",
       "      <td>69.2</td>\n",
       "      <td>22.1</td>\n",
       "    </tr>\n",
       "    <tr>\n",
       "      <th>1</th>\n",
       "      <td>2</td>\n",
       "      <td>44.5</td>\n",
       "      <td>39.3</td>\n",
       "      <td>45.1</td>\n",
       "      <td>10.4</td>\n",
       "    </tr>\n",
       "    <tr>\n",
       "      <th>2</th>\n",
       "      <td>3</td>\n",
       "      <td>17.2</td>\n",
       "      <td>45.9</td>\n",
       "      <td>69.3</td>\n",
       "      <td>9.3</td>\n",
       "    </tr>\n",
       "    <tr>\n",
       "      <th>3</th>\n",
       "      <td>4</td>\n",
       "      <td>151.5</td>\n",
       "      <td>41.3</td>\n",
       "      <td>58.5</td>\n",
       "      <td>18.5</td>\n",
       "    </tr>\n",
       "    <tr>\n",
       "      <th>4</th>\n",
       "      <td>5</td>\n",
       "      <td>180.8</td>\n",
       "      <td>10.8</td>\n",
       "      <td>58.4</td>\n",
       "      <td>12.9</td>\n",
       "    </tr>\n",
       "  </tbody>\n",
       "</table>\n",
       "</div>"
      ],
      "text/plain": [
       "   Unnamed: 0     TV  radio  newspaper  sales\n",
       "0           1  230.1   37.8       69.2   22.1\n",
       "1           2   44.5   39.3       45.1   10.4\n",
       "2           3   17.2   45.9       69.3    9.3\n",
       "3           4  151.5   41.3       58.5   18.5\n",
       "4           5  180.8   10.8       58.4   12.9"
      ]
     },
     "execution_count": 2,
     "metadata": {},
     "output_type": "execute_result"
    }
   ],
   "source": [
    "df=pd.read_csv(\"advertising.csv\") #load dataset\n",
    "df.head()"
   ]
  },
  {
   "cell_type": "code",
   "execution_count": 3,
   "id": "f53a5ce1-330c-4c78-98a4-d95f6cce072f",
   "metadata": {},
   "outputs": [],
   "source": [
    "df.drop(\"Unnamed: 0\",axis=1,inplace=True) # to remove unwanted column fro given dataset"
   ]
  },
  {
   "cell_type": "code",
   "execution_count": 4,
   "id": "3307971e-366d-442a-a418-9288ff070cd0",
   "metadata": {},
   "outputs": [
    {
     "data": {
      "text/html": [
       "<div>\n",
       "<style scoped>\n",
       "    .dataframe tbody tr th:only-of-type {\n",
       "        vertical-align: middle;\n",
       "    }\n",
       "\n",
       "    .dataframe tbody tr th {\n",
       "        vertical-align: top;\n",
       "    }\n",
       "\n",
       "    .dataframe thead th {\n",
       "        text-align: right;\n",
       "    }\n",
       "</style>\n",
       "<table border=\"1\" class=\"dataframe\">\n",
       "  <thead>\n",
       "    <tr style=\"text-align: right;\">\n",
       "      <th></th>\n",
       "      <th>TV</th>\n",
       "      <th>radio</th>\n",
       "      <th>newspaper</th>\n",
       "      <th>sales</th>\n",
       "    </tr>\n",
       "  </thead>\n",
       "  <tbody>\n",
       "    <tr>\n",
       "      <th>0</th>\n",
       "      <td>230.1</td>\n",
       "      <td>37.8</td>\n",
       "      <td>69.2</td>\n",
       "      <td>22.1</td>\n",
       "    </tr>\n",
       "    <tr>\n",
       "      <th>1</th>\n",
       "      <td>44.5</td>\n",
       "      <td>39.3</td>\n",
       "      <td>45.1</td>\n",
       "      <td>10.4</td>\n",
       "    </tr>\n",
       "    <tr>\n",
       "      <th>2</th>\n",
       "      <td>17.2</td>\n",
       "      <td>45.9</td>\n",
       "      <td>69.3</td>\n",
       "      <td>9.3</td>\n",
       "    </tr>\n",
       "    <tr>\n",
       "      <th>3</th>\n",
       "      <td>151.5</td>\n",
       "      <td>41.3</td>\n",
       "      <td>58.5</td>\n",
       "      <td>18.5</td>\n",
       "    </tr>\n",
       "    <tr>\n",
       "      <th>4</th>\n",
       "      <td>180.8</td>\n",
       "      <td>10.8</td>\n",
       "      <td>58.4</td>\n",
       "      <td>12.9</td>\n",
       "    </tr>\n",
       "  </tbody>\n",
       "</table>\n",
       "</div>"
      ],
      "text/plain": [
       "      TV  radio  newspaper  sales\n",
       "0  230.1   37.8       69.2   22.1\n",
       "1   44.5   39.3       45.1   10.4\n",
       "2   17.2   45.9       69.3    9.3\n",
       "3  151.5   41.3       58.5   18.5\n",
       "4  180.8   10.8       58.4   12.9"
      ]
     },
     "execution_count": 4,
     "metadata": {},
     "output_type": "execute_result"
    }
   ],
   "source": [
    "df.head()"
   ]
  },
  {
   "cell_type": "code",
   "execution_count": 5,
   "id": "6197b221-4d1d-44a9-913b-8942d0e2e461",
   "metadata": {},
   "outputs": [
    {
     "data": {
      "text/plain": [
       "TV           0\n",
       "radio        0\n",
       "newspaper    0\n",
       "sales        0\n",
       "dtype: int64"
      ]
     },
     "execution_count": 5,
     "metadata": {},
     "output_type": "execute_result"
    }
   ],
   "source": [
    "df.isnull().sum()"
   ]
  },
  {
   "cell_type": "code",
   "execution_count": 6,
   "id": "8fc2f31f-b4c3-4ba8-81b7-1baad21d731b",
   "metadata": {},
   "outputs": [
    {
     "data": {
      "text/plain": [
       "TV           float64\n",
       "radio        float64\n",
       "newspaper    float64\n",
       "sales        float64\n",
       "dtype: object"
      ]
     },
     "execution_count": 6,
     "metadata": {},
     "output_type": "execute_result"
    }
   ],
   "source": [
    "df.dtypes"
   ]
  },
  {
   "cell_type": "code",
   "execution_count": 7,
   "id": "e743b410-7d92-4ec6-8189-2009126620fd",
   "metadata": {},
   "outputs": [
    {
     "data": {
      "text/plain": [
       "0"
      ]
     },
     "execution_count": 7,
     "metadata": {},
     "output_type": "execute_result"
    }
   ],
   "source": [
    "df.duplicated().sum()"
   ]
  },
  {
   "cell_type": "code",
   "execution_count": 8,
   "id": "8b317474-b366-4e7e-ac54-cdfd6a1c4393",
   "metadata": {},
   "outputs": [
    {
     "data": {
      "text/html": [
       "<div>\n",
       "<style scoped>\n",
       "    .dataframe tbody tr th:only-of-type {\n",
       "        vertical-align: middle;\n",
       "    }\n",
       "\n",
       "    .dataframe tbody tr th {\n",
       "        vertical-align: top;\n",
       "    }\n",
       "\n",
       "    .dataframe thead th {\n",
       "        text-align: right;\n",
       "    }\n",
       "</style>\n",
       "<table border=\"1\" class=\"dataframe\">\n",
       "  <thead>\n",
       "    <tr style=\"text-align: right;\">\n",
       "      <th></th>\n",
       "      <th>TV</th>\n",
       "      <th>radio</th>\n",
       "      <th>newspaper</th>\n",
       "      <th>sales</th>\n",
       "    </tr>\n",
       "  </thead>\n",
       "  <tbody>\n",
       "    <tr>\n",
       "      <th>TV</th>\n",
       "      <td>1.000000</td>\n",
       "      <td>0.054809</td>\n",
       "      <td>0.056648</td>\n",
       "      <td>0.782224</td>\n",
       "    </tr>\n",
       "    <tr>\n",
       "      <th>radio</th>\n",
       "      <td>0.054809</td>\n",
       "      <td>1.000000</td>\n",
       "      <td>0.354104</td>\n",
       "      <td>0.576223</td>\n",
       "    </tr>\n",
       "    <tr>\n",
       "      <th>newspaper</th>\n",
       "      <td>0.056648</td>\n",
       "      <td>0.354104</td>\n",
       "      <td>1.000000</td>\n",
       "      <td>0.228299</td>\n",
       "    </tr>\n",
       "    <tr>\n",
       "      <th>sales</th>\n",
       "      <td>0.782224</td>\n",
       "      <td>0.576223</td>\n",
       "      <td>0.228299</td>\n",
       "      <td>1.000000</td>\n",
       "    </tr>\n",
       "  </tbody>\n",
       "</table>\n",
       "</div>"
      ],
      "text/plain": [
       "                 TV     radio  newspaper     sales\n",
       "TV         1.000000  0.054809   0.056648  0.782224\n",
       "radio      0.054809  1.000000   0.354104  0.576223\n",
       "newspaper  0.056648  0.354104   1.000000  0.228299\n",
       "sales      0.782224  0.576223   0.228299  1.000000"
      ]
     },
     "execution_count": 8,
     "metadata": {},
     "output_type": "execute_result"
    }
   ],
   "source": [
    "df.corr()"
   ]
  },
  {
   "cell_type": "code",
   "execution_count": 9,
   "id": "7218e0d9-0d59-4bab-ae98-fb4b06c3dfd5",
   "metadata": {},
   "outputs": [
    {
     "data": {
      "image/png": "[encoded data removed]",
      "text/plain": [
       "<Figure size 640x480 with 2 Axes>"
      ]
     },
     "metadata": {},
     "output_type": "display_data"
    }
   ],
   "source": [
    "sb.heatmap(df.corr(),annot=True) #if annot=True means to show value of correlation in graph\n",
    "plt.show()"
   ]
  },
  {
   "cell_type": "code",
   "execution_count": 10,
   "id": "e965904a-265d-44c3-b368-18d33d44a1ab",
   "metadata": {},
   "outputs": [],
   "source": [
    "X=df[['TV','radio']]  #select input column\n",
    "Y=df['sales']    #select output column"
   ]
  },
  {
   "cell_type": "code",
   "execution_count": 11,
   "id": "62ab6a9c-46be-4ef4-ae7c-7c1bb6523223",
   "metadata": {},
   "outputs": [
    {
     "data": {
      "text/html": [
       "<div>\n",
       "<style scoped>\n",
       "    .dataframe tbody tr th:only-of-type {\n",
       "        vertical-align: middle;\n",
       "    }\n",
       "\n",
       "    .dataframe tbody tr th {\n",
       "        vertical-align: top;\n",
       "    }\n",
       "\n",
       "    .dataframe thead th {\n",
       "        text-align: right;\n",
       "    }\n",
       "</style>\n",
       "<table border=\"1\" class=\"dataframe\">\n",
       "  <thead>\n",
       "    <tr style=\"text-align: right;\">\n",
       "      <th></th>\n",
       "      <th>TV</th>\n",
       "      <th>radio</th>\n",
       "    </tr>\n",
       "  </thead>\n",
       "  <tbody>\n",
       "    <tr>\n",
       "      <th>0</th>\n",
       "      <td>230.1</td>\n",
       "      <td>37.8</td>\n",
       "    </tr>\n",
       "    <tr>\n",
       "      <th>1</th>\n",
       "      <td>44.5</td>\n",
       "      <td>39.3</td>\n",
       "    </tr>\n",
       "    <tr>\n",
       "      <th>2</th>\n",
       "      <td>17.2</td>\n",
       "      <td>45.9</td>\n",
       "    </tr>\n",
       "    <tr>\n",
       "      <th>3</th>\n",
       "      <td>151.5</td>\n",
       "      <td>41.3</td>\n",
       "    </tr>\n",
       "    <tr>\n",
       "      <th>4</th>\n",
       "      <td>180.8</td>\n",
       "      <td>10.8</td>\n",
       "    </tr>\n",
       "  </tbody>\n",
       "</table>\n",
       "</div>"
      ],
      "text/plain": [
       "      TV  radio\n",
       "0  230.1   37.8\n",
       "1   44.5   39.3\n",
       "2   17.2   45.9\n",
       "3  151.5   41.3\n",
       "4  180.8   10.8"
      ]
     },
     "execution_count": 11,
     "metadata": {},
     "output_type": "execute_result"
    }
   ],
   "source": [
    "X.head()"
   ]
  },
  {
   "cell_type": "code",
   "execution_count": 12,
   "id": "868f1dfc-3d2f-4727-812d-49a626aa1794",
   "metadata": {},
   "outputs": [
    {
     "data": {
      "text/plain": [
       "0    22.1\n",
       "1    10.4\n",
       "2     9.3\n",
       "3    18.5\n",
       "4    12.9\n",
       "Name: sales, dtype: float64"
      ]
     },
     "execution_count": 12,
     "metadata": {},
     "output_type": "execute_result"
    }
   ],
   "source": [
    "Y.head()"
   ]
  },
  {
   "cell_type": "code",
   "execution_count": 13,
   "id": "005a46e5-bd74-4a11-9d61-1ed1e9d30c26",
   "metadata": {},
   "outputs": [
    {
     "data": {
      "text/plain": [
       "(200, 2)"
      ]
     },
     "execution_count": 13,
     "metadata": {},
     "output_type": "execute_result"
    }
   ],
   "source": [
    "X.shape"
   ]
  },
  {
   "cell_type": "code",
   "execution_count": 14,
   "id": "70ee8675-d361-4cad-b88e-40e07056d81c",
   "metadata": {},
   "outputs": [
    {
     "data": {
      "text/plain": [
       "(200,)"
      ]
     },
     "execution_count": 14,
     "metadata": {},
     "output_type": "execute_result"
    }
   ],
   "source": [
    "Y.shape"
   ]
  },
  {
   "cell_type": "code",
   "execution_count": 15,
   "id": "6d5d0721-05b5-4fb4-9426-ff3c7e99186e",
   "metadata": {},
   "outputs": [
    {
     "data": {
      "image/png": "[encoded data removed]",
      "text/plain": [
       "<Figure size 640x480 with 1 Axes>"
      ]
     },
     "metadata": {},
     "output_type": "display_data"
    }
   ],
   "source": [
    "#visualize scatter plot between input TV and output radio\n",
    "\n",
    "sb.scatterplot(data=df,x='TV', y='sales')\n",
    "plt.show()"
   ]
  },
  {
   "cell_type": "code",
   "execution_count": 16,
   "id": "44ad00dd-7e7f-415a-99ff-199f2a676329",
   "metadata": {},
   "outputs": [
    {
     "data": {
      "image/png": "[encoded data removed]",
      "text/plain": [
       "<Figure size 640x480 with 1 Axes>"
      ]
     },
     "metadata": {},
     "output_type": "display_data"
    }
   ],
   "source": [
    "#visualize scatter plot between input radio and output radio\n",
    "\n",
    "sb.scatterplot(data=df,x='radio', y='sales')\n",
    "plt.show()"
   ]
  },
  {
   "cell_type": "code",
   "execution_count": 17,
   "id": "b1fd6296-9ef5-4bf9-b039-24037489cb5a",
   "metadata": {},
   "outputs": [
    {
     "data": {
      "image/png": "[encoded data removed]",
      "text/plain": [
       "<Figure size 640x480 with 1 Axes>"
      ]
     },
     "metadata": {},
     "output_type": "display_data"
    }
   ],
   "source": [
    "#visualize scatter plot between input newspaper and output radio\n",
    "\n",
    "sb.scatterplot(data=df,x='newspaper', y='sales')\n",
    "plt.show()"
   ]
  },
  {
   "cell_type": "code",
   "execution_count": 18,
   "id": "2e709f21-51dd-4671-8c2a-325bf059aca1",
   "metadata": {},
   "outputs": [
    {
     "data": {
      "text/plain": [
       "Index(['TV', 'radio'], dtype='object')"
      ]
     },
     "execution_count": 18,
     "metadata": {},
     "output_type": "execute_result"
    }
   ],
   "source": [
    "X.columns"
   ]
  },
  {
   "cell_type": "code",
   "execution_count": 19,
   "id": "60442778-76e4-4ce3-ab86-2456815aeb63",
   "metadata": {},
   "outputs": [],
   "source": [
    "from sklearn.model_selection import train_test_split"
   ]
  },
  {
   "cell_type": "code",
   "execution_count": 20,
   "id": "302f9bcb-785b-4805-a90f-ef30954c2c96",
   "metadata": {},
   "outputs": [],
   "source": [
    "X_train,X_test,Y_train,Y_test=train_test_split(X,Y,test_size=0.3,random_state=1)"
   ]
  },
  {
   "cell_type": "code",
   "execution_count": 21,
   "id": "cf2efdcb-ad5b-4bfc-ba01-108f9a68ba0a",
   "metadata": {},
   "outputs": [
    {
     "data": {
      "text/plain": [
       "((140, 2), (60, 2))"
      ]
     },
     "execution_count": 21,
     "metadata": {},
     "output_type": "execute_result"
    }
   ],
   "source": [
    "X_train.shape,X_test.shape"
   ]
  },
  {
   "cell_type": "code",
   "execution_count": 22,
   "id": "18a094cf-90b0-4354-a461-603a1bbd4acb",
   "metadata": {},
   "outputs": [
    {
     "data": {
      "text/plain": [
       "((140,), (60,))"
      ]
     },
     "execution_count": 22,
     "metadata": {},
     "output_type": "execute_result"
    }
   ],
   "source": [
    "Y_train.shape,Y_test.shape"
   ]
  },
  {
   "cell_type": "code",
   "execution_count": 23,
   "id": "862dc285-b7e0-42ec-8e99-45a71fc98a34",
   "metadata": {},
   "outputs": [],
   "source": [
    "#apply feature scaling on input X_train and Y_train\n",
    "\n",
    "from sklearn.preprocessing import StandardScaler\n",
    "ss=StandardScaler()"
   ]
  },
  {
   "cell_type": "code",
   "execution_count": 24,
   "id": "8001568d-2bf5-4d13-906a-4e9019283a2c",
   "metadata": {},
   "outputs": [],
   "source": [
    "#apply standardScaler on input X_train\n",
    "X_train=ss.fit_transform(X_train)"
   ]
  },
  {
   "cell_type": "code",
   "execution_count": 25,
   "id": "43f7f91f-72cf-4e0e-ac28-c5b2f5a137c4",
   "metadata": {},
   "outputs": [],
   "source": [
    "#apply standardScaler on input X_test\n",
    "X_test=ss.transform(X_test)"
   ]
  },
  {
   "cell_type": "code",
   "execution_count": 26,
   "id": "6caa2610-9c02-4c0c-b5ea-99019190f094",
   "metadata": {},
   "outputs": [
    {
     "data": {
      "text/plain": [
       "array([[-0.04063534, -0.58562079],\n",
       "       [-0.03948046, -0.57246816],\n",
       "       [-1.58586722,  0.44028424],\n",
       "       [ 1.74250219,  0.29560533],\n",
       "       [ 1.6016066 ,  1.07818673],\n",
       "       [-1.54775611,  1.68978396],\n",
       "       [-0.72201561, -1.52603374],\n",
       "       [-0.05564881,  1.52537611],\n",
       "       [ 0.97566066, -0.48697608],\n",
       "       [-1.28444306,  0.09173958],\n",
       "       [ 1.3856437 ,  0.36794479],\n",
       "       [ 0.81744185,  1.30178142],\n",
       "       [ 1.67320928,  1.30178142],\n",
       "       [-1.51310966,  0.90062625],\n",
       "       [-1.44150699,  0.94666045],\n",
       "       [ 0.77240146, -0.17131299],\n",
       "       [-1.37336896,  0.78225259],\n",
       "       [-0.76590112, -1.47342322],\n",
       "       [ 1.24936765,  0.87432099],\n",
       "       [-0.01638282,  0.2364185 ],\n",
       "       [ 0.52063722, -0.13843142],\n",
       "       [-0.09722455, -1.20379434],\n",
       "       [ 1.12117577, -1.25640485],\n",
       "       [ 0.93870444, -1.36820219],\n",
       "       [-0.77629506, -0.81579179],\n",
       "       [-0.52222106, -1.02623385],\n",
       "       [-0.77860482, -0.19104193],\n",
       "       [-1.55122076,  0.26272376],\n",
       "       [ 0.55874832,  0.36136847],\n",
       "       [ 0.37396723, -0.04636302],\n",
       "       [-0.08683061,  1.21628933],\n",
       "       [ 1.43414874,  1.35439193],\n",
       "       [-0.65849711,  0.82828679],\n",
       "       [-0.0371707 , -1.38793114],\n",
       "       [ 0.33008172,  1.08476305],\n",
       "       [ 0.5217921 , -0.39490767],\n",
       "       [-1.20706598, -1.28271011],\n",
       "       [ 0.39590999, -0.91443651],\n",
       "       [-1.20937574,  1.12422093],\n",
       "       [ 0.29659015, -1.05911542],\n",
       "       [-1.45305581,  1.34781562],\n",
       "       [ 1.0934586 , -1.19064171],\n",
       "       [-1.31793463, -1.42738902],\n",
       "       [ 0.63381564,  0.0062475 ],\n",
       "       [-1.44959116,  1.49249453],\n",
       "       [ 0.65113887,  0.48631844],\n",
       "       [ 0.58300084, -0.3159919 ],\n",
       "       [ 1.59352243, -0.61192605],\n",
       "       [-0.98417379,  0.63099736],\n",
       "       [ 0.38089652, -0.51328133],\n",
       "       [ 1.00915223,  0.95981307],\n",
       "       [-1.60088068, -0.76318128],\n",
       "       [-0.25659824,  0.34821584],\n",
       "       [-0.85136238, -0.91443651],\n",
       "       [ 0.6488291 ,  1.72266554],\n",
       "       [ 0.74006477, -1.18406539],\n",
       "       [-0.62847019,  0.15092641],\n",
       "       [-1.64014666,  1.07818673],\n",
       "       [-0.61230184, -0.87497862],\n",
       "       [ 1.11540136, -0.50670502],\n",
       "       [ 0.81628697,  0.09173958],\n",
       "       [ 0.86594689,  0.67703156],\n",
       "       [ 1.16044175,  1.69636028],\n",
       "       [ 0.3439403 , -0.33572085],\n",
       "       [-0.44022445, -1.15118382],\n",
       "       [-0.36977666,  1.14394988],\n",
       "       [ 0.16031409, -1.35504957],\n",
       "       [-0.02793164, -1.40108377],\n",
       "       [-0.29470934, -0.55931553],\n",
       "       [-0.88485395, -1.14460751],\n",
       "       [-0.52568571, -1.42738902],\n",
       "       [-0.85829167,  1.40042613],\n",
       "       [-0.99918725, -1.15118382],\n",
       "       [ 0.92022633, -1.24325222],\n",
       "       [-0.64117389, -0.75002865],\n",
       "       [ 0.98836436, -0.41463662],\n",
       "       [-1.55815005,  1.03215253],\n",
       "       [ 0.65922304, -1.35504957],\n",
       "       [-1.07078992, -0.76318128],\n",
       "       [ 1.10269766,  0.72964207],\n",
       "       [-0.25082383, -0.97362333],\n",
       "       [-1.09042291,  1.56483399],\n",
       "       [ 1.14311852,  0.9729657 ],\n",
       "       [ 1.65473117, -0.61192605],\n",
       "       [-0.13418077,  1.28862879],\n",
       "       [ 0.60840824,  1.61086819],\n",
       "       [ 0.39590999,  0.67045524],\n",
       "       [ 0.24000094,  0.89404993],\n",
       "       [ 1.30133733,  0.24299481],\n",
       "       [-0.76590112,  0.22984219],\n",
       "       [ 0.85093342,  1.21628933],\n",
       "       [ 0.00209529,  0.40082636],\n",
       "       [-1.33063833, -1.42081271],\n",
       "       [ 0.74121965, -0.97362333],\n",
       "       [-0.92873946, -0.69741813],\n",
       "       [ 0.10141512,  1.18998408],\n",
       "       [ 1.63509818, -0.82894442],\n",
       "       [-0.8756149 , -0.75660496],\n",
       "       [-1.13199866,  0.17065536],\n",
       "       [ 1.41451575, -1.33532062],\n",
       "       [-1.19205251,  1.17683145],\n",
       "       [ 1.73441801,  0.33506321],\n",
       "       [-1.43111305, -0.09897353],\n",
       "       [-0.78091459,  0.77567627],\n",
       "       [ 1.54963692,  1.68978396],\n",
       "       [-1.548911  , -1.38793114],\n",
       "       [-1.03036906, -1.39450745],\n",
       "       [ 0.89597381,  1.69636028],\n",
       "       [-1.13430842,  1.05845779],\n",
       "       [-0.0752818 , -0.26338139],\n",
       "       [-1.49578643, -0.48039976],\n",
       "       [ 1.36947536,  1.28205248],\n",
       "       [-0.46216721,  0.4205553 ],\n",
       "       [-0.26006289, -0.23707613],\n",
       "       [-0.56033216, -1.20379434],\n",
       "       [ 0.58877525,  0.80198153],\n",
       "       [-0.76705601,  0.2824527 ],\n",
       "       [ 0.63381564, -1.29586274],\n",
       "       [ 1.0934586 ,  0.2824527 ],\n",
       "       [ 0.65922304, -1.32216799],\n",
       "       [ 0.89828358,  0.65730262],\n",
       "       [ 0.08178213, -1.44054165],\n",
       "       [-0.56379681,  1.33466299],\n",
       "       [ 0.48714565,  1.36096825],\n",
       "       [ 1.12464041, -1.04596279],\n",
       "       [ 1.77483888,  0.86116836],\n",
       "       [ 0.87403106,  0.29560533],\n",
       "       [ 1.54732716, -1.37477851],\n",
       "       [ 1.38795347, -1.29586274],\n",
       "       [-1.22207944,  1.01242359],\n",
       "       [-0.3801706 , -0.58562079],\n",
       "       [-0.95992127, -0.73687602],\n",
       "       [-0.53723452, -0.55273922],\n",
       "       [-1.44959116, -1.25640485],\n",
       "       [-0.30856792, -1.01965754],\n",
       "       [ 0.8901994 ,  0.67703156],\n",
       "       [ 1.5126807 ,  0.3745211 ],\n",
       "       [-1.33872251,  0.64414999],\n",
       "       [-0.80054758, -0.4080603 ],\n",
       "       [-0.78553411,  1.72266554]])"
      ]
     },
     "execution_count": 26,
     "metadata": {},
     "output_type": "execute_result"
    }
   ],
   "source": [
    "X_train"
   ]
  },
  {
   "cell_type": "code",
   "execution_count": 27,
   "id": "d5d32141-38ef-461d-99ca-a5f4975200f5",
   "metadata": {},
   "outputs": [
    {
     "data": {
      "text/plain": [
       "array([[ 0.78626004,  1.73581816],\n",
       "       [ 0.69040485, -0.05951564],\n",
       "       [-0.54300893, -1.43396534],\n",
       "       [ 1.58774802, -0.86182599],\n",
       "       [ 1.28285922, -0.12527879],\n",
       "       [ 1.627014  ,  1.23601828],\n",
       "       [ 0.23769118,  0.55208159],\n",
       "       [ 0.43979549, -0.81579179],\n",
       "       [-0.83288427, -0.47382345],\n",
       "       [ 0.8393846 ,  0.02597644],\n",
       "       [ 0.25154976, -0.15158405],\n",
       "       [-0.84905261, -0.1778893 ],\n",
       "       [ 0.83130043,  0.0522817 ],\n",
       "       [-0.3801706 ,  1.61744451],\n",
       "       [ 0.95949231, -0.98677596],\n",
       "       [-0.19654439,  0.90062625],\n",
       "       [-0.12725148, -0.3159919 ],\n",
       "       [ 1.70901061, -1.25640485],\n",
       "       [-1.35258109,  1.03872885],\n",
       "       [ 0.78510516,  0.41397899],\n",
       "       [-0.48872949, -0.89470756],\n",
       "       [-0.86522096,  0.8808973 ],\n",
       "       [-1.3583555 ,  0.16407904],\n",
       "       [-0.40788776, -0.60534973],\n",
       "       [-0.34436926, -0.38175505],\n",
       "       [ 0.52756651, -0.33572085],\n",
       "       [-1.15047677,  0.22984219],\n",
       "       [ 1.22511513,  0.25614744],\n",
       "       [ 0.27811204,  1.23601828],\n",
       "       [ 1.12464041, -0.42778925],\n",
       "       [ 1.12233065,  1.2031367 ],\n",
       "       [ 1.05996703, -1.30243905],\n",
       "       [ 0.08062725,  0.81513416],\n",
       "       [ 0.31737802, -1.01308122],\n",
       "       [ 1.2204956 ,  0.46001319],\n",
       "       [ 0.48714565, -0.14500773],\n",
       "       [ 0.92022633, -1.30243905],\n",
       "       [-0.15381376, -1.15118382],\n",
       "       [ 0.85555295,  1.36096825],\n",
       "       [-1.421874  , -0.20419456],\n",
       "       [-1.49694131, -1.49972848],\n",
       "       [-0.60421767, -1.50630479],\n",
       "       [-1.43226793, -0.73029971],\n",
       "       [ 0.70888296,  0.63757367],\n",
       "       [-1.56392446,  0.32191059],\n",
       "       [ 0.05291009,  0.04570538],\n",
       "       [-0.74511325,  1.55168136],\n",
       "       [ 0.98489971,  0.95323676],\n",
       "       [ 0.71927689,  1.43988402],\n",
       "       [ 1.00222294,  0.59811579],\n",
       "       [ 1.6974618 ,  1.25574722],\n",
       "       [-0.22657131,  0.74937102],\n",
       "       [-1.42418376, -0.47382345],\n",
       "       [ 0.46058337,  1.51222348],\n",
       "       [ 1.41913528, -0.21077087],\n",
       "       [ 0.26425346, -0.86840231],\n",
       "       [ 0.87518594, -1.17091276],\n",
       "       [-1.35951038, -0.80263916],\n",
       "       [ 1.03224987, -0.96047071],\n",
       "       [-1.15163165,  0.17723167]])"
      ]
     },
     "execution_count": 27,
     "metadata": {},
     "output_type": "execute_result"
    }
   ],
   "source": [
    "X_test"
   ]
  },
  {
   "cell_type": "code",
   "execution_count": 28,
   "id": "fe8db98f-0e81-4214-bb80-2eca18cf380f",
   "metadata": {},
   "outputs": [],
   "source": [
    "from sklearn.linear_model import LinearRegression"
   ]
  },
  {
   "cell_type": "code",
   "execution_count": 29,
   "id": "4c504696-b99f-4d6f-aa52-b468e23d1196",
   "metadata": {},
   "outputs": [],
   "source": [
    "lr=LinearRegression()"
   ]
  },
  {
   "cell_type": "code",
   "execution_count": 30,
   "id": "65e750f4-09d4-4acf-9016-c0b0689bf694",
   "metadata": {},
   "outputs": [
    {
     "data": {
      "text/html": [
       "<style>#sk-container-id-1 {color: black;background-color: white;}#sk-container-id-1 pre{padding: 0;}#sk-container-id-1 div.sk-toggleable {background-color: white;}#sk-container-id-1 label.sk-toggleable__label {cursor: pointer;display: block;width: 100%;margin-bottom: 0;padding: 0.3em;box-sizing: border-box;text-align: center;}#sk-container-id-1 label.sk-toggleable__label-arrow:before {content: \"▸\";float: left;margin-right: 0.25em;color: #696969;}#sk-container-id-1 label.sk-toggleable__label-arrow:hover:before {color: black;}#sk-container-id-1 div.sk-estimator:hover label.sk-toggleable__label-arrow:before {color: black;}#sk-container-id-1 div.sk-toggleable__content {max-height: 0;max-width: 0;overflow: hidden;text-align: left;background-color: #f0f8ff;}#sk-container-id-1 div.sk-toggleable__content pre {margin: 0.2em;color: black;border-radius: 0.25em;background-color: #f0f8ff;}#sk-container-id-1 input.sk-toggleable__control:checked~div.sk-toggleable__content {max-height: 200px;max-width: 100%;overflow: auto;}#sk-container-id-1 input.sk-toggleable__control:checked~label.sk-toggleable__label-arrow:before {content: \"▾\";}#sk-container-id-1 div.sk-estimator input.sk-toggleable__control:checked~label.sk-toggleable__label {background-color: #d4ebff;}#sk-container-id-1 div.sk-label input.sk-toggleable__control:checked~label.sk-toggleable__label {background-color: #d4ebff;}#sk-container-id-1 input.sk-hidden--visually {border: 0;clip: rect(1px 1px 1px 1px);clip: rect(1px, 1px, 1px, 1px);height: 1px;margin: -1px;overflow: hidden;padding: 0;position: absolute;width: 1px;}#sk-container-id-1 div.sk-estimator {font-family: monospace;background-color: #f0f8ff;border: 1px dotted black;border-radius: 0.25em;box-sizing: border-box;margin-bottom: 0.5em;}#sk-container-id-1 div.sk-estimator:hover {background-color: #d4ebff;}#sk-container-id-1 div.sk-parallel-item::after {content: \"\";width: 100%;border-bottom: 1px solid gray;flex-grow: 1;}#sk-container-id-1 div.sk-label:hover label.sk-toggleable__label {background-color: #d4ebff;}#sk-container-id-1 div.sk-serial::before {content: \"\";position: absolute;border-left: 1px solid gray;box-sizing: border-box;top: 0;bottom: 0;left: 50%;z-index: 0;}#sk-container-id-1 div.sk-serial {display: flex;flex-direction: column;align-items: center;background-color: white;padding-right: 0.2em;padding-left: 0.2em;position: relative;}#sk-container-id-1 div.sk-item {position: relative;z-index: 1;}#sk-container-id-1 div.sk-parallel {display: flex;align-items: stretch;justify-content: center;background-color: white;position: relative;}#sk-container-id-1 div.sk-item::before, #sk-container-id-1 div.sk-parallel-item::before {content: \"\";position: absolute;border-left: 1px solid gray;box-sizing: border-box;top: 0;bottom: 0;left: 50%;z-index: -1;}#sk-container-id-1 div.sk-parallel-item {display: flex;flex-direction: column;z-index: 1;position: relative;background-color: white;}#sk-container-id-1 div.sk-parallel-item:first-child::after {align-self: flex-end;width: 50%;}#sk-container-id-1 div.sk-parallel-item:last-child::after {align-self: flex-start;width: 50%;}#sk-container-id-1 div.sk-parallel-item:only-child::after {width: 0;}#sk-container-id-1 div.sk-dashed-wrapped {border: 1px dashed gray;margin: 0 0.4em 0.5em 0.4em;box-sizing: border-box;padding-bottom: 0.4em;background-color: white;}#sk-container-id-1 div.sk-label label {font-family: monospace;font-weight: bold;display: inline-block;line-height: 1.2em;}#sk-container-id-1 div.sk-label-container {text-align: center;}#sk-container-id-1 div.sk-container {/* jupyter's `normalize.less` sets `[hidden] { display: none; }` but bootstrap.min.css set `[hidden] { display: none !important; }` so we also need the `!important` here to be able to override the default hidden behavior on the sphinx rendered scikit-learn.org. See: https://github.com/scikit-learn/scikit-learn/issues/21755 */display: inline-block !important;position: relative;}#sk-container-id-1 div.sk-text-repr-fallback {display: none;}</style><div id=\"sk-container-id-1\" class=\"sk-top-container\"><div class=\"sk-text-repr-fallback\"><pre>LinearRegression()</pre><b>In a Jupyter environment, please rerun this cell to show the HTML representation or trust the notebook. <br />On GitHub, the HTML representation is unable to render, please try loading this page with nbviewer.org.</b></div><div class=\"sk-container\" hidden><div class=\"sk-item\"><div class=\"sk-estimator sk-toggleable\"><input class=\"sk-toggleable__control sk-hidden--visually\" id=\"sk-estimator-id-1\" type=\"checkbox\" checked><label for=\"sk-estimator-id-1\" class=\"sk-toggleable__label sk-toggleable__label-arrow\">LinearRegression</label><div class=\"sk-toggleable__content\"><pre>LinearRegression()</pre></div></div></div></div></div>"
      ],
      "text/plain": [
       "LinearRegression()"
      ]
     },
     "execution_count": 30,
     "metadata": {},
     "output_type": "execute_result"
    }
   ],
   "source": [
    "#train the model with 70% data, use inbuilt method fit() of LinearRegression class\n",
    "lr.fit(X_train,Y_train)"
   ]
  },
  {
   "cell_type": "code",
   "execution_count": 31,
   "id": "17dc6e08-6eea-4d55-9947-e4471b412046",
   "metadata": {},
   "outputs": [
    {
     "data": {
      "text/plain": [
       "array([4.06756287, 2.70136813])"
      ]
     },
     "execution_count": 31,
     "metadata": {},
     "output_type": "execute_result"
    }
   ],
   "source": [
    "#check slope or gradient or coefficient of each inputs use ibuilt attributes of LinearRegression --- coef_\n",
    "lr.coef_"
   ]
  },
  {
   "cell_type": "code",
   "execution_count": 32,
   "id": "ce3818e4-864f-4b9c-95f1-07427d2e9da1",
   "metadata": {},
   "outputs": [
    {
     "data": {
      "text/plain": [
       "Index(['TV', 'radio'], dtype='object')"
      ]
     },
     "execution_count": 32,
     "metadata": {},
     "output_type": "execute_result"
    }
   ],
   "source": [
    "#to show columns name\n",
    "X.columns"
   ]
  },
  {
   "cell_type": "code",
   "execution_count": 33,
   "id": "8eea31c7-5bf9-44e1-9534-b8c8b9368ac6",
   "metadata": {},
   "outputs": [
    {
     "data": {
      "text/plain": [
       "13.79142857142857"
      ]
     },
     "execution_count": 33,
     "metadata": {},
     "output_type": "execute_result"
    }
   ],
   "source": [
    "#check intercept, use inbuilt attributes intercept_ of LinearRegression class\n",
    "\n",
    "lr.intercept_"
   ]
  },
  {
   "cell_type": "code",
   "execution_count": 34,
   "id": "f1ffd3c7-17ee-4b31-8f91-b21b309f21a7",
   "metadata": {},
   "outputs": [],
   "source": [
    "#test the model with 30% data , use inbuilt method predit() of LinearRegression class\n",
    "\n",
    "Y_pred=lr.predict(X_test)"
   ]
  },
  {
   "cell_type": "code",
   "execution_count": 35,
   "id": "41bfd875-b6d7-466e-81b1-63d78efb9f27",
   "metadata": {},
   "outputs": [
    {
     "data": {
      "text/plain": [
       "array([21.6786746 , 16.43892004,  7.70903733, 17.92158421, 18.67111499,\n",
       "       23.74835071, 16.24962798, 13.37657045,  9.12364788, 17.27585015,\n",
       "       14.40513872,  9.85730919, 17.31402746, 16.61437382, 15.02857874,\n",
       "       15.42489496, 12.42021473, 17.34892466, 11.09570896, 18.10320281,\n",
       "        9.38655615, 12.65171582,  8.70947008, 10.49704698, 11.35942404,\n",
       "       15.03043294,  9.73268033, 19.46660993, 18.26160716, 17.21035792,\n",
       "       21.60669421, 14.58454377, 16.32136242, 12.3456783 , 19.99853614,\n",
       "       15.38120487, 14.01613968, 10.05601014, 20.94792024,  7.45626202,\n",
       "        3.65120693,  7.26465144,  5.99278035, 18.39717578,  8.2996665 ,\n",
       "       14.13011074, 14.95229617, 20.37261349, 20.60678937, 19.48376432,\n",
       "       24.08819667, 14.89416249,  6.71850002, 19.74995269, 18.99448081,\n",
       "       12.52042181, 14.18823598,  6.09331077, 15.39558485,  9.58586241])"
      ]
     },
     "execution_count": 35,
     "metadata": {},
     "output_type": "execute_result"
    }
   ],
   "source": [
    "Y_pred"
   ]
  },
  {
   "cell_type": "code",
   "execution_count": 36,
   "id": "db36bd2a-48d7-48e0-b634-59b2102e6b47",
   "metadata": {},
   "outputs": [
    {
     "data": {
      "text/html": [
       "<div>\n",
       "<style scoped>\n",
       "    .dataframe tbody tr th:only-of-type {\n",
       "        vertical-align: middle;\n",
       "    }\n",
       "\n",
       "    .dataframe tbody tr th {\n",
       "        vertical-align: top;\n",
       "    }\n",
       "\n",
       "    .dataframe thead th {\n",
       "        text-align: right;\n",
       "    }\n",
       "</style>\n",
       "<table border=\"1\" class=\"dataframe\">\n",
       "  <thead>\n",
       "    <tr style=\"text-align: right;\">\n",
       "      <th></th>\n",
       "      <th>Actual Output</th>\n",
       "      <th>Predicted Output</th>\n",
       "    </tr>\n",
       "  </thead>\n",
       "  <tbody>\n",
       "    <tr>\n",
       "      <th>58</th>\n",
       "      <td>23.8</td>\n",
       "      <td>21.678675</td>\n",
       "    </tr>\n",
       "    <tr>\n",
       "      <th>40</th>\n",
       "      <td>16.6</td>\n",
       "      <td>16.438920</td>\n",
       "    </tr>\n",
       "    <tr>\n",
       "      <th>34</th>\n",
       "      <td>9.5</td>\n",
       "      <td>7.709037</td>\n",
       "    </tr>\n",
       "    <tr>\n",
       "      <th>102</th>\n",
       "      <td>14.8</td>\n",
       "      <td>17.921584</td>\n",
       "    </tr>\n",
       "    <tr>\n",
       "      <th>184</th>\n",
       "      <td>17.6</td>\n",
       "      <td>18.671115</td>\n",
       "    </tr>\n",
       "    <tr>\n",
       "      <th>198</th>\n",
       "      <td>25.5</td>\n",
       "      <td>23.748351</td>\n",
       "    </tr>\n",
       "    <tr>\n",
       "      <th>95</th>\n",
       "      <td>16.9</td>\n",
       "      <td>16.249628</td>\n",
       "    </tr>\n",
       "    <tr>\n",
       "      <th>4</th>\n",
       "      <td>12.9</td>\n",
       "      <td>13.376570</td>\n",
       "    </tr>\n",
       "    <tr>\n",
       "      <th>29</th>\n",
       "      <td>10.5</td>\n",
       "      <td>9.123648</td>\n",
       "    </tr>\n",
       "    <tr>\n",
       "      <th>168</th>\n",
       "      <td>17.1</td>\n",
       "      <td>17.275850</td>\n",
       "    </tr>\n",
       "    <tr>\n",
       "      <th>171</th>\n",
       "      <td>14.5</td>\n",
       "      <td>14.405139</td>\n",
       "    </tr>\n",
       "    <tr>\n",
       "      <th>18</th>\n",
       "      <td>11.3</td>\n",
       "      <td>9.857309</td>\n",
       "    </tr>\n",
       "    <tr>\n",
       "      <th>11</th>\n",
       "      <td>17.4</td>\n",
       "      <td>17.314027</td>\n",
       "    </tr>\n",
       "    <tr>\n",
       "      <th>89</th>\n",
       "      <td>16.7</td>\n",
       "      <td>16.614374</td>\n",
       "    </tr>\n",
       "    <tr>\n",
       "      <th>110</th>\n",
       "      <td>13.4</td>\n",
       "      <td>15.028579</td>\n",
       "    </tr>\n",
       "    <tr>\n",
       "      <th>118</th>\n",
       "      <td>15.9</td>\n",
       "      <td>15.424895</td>\n",
       "    </tr>\n",
       "    <tr>\n",
       "      <th>159</th>\n",
       "      <td>12.9</td>\n",
       "      <td>12.420215</td>\n",
       "    </tr>\n",
       "    <tr>\n",
       "      <th>35</th>\n",
       "      <td>12.8</td>\n",
       "      <td>17.348925</td>\n",
       "    </tr>\n",
       "    <tr>\n",
       "      <th>136</th>\n",
       "      <td>9.5</td>\n",
       "      <td>11.095709</td>\n",
       "    </tr>\n",
       "    <tr>\n",
       "      <th>59</th>\n",
       "      <td>18.4</td>\n",
       "      <td>18.103203</td>\n",
       "    </tr>\n",
       "    <tr>\n",
       "      <th>51</th>\n",
       "      <td>10.7</td>\n",
       "      <td>9.386556</td>\n",
       "    </tr>\n",
       "    <tr>\n",
       "      <th>16</th>\n",
       "      <td>12.5</td>\n",
       "      <td>12.651716</td>\n",
       "    </tr>\n",
       "    <tr>\n",
       "      <th>44</th>\n",
       "      <td>8.5</td>\n",
       "      <td>8.709470</td>\n",
       "    </tr>\n",
       "    <tr>\n",
       "      <th>94</th>\n",
       "      <td>11.5</td>\n",
       "      <td>10.497047</td>\n",
       "    </tr>\n",
       "    <tr>\n",
       "      <th>31</th>\n",
       "      <td>11.9</td>\n",
       "      <td>11.359424</td>\n",
       "    </tr>\n",
       "    <tr>\n",
       "      <th>162</th>\n",
       "      <td>14.9</td>\n",
       "      <td>15.030433</td>\n",
       "    </tr>\n",
       "    <tr>\n",
       "      <th>38</th>\n",
       "      <td>10.1</td>\n",
       "      <td>9.732680</td>\n",
       "    </tr>\n",
       "    <tr>\n",
       "      <th>28</th>\n",
       "      <td>18.9</td>\n",
       "      <td>19.466610</td>\n",
       "    </tr>\n",
       "    <tr>\n",
       "      <th>193</th>\n",
       "      <td>19.6</td>\n",
       "      <td>18.261607</td>\n",
       "    </tr>\n",
       "    <tr>\n",
       "      <th>27</th>\n",
       "      <td>15.9</td>\n",
       "      <td>17.210358</td>\n",
       "    </tr>\n",
       "    <tr>\n",
       "      <th>47</th>\n",
       "      <td>23.2</td>\n",
       "      <td>21.606694</td>\n",
       "    </tr>\n",
       "    <tr>\n",
       "      <th>165</th>\n",
       "      <td>11.9</td>\n",
       "      <td>14.584544</td>\n",
       "    </tr>\n",
       "    <tr>\n",
       "      <th>194</th>\n",
       "      <td>17.3</td>\n",
       "      <td>16.321362</td>\n",
       "    </tr>\n",
       "    <tr>\n",
       "      <th>177</th>\n",
       "      <td>11.7</td>\n",
       "      <td>12.345678</td>\n",
       "    </tr>\n",
       "    <tr>\n",
       "      <th>176</th>\n",
       "      <td>20.2</td>\n",
       "      <td>19.998536</td>\n",
       "    </tr>\n",
       "    <tr>\n",
       "      <th>97</th>\n",
       "      <td>15.5</td>\n",
       "      <td>15.381205</td>\n",
       "    </tr>\n",
       "    <tr>\n",
       "      <th>174</th>\n",
       "      <td>11.5</td>\n",
       "      <td>14.016140</td>\n",
       "    </tr>\n",
       "    <tr>\n",
       "      <th>73</th>\n",
       "      <td>11.0</td>\n",
       "      <td>10.056010</td>\n",
       "    </tr>\n",
       "    <tr>\n",
       "      <th>69</th>\n",
       "      <td>22.3</td>\n",
       "      <td>20.947920</td>\n",
       "    </tr>\n",
       "    <tr>\n",
       "      <th>172</th>\n",
       "      <td>7.6</td>\n",
       "      <td>7.456262</td>\n",
       "    </tr>\n",
       "    <tr>\n",
       "      <th>108</th>\n",
       "      <td>5.3</td>\n",
       "      <td>3.651207</td>\n",
       "    </tr>\n",
       "    <tr>\n",
       "      <th>107</th>\n",
       "      <td>8.7</td>\n",
       "      <td>7.264651</td>\n",
       "    </tr>\n",
       "    <tr>\n",
       "      <th>189</th>\n",
       "      <td>6.7</td>\n",
       "      <td>5.992780</td>\n",
       "    </tr>\n",
       "    <tr>\n",
       "      <th>14</th>\n",
       "      <td>19.0</td>\n",
       "      <td>18.397176</td>\n",
       "    </tr>\n",
       "    <tr>\n",
       "      <th>56</th>\n",
       "      <td>5.5</td>\n",
       "      <td>8.299666</td>\n",
       "    </tr>\n",
       "    <tr>\n",
       "      <th>19</th>\n",
       "      <td>14.6</td>\n",
       "      <td>14.130111</td>\n",
       "    </tr>\n",
       "    <tr>\n",
       "      <th>114</th>\n",
       "      <td>14.6</td>\n",
       "      <td>14.952296</td>\n",
       "    </tr>\n",
       "    <tr>\n",
       "      <th>39</th>\n",
       "      <td>21.5</td>\n",
       "      <td>20.372613</td>\n",
       "    </tr>\n",
       "    <tr>\n",
       "      <th>185</th>\n",
       "      <td>22.6</td>\n",
       "      <td>20.606789</td>\n",
       "    </tr>\n",
       "    <tr>\n",
       "      <th>124</th>\n",
       "      <td>19.7</td>\n",
       "      <td>19.483764</td>\n",
       "    </tr>\n",
       "    <tr>\n",
       "      <th>98</th>\n",
       "      <td>25.4</td>\n",
       "      <td>24.088197</td>\n",
       "    </tr>\n",
       "    <tr>\n",
       "      <th>123</th>\n",
       "      <td>15.2</td>\n",
       "      <td>14.894162</td>\n",
       "    </tr>\n",
       "    <tr>\n",
       "      <th>119</th>\n",
       "      <td>6.6</td>\n",
       "      <td>6.718500</td>\n",
       "    </tr>\n",
       "    <tr>\n",
       "      <th>53</th>\n",
       "      <td>21.2</td>\n",
       "      <td>19.749953</td>\n",
       "    </tr>\n",
       "    <tr>\n",
       "      <th>33</th>\n",
       "      <td>17.4</td>\n",
       "      <td>18.994481</td>\n",
       "    </tr>\n",
       "    <tr>\n",
       "      <th>179</th>\n",
       "      <td>12.6</td>\n",
       "      <td>12.520422</td>\n",
       "    </tr>\n",
       "    <tr>\n",
       "      <th>181</th>\n",
       "      <td>12.2</td>\n",
       "      <td>14.188236</td>\n",
       "    </tr>\n",
       "    <tr>\n",
       "      <th>106</th>\n",
       "      <td>7.2</td>\n",
       "      <td>6.093311</td>\n",
       "    </tr>\n",
       "    <tr>\n",
       "      <th>199</th>\n",
       "      <td>13.4</td>\n",
       "      <td>15.395585</td>\n",
       "    </tr>\n",
       "    <tr>\n",
       "      <th>138</th>\n",
       "      <td>9.6</td>\n",
       "      <td>9.585862</td>\n",
       "    </tr>\n",
       "  </tbody>\n",
       "</table>\n",
       "</div>"
      ],
      "text/plain": [
       "     Actual Output  Predicted Output\n",
       "58            23.8         21.678675\n",
       "40            16.6         16.438920\n",
       "34             9.5          7.709037\n",
       "102           14.8         17.921584\n",
       "184           17.6         18.671115\n",
       "198           25.5         23.748351\n",
       "95            16.9         16.249628\n",
       "4             12.9         13.376570\n",
       "29            10.5          9.123648\n",
       "168           17.1         17.275850\n",
       "171           14.5         14.405139\n",
       "18            11.3          9.857309\n",
       "11            17.4         17.314027\n",
       "89            16.7         16.614374\n",
       "110           13.4         15.028579\n",
       "118           15.9         15.424895\n",
       "159           12.9         12.420215\n",
       "35            12.8         17.348925\n",
       "136            9.5         11.095709\n",
       "59            18.4         18.103203\n",
       "51            10.7          9.386556\n",
       "16            12.5         12.651716\n",
       "44             8.5          8.709470\n",
       "94            11.5         10.497047\n",
       "31            11.9         11.359424\n",
       "162           14.9         15.030433\n",
       "38            10.1          9.732680\n",
       "28            18.9         19.466610\n",
       "193           19.6         18.261607\n",
       "27            15.9         17.210358\n",
       "47            23.2         21.606694\n",
       "165           11.9         14.584544\n",
       "194           17.3         16.321362\n",
       "177           11.7         12.345678\n",
       "176           20.2         19.998536\n",
       "97            15.5         15.381205\n",
       "174           11.5         14.016140\n",
       "73            11.0         10.056010\n",
       "69            22.3         20.947920\n",
       "172            7.6          7.456262\n",
       "108            5.3          3.651207\n",
       "107            8.7          7.264651\n",
       "189            6.7          5.992780\n",
       "14            19.0         18.397176\n",
       "56             5.5          8.299666\n",
       "19            14.6         14.130111\n",
       "114           14.6         14.952296\n",
       "39            21.5         20.372613\n",
       "185           22.6         20.606789\n",
       "124           19.7         19.483764\n",
       "98            25.4         24.088197\n",
       "123           15.2         14.894162\n",
       "119            6.6          6.718500\n",
       "53            21.2         19.749953\n",
       "33            17.4         18.994481\n",
       "179           12.6         12.520422\n",
       "181           12.2         14.188236\n",
       "106            7.2          6.093311\n",
       "199           13.4         15.395585\n",
       "138            9.6          9.585862"
      ]
     },
     "execution_count": 36,
     "metadata": {},
     "output_type": "execute_result"
    }
   ],
   "source": [
    "#actual output is in Y_test, Predicted output in Y_pred\n",
    "#create a dictionary\n",
    "\n",
    "dict={'Actual Output':Y_test, 'Predicted Output': Y_pred}\n",
    "df1=pd.DataFrame(dict)\n",
    "df1"
   ]
  },
  {
   "cell_type": "code",
   "execution_count": 37,
   "id": "1d5a6689-4d54-4208-abc6-9e567f8bc896",
   "metadata": {},
   "outputs": [
    {
     "data": {
      "text/plain": [
       "1.9147050289721792"
      ]
     },
     "execution_count": 37,
     "metadata": {},
     "output_type": "execute_result"
    }
   ],
   "source": [
    "#mean_squared_error\n",
    "\n",
    "from sklearn.metrics import mean_squared_error\n",
    "mse=mean_squared_error(Y_test,Y_pred)\n",
    "mse"
   ]
  },
  {
   "cell_type": "code",
   "execution_count": 38,
   "id": "de3a34a4-942c-4488-a5b3-a58175688fd4",
   "metadata": {},
   "outputs": [
    {
     "name": "stdout",
     "output_type": "stream",
     "text": [
      "Training score :  0.88\n"
     ]
    }
   ],
   "source": [
    "#cross check : model is correct or not?\n",
    "\n",
    "#first check model is underfilt or not?\n",
    "\n",
    "#if model is not underfit then check model is overfit or not?\n",
    "\n",
    "#underfit score : training score< testing score\n",
    "#overfit score : training score > testing score\n",
    "\n",
    "#Evalluation of model\n",
    "\n",
    "#first find the training score : use inbuilt method score() of LinearRegression class\n",
    "\n",
    "score1=lr.score(X_train,Y_train)\n",
    "score1=np.round(score1,2)\n",
    "print(\"Training score : \", score1)\n"
   ]
  },
  {
   "cell_type": "code",
   "execution_count": 39,
   "id": "7290a07a-dcfd-40a7-b515-14a3932169d8",
   "metadata": {},
   "outputs": [
    {
     "name": "stdout",
     "output_type": "stream",
     "text": [
      "Testing Score :  0.92\n"
     ]
    }
   ],
   "source": [
    "score2=lr.score(X_test,Y_test)\n",
    "score2=np.round(score2,2)\n",
    "print(\"Testing Score : \", score2)"
   ]
  },
  {
   "cell_type": "code",
   "execution_count": 40,
   "id": "8206677a-2dc7-4b5a-ad03-fa345f1f55cd",
   "metadata": {},
   "outputs": [],
   "source": [
    "#here training score is less than testing score means model is underfit\n",
    "\n",
    "#to overcome or remove underfit problem of model , add new features(input) in given dataset\n",
    "\n",
    "#here input : TV and radio"
   ]
  },
  {
   "cell_type": "code",
   "execution_count": 41,
   "id": "ec0a5f15-1bbb-4501-b08c-48bd91a55a56",
   "metadata": {},
   "outputs": [],
   "source": [
    "#Polynomial Linear Regression :\n",
    "\n",
    "#if model is underfit in multiple linear regression then use polynomial linear regression\n"
   ]
  },
  {
   "cell_type": "code",
   "execution_count": 42,
   "id": "af0ab396-5cae-416f-afe0-fe3444bd2d90",
   "metadata": {},
   "outputs": [],
   "source": [
    "#In polynomial Linear regression we will increase the degree"
   ]
  },
  {
   "cell_type": "code",
   "execution_count": 43,
   "id": "42ea3527-51be-4002-947a-6675c55f2598",
   "metadata": {},
   "outputs": [],
   "source": [
    "from sklearn.preprocessing import PolynomialFeatures"
   ]
  },
  {
   "cell_type": "code",
   "execution_count": 44,
   "id": "d6288636-b9b9-465d-af52-e8e095aa9987",
   "metadata": {},
   "outputs": [],
   "source": [
    "#create the object of Polynomial Features class and passing the dregree supoese pass degree =2\n",
    "\n",
    "pf=PolynomialFeatures(3)"
   ]
  },
  {
   "cell_type": "code",
   "execution_count": 45,
   "id": "fb529dd3-d3cc-4e64-85e7-5e4a3eea45c3",
   "metadata": {},
   "outputs": [
    {
     "data": {
      "text/plain": [
       "array([[1.00000000e+00, 2.30100000e+02, 3.78000000e+01, ...,\n",
       "        2.00135918e+06, 3.28776084e+05, 5.40101520e+04],\n",
       "       [1.00000000e+00, 4.45000000e+01, 3.93000000e+01, ...,\n",
       "        7.78238250e+04, 6.87298050e+04, 6.06984570e+04],\n",
       "       [1.00000000e+00, 1.72000000e+01, 4.59000000e+01, ...,\n",
       "        1.35790560e+04, 3.62371320e+04, 9.67025790e+04],\n",
       "       ...,\n",
       "       [1.00000000e+00, 1.77000000e+02, 9.30000000e+00, ...,\n",
       "        2.91359700e+05, 1.53087300e+04, 8.04357000e+02],\n",
       "       [1.00000000e+00, 2.83600000e+02, 4.20000000e+01, ...,\n",
       "        3.37801632e+06, 5.00270400e+05, 7.40880000e+04],\n",
       "       [1.00000000e+00, 2.32100000e+02, 8.60000000e+00, ...,\n",
       "        4.63285526e+05, 1.71661160e+04, 6.36056000e+02]])"
      ]
     },
     "execution_count": 45,
     "metadata": {},
     "output_type": "execute_result"
    }
   ],
   "source": [
    "#increase the degree of input X.:TV and radio, use inbuild method fit_transform() of PolynomialFeatures class\n",
    "\n",
    "X_poly=pf.fit_transform(X)\n",
    "X_poly"
   ]
  },
  {
   "cell_type": "code",
   "execution_count": 46,
   "id": "3aba67fd-eb9a-4185-874d-49dc2ab075c6",
   "metadata": {},
   "outputs": [
    {
     "data": {
      "text/plain": [
       "((200, 10), (200, 2))"
      ]
     },
     "execution_count": 46,
     "metadata": {},
     "output_type": "execute_result"
    }
   ],
   "source": [
    "X_poly.shape,X.shape"
   ]
  },
  {
   "cell_type": "code",
   "execution_count": 47,
   "id": "a804273e-e6e8-414a-af68-f8b16dc43f34",
   "metadata": {},
   "outputs": [],
   "source": [
    "#train_test_split : means to split data into 70% and 30%\n",
    "\n",
    "X_train, X_test, Y_train, Y_test= train_test_split(X_poly,Y,test_size=0.3, random_state=1)"
   ]
  },
  {
   "cell_type": "code",
   "execution_count": 48,
   "id": "a164df3d-f134-4d0f-bd7f-48fe01b5d0f5",
   "metadata": {},
   "outputs": [
    {
     "data": {
      "text/plain": [
       "((140, 10), (60, 10))"
      ]
     },
     "execution_count": 48,
     "metadata": {},
     "output_type": "execute_result"
    }
   ],
   "source": [
    "X_train.shape, X_test.shape"
   ]
  },
  {
   "cell_type": "code",
   "execution_count": 49,
   "id": "13613179-ddef-41a4-910f-080c1e7d6c76",
   "metadata": {},
   "outputs": [
    {
     "data": {
      "text/plain": [
       "((140,), (60,))"
      ]
     },
     "execution_count": 49,
     "metadata": {},
     "output_type": "execute_result"
    }
   ],
   "source": [
    "Y_train.shape, Y_test.shape"
   ]
  },
  {
   "cell_type": "code",
   "execution_count": 50,
   "id": "7ac864f5-bebb-47b2-a033-8cfcb49d902a",
   "metadata": {},
   "outputs": [],
   "source": [
    "#perform the model with LinearRegression .\n",
    "lr=LinearRegression()"
   ]
  },
  {
   "cell_type": "code",
   "execution_count": 51,
   "id": "d40d5fb4-9616-4ab4-830d-aede8a854725",
   "metadata": {},
   "outputs": [
    {
     "data": {
      "text/html": [
       "<style>#sk-container-id-2 {color: black;background-color: white;}#sk-container-id-2 pre{padding: 0;}#sk-container-id-2 div.sk-toggleable {background-color: white;}#sk-container-id-2 label.sk-toggleable__label {cursor: pointer;display: block;width: 100%;margin-bottom: 0;padding: 0.3em;box-sizing: border-box;text-align: center;}#sk-container-id-2 label.sk-toggleable__label-arrow:before {content: \"▸\";float: left;margin-right: 0.25em;color: #696969;}#sk-container-id-2 label.sk-toggleable__label-arrow:hover:before {color: black;}#sk-container-id-2 div.sk-estimator:hover label.sk-toggleable__label-arrow:before {color: black;}#sk-container-id-2 div.sk-toggleable__content {max-height: 0;max-width: 0;overflow: hidden;text-align: left;background-color: #f0f8ff;}#sk-container-id-2 div.sk-toggleable__content pre {margin: 0.2em;color: black;border-radius: 0.25em;background-color: #f0f8ff;}#sk-container-id-2 input.sk-toggleable__control:checked~div.sk-toggleable__content {max-height: 200px;max-width: 100%;overflow: auto;}#sk-container-id-2 input.sk-toggleable__control:checked~label.sk-toggleable__label-arrow:before {content: \"▾\";}#sk-container-id-2 div.sk-estimator input.sk-toggleable__control:checked~label.sk-toggleable__label {background-color: #d4ebff;}#sk-container-id-2 div.sk-label input.sk-toggleable__control:checked~label.sk-toggleable__label {background-color: #d4ebff;}#sk-container-id-2 input.sk-hidden--visually {border: 0;clip: rect(1px 1px 1px 1px);clip: rect(1px, 1px, 1px, 1px);height: 1px;margin: -1px;overflow: hidden;padding: 0;position: absolute;width: 1px;}#sk-container-id-2 div.sk-estimator {font-family: monospace;background-color: #f0f8ff;border: 1px dotted black;border-radius: 0.25em;box-sizing: border-box;margin-bottom: 0.5em;}#sk-container-id-2 div.sk-estimator:hover {background-color: #d4ebff;}#sk-container-id-2 div.sk-parallel-item::after {content: \"\";width: 100%;border-bottom: 1px solid gray;flex-grow: 1;}#sk-container-id-2 div.sk-label:hover label.sk-toggleable__label {background-color: #d4ebff;}#sk-container-id-2 div.sk-serial::before {content: \"\";position: absolute;border-left: 1px solid gray;box-sizing: border-box;top: 0;bottom: 0;left: 50%;z-index: 0;}#sk-container-id-2 div.sk-serial {display: flex;flex-direction: column;align-items: center;background-color: white;padding-right: 0.2em;padding-left: 0.2em;position: relative;}#sk-container-id-2 div.sk-item {position: relative;z-index: 1;}#sk-container-id-2 div.sk-parallel {display: flex;align-items: stretch;justify-content: center;background-color: white;position: relative;}#sk-container-id-2 div.sk-item::before, #sk-container-id-2 div.sk-parallel-item::before {content: \"\";position: absolute;border-left: 1px solid gray;box-sizing: border-box;top: 0;bottom: 0;left: 50%;z-index: -1;}#sk-container-id-2 div.sk-parallel-item {display: flex;flex-direction: column;z-index: 1;position: relative;background-color: white;}#sk-container-id-2 div.sk-parallel-item:first-child::after {align-self: flex-end;width: 50%;}#sk-container-id-2 div.sk-parallel-item:last-child::after {align-self: flex-start;width: 50%;}#sk-container-id-2 div.sk-parallel-item:only-child::after {width: 0;}#sk-container-id-2 div.sk-dashed-wrapped {border: 1px dashed gray;margin: 0 0.4em 0.5em 0.4em;box-sizing: border-box;padding-bottom: 0.4em;background-color: white;}#sk-container-id-2 div.sk-label label {font-family: monospace;font-weight: bold;display: inline-block;line-height: 1.2em;}#sk-container-id-2 div.sk-label-container {text-align: center;}#sk-container-id-2 div.sk-container {/* jupyter's `normalize.less` sets `[hidden] { display: none; }` but bootstrap.min.css set `[hidden] { display: none !important; }` so we also need the `!important` here to be able to override the default hidden behavior on the sphinx rendered scikit-learn.org. See: https://github.com/scikit-learn/scikit-learn/issues/21755 */display: inline-block !important;position: relative;}#sk-container-id-2 div.sk-text-repr-fallback {display: none;}</style><div id=\"sk-container-id-2\" class=\"sk-top-container\"><div class=\"sk-text-repr-fallback\"><pre>LinearRegression()</pre><b>In a Jupyter environment, please rerun this cell to show the HTML representation or trust the notebook. <br />On GitHub, the HTML representation is unable to render, please try loading this page with nbviewer.org.</b></div><div class=\"sk-container\" hidden><div class=\"sk-item\"><div class=\"sk-estimator sk-toggleable\"><input class=\"sk-toggleable__control sk-hidden--visually\" id=\"sk-estimator-id-2\" type=\"checkbox\" checked><label for=\"sk-estimator-id-2\" class=\"sk-toggleable__label sk-toggleable__label-arrow\">LinearRegression</label><div class=\"sk-toggleable__content\"><pre>LinearRegression()</pre></div></div></div></div></div>"
      ],
      "text/plain": [
       "LinearRegression()"
      ]
     },
     "execution_count": 51,
     "metadata": {},
     "output_type": "execute_result"
    }
   ],
   "source": [
    "lr.fit(X_train,Y_train)  #train the model with 70% data"
   ]
  },
  {
   "cell_type": "code",
   "execution_count": 52,
   "id": "595aea5a-4625-4ae1-b969-6f2549e6e152",
   "metadata": {},
   "outputs": [
    {
     "data": {
      "text/plain": [
       "array([ 0.00000000e+00,  9.16483199e-02,  2.25347616e-02, -4.65701531e-04,\n",
       "        1.30652795e-03, -1.62567917e-04,  8.31531755e-07, -7.44270012e-07,\n",
       "       -1.18928234e-06,  9.37589630e-06])"
      ]
     },
     "execution_count": 52,
     "metadata": {},
     "output_type": "execute_result"
    }
   ],
   "source": [
    "lr.coef_   #to check slope"
   ]
  },
  {
   "cell_type": "code",
   "execution_count": 53,
   "id": "8dff0b56-b51c-45dc-9cf6-9b47bf12282a",
   "metadata": {},
   "outputs": [
    {
     "data": {
      "text/plain": [
       "4.162147477193365"
      ]
     },
     "execution_count": 53,
     "metadata": {},
     "output_type": "execute_result"
    }
   ],
   "source": [
    "lr.intercept_    #to check intercept"
   ]
  },
  {
   "cell_type": "code",
   "execution_count": 54,
   "id": "d581a894-4dd4-481c-b87b-3c3bf1d79993",
   "metadata": {},
   "outputs": [],
   "source": [
    "Y_pred=lr.predict(X_test)  #to test the model by 30% data"
   ]
  },
  {
   "cell_type": "code",
   "execution_count": 55,
   "id": "7cf0e4bf-e84c-4ade-8cc2-c20daa3e5a70",
   "metadata": {},
   "outputs": [
    {
     "data": {
      "text/html": [
       "<div>\n",
       "<style scoped>\n",
       "    .dataframe tbody tr th:only-of-type {\n",
       "        vertical-align: middle;\n",
       "    }\n",
       "\n",
       "    .dataframe tbody tr th {\n",
       "        vertical-align: top;\n",
       "    }\n",
       "\n",
       "    .dataframe thead th {\n",
       "        text-align: right;\n",
       "    }\n",
       "</style>\n",
       "<table border=\"1\" class=\"dataframe\">\n",
       "  <thead>\n",
       "    <tr style=\"text-align: right;\">\n",
       "      <th></th>\n",
       "      <th>Actual output</th>\n",
       "      <th>Predicted output</th>\n",
       "    </tr>\n",
       "  </thead>\n",
       "  <tbody>\n",
       "    <tr>\n",
       "      <th>58</th>\n",
       "      <td>23.8</td>\n",
       "      <td>23.841888</td>\n",
       "    </tr>\n",
       "    <tr>\n",
       "      <th>40</th>\n",
       "      <td>16.6</td>\n",
       "      <td>16.154362</td>\n",
       "    </tr>\n",
       "    <tr>\n",
       "      <th>34</th>\n",
       "      <td>9.5</td>\n",
       "      <td>9.593118</td>\n",
       "    </tr>\n",
       "    <tr>\n",
       "      <th>102</th>\n",
       "      <td>14.8</td>\n",
       "      <td>14.865757</td>\n",
       "    </tr>\n",
       "    <tr>\n",
       "      <th>184</th>\n",
       "      <td>17.6</td>\n",
       "      <td>17.420540</td>\n",
       "    </tr>\n",
       "    <tr>\n",
       "      <th>198</th>\n",
       "      <td>25.5</td>\n",
       "      <td>25.472200</td>\n",
       "    </tr>\n",
       "    <tr>\n",
       "      <th>95</th>\n",
       "      <td>16.9</td>\n",
       "      <td>17.097140</td>\n",
       "    </tr>\n",
       "    <tr>\n",
       "      <th>4</th>\n",
       "      <td>12.9</td>\n",
       "      <td>12.923023</td>\n",
       "    </tr>\n",
       "    <tr>\n",
       "      <th>29</th>\n",
       "      <td>10.5</td>\n",
       "      <td>10.356254</td>\n",
       "    </tr>\n",
       "    <tr>\n",
       "      <th>168</th>\n",
       "      <td>17.1</td>\n",
       "      <td>16.854792</td>\n",
       "    </tr>\n",
       "    <tr>\n",
       "      <th>171</th>\n",
       "      <td>14.5</td>\n",
       "      <td>14.808870</td>\n",
       "    </tr>\n",
       "    <tr>\n",
       "      <th>18</th>\n",
       "      <td>11.3</td>\n",
       "      <td>10.769892</td>\n",
       "    </tr>\n",
       "    <tr>\n",
       "      <th>11</th>\n",
       "      <td>17.4</td>\n",
       "      <td>16.940170</td>\n",
       "    </tr>\n",
       "    <tr>\n",
       "      <th>89</th>\n",
       "      <td>16.7</td>\n",
       "      <td>17.571036</td>\n",
       "    </tr>\n",
       "    <tr>\n",
       "      <th>110</th>\n",
       "      <td>13.4</td>\n",
       "      <td>12.954220</td>\n",
       "    </tr>\n",
       "    <tr>\n",
       "      <th>118</th>\n",
       "      <td>15.9</td>\n",
       "      <td>16.479427</td>\n",
       "    </tr>\n",
       "    <tr>\n",
       "      <th>159</th>\n",
       "      <td>12.9</td>\n",
       "      <td>13.347708</td>\n",
       "    </tr>\n",
       "    <tr>\n",
       "      <th>35</th>\n",
       "      <td>12.8</td>\n",
       "      <td>13.260786</td>\n",
       "    </tr>\n",
       "    <tr>\n",
       "      <th>136</th>\n",
       "      <td>9.5</td>\n",
       "      <td>8.643959</td>\n",
       "    </tr>\n",
       "    <tr>\n",
       "      <th>59</th>\n",
       "      <td>18.4</td>\n",
       "      <td>18.268077</td>\n",
       "    </tr>\n",
       "    <tr>\n",
       "      <th>51</th>\n",
       "      <td>10.7</td>\n",
       "      <td>10.896747</td>\n",
       "    </tr>\n",
       "    <tr>\n",
       "      <th>16</th>\n",
       "      <td>12.5</td>\n",
       "      <td>12.569882</td>\n",
       "    </tr>\n",
       "    <tr>\n",
       "      <th>44</th>\n",
       "      <td>8.5</td>\n",
       "      <td>7.624229</td>\n",
       "    </tr>\n",
       "    <tr>\n",
       "      <th>94</th>\n",
       "      <td>11.5</td>\n",
       "      <td>11.792173</td>\n",
       "    </tr>\n",
       "    <tr>\n",
       "      <th>31</th>\n",
       "      <td>11.9</td>\n",
       "      <td>12.523031</td>\n",
       "    </tr>\n",
       "    <tr>\n",
       "      <th>162</th>\n",
       "      <td>14.9</td>\n",
       "      <td>14.773386</td>\n",
       "    </tr>\n",
       "    <tr>\n",
       "      <th>38</th>\n",
       "      <td>10.1</td>\n",
       "      <td>9.407978</td>\n",
       "    </tr>\n",
       "    <tr>\n",
       "      <th>28</th>\n",
       "      <td>18.9</td>\n",
       "      <td>18.964441</td>\n",
       "    </tr>\n",
       "    <tr>\n",
       "      <th>193</th>\n",
       "      <td>19.6</td>\n",
       "      <td>19.638868</td>\n",
       "    </tr>\n",
       "    <tr>\n",
       "      <th>27</th>\n",
       "      <td>15.9</td>\n",
       "      <td>15.646857</td>\n",
       "    </tr>\n",
       "    <tr>\n",
       "      <th>47</th>\n",
       "      <td>23.2</td>\n",
       "      <td>22.891192</td>\n",
       "    </tr>\n",
       "    <tr>\n",
       "      <th>165</th>\n",
       "      <td>11.9</td>\n",
       "      <td>11.741839</td>\n",
       "    </tr>\n",
       "    <tr>\n",
       "      <th>194</th>\n",
       "      <td>17.3</td>\n",
       "      <td>17.397822</td>\n",
       "    </tr>\n",
       "    <tr>\n",
       "      <th>177</th>\n",
       "      <td>11.7</td>\n",
       "      <td>12.094323</td>\n",
       "    </tr>\n",
       "    <tr>\n",
       "      <th>176</th>\n",
       "      <td>20.2</td>\n",
       "      <td>19.872794</td>\n",
       "    </tr>\n",
       "    <tr>\n",
       "      <th>97</th>\n",
       "      <td>15.5</td>\n",
       "      <td>15.373090</td>\n",
       "    </tr>\n",
       "    <tr>\n",
       "      <th>174</th>\n",
       "      <td>11.5</td>\n",
       "      <td>11.592242</td>\n",
       "    </tr>\n",
       "    <tr>\n",
       "      <th>73</th>\n",
       "      <td>11.0</td>\n",
       "      <td>11.037799</td>\n",
       "    </tr>\n",
       "    <tr>\n",
       "      <th>69</th>\n",
       "      <td>22.3</td>\n",
       "      <td>22.487360</td>\n",
       "    </tr>\n",
       "    <tr>\n",
       "      <th>172</th>\n",
       "      <td>7.6</td>\n",
       "      <td>6.748775</td>\n",
       "    </tr>\n",
       "    <tr>\n",
       "      <th>108</th>\n",
       "      <td>5.3</td>\n",
       "      <td>5.300472</td>\n",
       "    </tr>\n",
       "    <tr>\n",
       "      <th>107</th>\n",
       "      <td>8.7</td>\n",
       "      <td>9.296018</td>\n",
       "    </tr>\n",
       "    <tr>\n",
       "      <th>189</th>\n",
       "      <td>6.7</td>\n",
       "      <td>6.273259</td>\n",
       "    </tr>\n",
       "    <tr>\n",
       "      <th>14</th>\n",
       "      <td>19.0</td>\n",
       "      <td>18.927484</td>\n",
       "    </tr>\n",
       "    <tr>\n",
       "      <th>56</th>\n",
       "      <td>5.5</td>\n",
       "      <td>5.779619</td>\n",
       "    </tr>\n",
       "    <tr>\n",
       "      <th>19</th>\n",
       "      <td>14.6</td>\n",
       "      <td>14.902362</td>\n",
       "    </tr>\n",
       "    <tr>\n",
       "      <th>114</th>\n",
       "      <td>14.6</td>\n",
       "      <td>14.903319</td>\n",
       "    </tr>\n",
       "    <tr>\n",
       "      <th>39</th>\n",
       "      <td>21.5</td>\n",
       "      <td>21.211814</td>\n",
       "    </tr>\n",
       "    <tr>\n",
       "      <th>185</th>\n",
       "      <td>22.6</td>\n",
       "      <td>22.261408</td>\n",
       "    </tr>\n",
       "    <tr>\n",
       "      <th>124</th>\n",
       "      <td>19.7</td>\n",
       "      <td>19.726599</td>\n",
       "    </tr>\n",
       "    <tr>\n",
       "      <th>98</th>\n",
       "      <td>25.4</td>\n",
       "      <td>25.969396</td>\n",
       "    </tr>\n",
       "    <tr>\n",
       "      <th>123</th>\n",
       "      <td>15.2</td>\n",
       "      <td>15.910938</td>\n",
       "    </tr>\n",
       "    <tr>\n",
       "      <th>119</th>\n",
       "      <td>6.6</td>\n",
       "      <td>6.523425</td>\n",
       "    </tr>\n",
       "    <tr>\n",
       "      <th>53</th>\n",
       "      <td>21.2</td>\n",
       "      <td>21.462732</td>\n",
       "    </tr>\n",
       "    <tr>\n",
       "      <th>33</th>\n",
       "      <td>17.4</td>\n",
       "      <td>17.456169</td>\n",
       "    </tr>\n",
       "    <tr>\n",
       "      <th>179</th>\n",
       "      <td>12.6</td>\n",
       "      <td>12.502529</td>\n",
       "    </tr>\n",
       "    <tr>\n",
       "      <th>181</th>\n",
       "      <td>12.2</td>\n",
       "      <td>12.088481</td>\n",
       "    </tr>\n",
       "    <tr>\n",
       "      <th>106</th>\n",
       "      <td>7.2</td>\n",
       "      <td>6.766556</td>\n",
       "    </tr>\n",
       "    <tr>\n",
       "      <th>199</th>\n",
       "      <td>13.4</td>\n",
       "      <td>13.173522</td>\n",
       "    </tr>\n",
       "    <tr>\n",
       "      <th>138</th>\n",
       "      <td>9.6</td>\n",
       "      <td>9.330684</td>\n",
       "    </tr>\n",
       "  </tbody>\n",
       "</table>\n",
       "</div>"
      ],
      "text/plain": [
       "     Actual output  Predicted output\n",
       "58            23.8         23.841888\n",
       "40            16.6         16.154362\n",
       "34             9.5          9.593118\n",
       "102           14.8         14.865757\n",
       "184           17.6         17.420540\n",
       "198           25.5         25.472200\n",
       "95            16.9         17.097140\n",
       "4             12.9         12.923023\n",
       "29            10.5         10.356254\n",
       "168           17.1         16.854792\n",
       "171           14.5         14.808870\n",
       "18            11.3         10.769892\n",
       "11            17.4         16.940170\n",
       "89            16.7         17.571036\n",
       "110           13.4         12.954220\n",
       "118           15.9         16.479427\n",
       "159           12.9         13.347708\n",
       "35            12.8         13.260786\n",
       "136            9.5          8.643959\n",
       "59            18.4         18.268077\n",
       "51            10.7         10.896747\n",
       "16            12.5         12.569882\n",
       "44             8.5          7.624229\n",
       "94            11.5         11.792173\n",
       "31            11.9         12.523031\n",
       "162           14.9         14.773386\n",
       "38            10.1          9.407978\n",
       "28            18.9         18.964441\n",
       "193           19.6         19.638868\n",
       "27            15.9         15.646857\n",
       "47            23.2         22.891192\n",
       "165           11.9         11.741839\n",
       "194           17.3         17.397822\n",
       "177           11.7         12.094323\n",
       "176           20.2         19.872794\n",
       "97            15.5         15.373090\n",
       "174           11.5         11.592242\n",
       "73            11.0         11.037799\n",
       "69            22.3         22.487360\n",
       "172            7.6          6.748775\n",
       "108            5.3          5.300472\n",
       "107            8.7          9.296018\n",
       "189            6.7          6.273259\n",
       "14            19.0         18.927484\n",
       "56             5.5          5.779619\n",
       "19            14.6         14.902362\n",
       "114           14.6         14.903319\n",
       "39            21.5         21.211814\n",
       "185           22.6         22.261408\n",
       "124           19.7         19.726599\n",
       "98            25.4         25.969396\n",
       "123           15.2         15.910938\n",
       "119            6.6          6.523425\n",
       "53            21.2         21.462732\n",
       "33            17.4         17.456169\n",
       "179           12.6         12.502529\n",
       "181           12.2         12.088481\n",
       "106            7.2          6.766556\n",
       "199           13.4         13.173522\n",
       "138            9.6          9.330684"
      ]
     },
     "execution_count": 55,
     "metadata": {},
     "output_type": "execute_result"
    }
   ],
   "source": [
    "dict={'Actual output':Y_test, 'Predicted output' : Y_pred}\n",
    "df1=pd.DataFrame(dict)\n",
    "df1"
   ]
  },
  {
   "cell_type": "code",
   "execution_count": 56,
   "id": "e74dcbc6-e13c-458f-b57d-698705ec4788",
   "metadata": {},
   "outputs": [
    {
     "name": "stdout",
     "output_type": "stream",
     "text": [
      "Mean squared error :  0.144690786468091\n"
     ]
    }
   ],
   "source": [
    "#to check mean sauared error\n",
    "\n",
    "mse=mean_squared_error(Y_test,Y_pred)\n",
    "print(\"Mean squared error : \",mse)"
   ]
  },
  {
   "cell_type": "code",
   "execution_count": 57,
   "id": "4b24eef8-29d6-4074-9acd-c495645c3d04",
   "metadata": {},
   "outputs": [
    {
     "name": "stdout",
     "output_type": "stream",
     "text": [
      "Training Score :  0.99\n"
     ]
    }
   ],
   "source": [
    "#Evaluation the model\n",
    "score1=lr.score(X_train,Y_train)\n",
    "score1=np.round(score1,2)\n",
    "print(\"Training Score : \",score1) "
   ]
  },
  {
   "cell_type": "code",
   "execution_count": 58,
   "id": "e0aea087-fb5c-4ccb-9c93-d8fbb6b199f1",
   "metadata": {},
   "outputs": [
    {
     "name": "stdout",
     "output_type": "stream",
     "text": [
      "Testing Score :  0.99\n"
     ]
    }
   ],
   "source": [
    "#Evaluation the model\n",
    "score2=lr.score(X_test,Y_test)\n",
    "score2=np.round(score2,2)\n",
    "print(\"Testing Score : \",score2)"
   ]
  },
  {
   "cell_type": "code",
   "execution_count": 59,
   "id": "34758161-e3b4-4962-8178-9034fa833d73",
   "metadata": {},
   "outputs": [],
   "source": [
    "#here model is underfilt because trainging score < testing score\n",
    "#now go to the step where we have created polynomial Feature class object and increase the degree"
   ]
  },
  {
   "cell_type": "code",
   "execution_count": null,
   "id": "fcfdf0a8-676f-4613-bc59-e8fe28e10836",
   "metadata": {},
   "outputs": [],
   "source": [
    "#clearly : model is perfect on degree on input : 3\n",
    "#here model is no underfit or no overfit \n",
    "#here training score = testing score\n",
    "\n"
   ]
  }
 ],
 "metadata": {
  "kernelspec": {
   "display_name": "Python 3 (ipykernel)",
   "language": "python",
   "name": "python3"
  },
  "language_info": {
   "codemirror_mode": {
    "name": "ipython",
    "version": 3
   },
   "file_extension": ".py",
   "mimetype": "text/x-python",
   "name": "python",
   "nbconvert_exporter": "python",
   "pygments_lexer": "ipython3",
   "version": "3.11.7"
  }
 },
 "nbformat": 4,
 "nbformat_minor": 5
}
