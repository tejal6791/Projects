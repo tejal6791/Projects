{
 "cells": [
  {
   "cell_type": "code",
   "execution_count": 1,
   "id": "cae76362-6858-47fc-9312-24f6de07d1ec",
   "metadata": {},
   "outputs": [],
   "source": [
    "import pickle"
   ]
  },
  {
   "cell_type": "code",
   "execution_count": 2,
   "id": "ee9dad72-03cd-4274-989c-e30aab5f7e76",
   "metadata": {},
   "outputs": [],
   "source": [
    "#To read file in read binary mode\n",
    "\n",
    "#to open file in read mode for model\n",
    "file1=open(\"model.pkl\",\"rb\")\n",
    "\n"
   ]
  },
  {
   "cell_type": "code",
   "execution_count": 3,
   "id": "44968d63-0b97-4c03-862d-2ecd05be0d41",
   "metadata": {},
   "outputs": [],
   "source": [
    "#to open file in read mode for scale\n",
    "file2=open(\"scale.pkl\",\"rb\")"
   ]
  },
  {
   "cell_type": "code",
   "execution_count": 4,
   "id": "1db89df0-6c97-48fa-afee-735aafbb60d2",
   "metadata": {},
   "outputs": [],
   "source": [
    "#to open file in read mode for model\n",
    "file3=open(\"label.pkl\",\"rb\")"
   ]
  },
  {
   "cell_type": "code",
   "execution_count": 5,
   "id": "d789d3b5-9cfb-470f-b380-4440723ebd4b",
   "metadata": {},
   "outputs": [],
   "source": [
    "#to read data from file1 hold in temp object\n",
    "model=pickle.load(file1)  #load() inbuilt method of pickle class\n"
   ]
  },
  {
   "cell_type": "code",
   "execution_count": 6,
   "id": "490c4ca8-b1ed-4cd8-bbf1-caf4c9fb05e3",
   "metadata": {},
   "outputs": [],
   "source": [
    "#to read data from file2 hold in temp object\n",
    "scale=pickle.load(file2)  #load() inbuilt method of pickle class\n"
   ]
  },
  {
   "cell_type": "code",
   "execution_count": 7,
   "id": "e6cde3ca-8323-4eb5-afe7-5e64487176d6",
   "metadata": {},
   "outputs": [],
   "source": [
    "#to read data from file3 hold in temp object\n",
    "label=pickle.load(file3)  #load() inbuilt method of pickle class\n"
   ]
  },
  {
   "cell_type": "code",
   "execution_count": null,
   "id": "523446cc-af8f-468f-b092-9277c5498d92",
   "metadata": {},
   "outputs": [],
   "source": []
  },
  {
   "cell_type": "code",
   "execution_count": 8,
   "id": "4390e780-0921-4bec-a518-4e5a197e3e6c",
   "metadata": {},
   "outputs": [
    {
     "name": "stdin",
     "output_type": "stream",
     "text": [
      "Enter Age of Client 56\n",
      "Enter Job : housemaid\n",
      "Enter Marital Status of client married\n",
      "Enter education of client basic.4y\n",
      "has credit in default(yes/ no) no\n",
      "has housing loan?  no\n",
      "has personal loan?  no\n",
      "contact communication type ('cellular','telephone') telephone\n",
      "last contact month of year ('jan', 'feb', 'mar', …, 'nov', 'dec') may\n",
      "last contact day of the week ('mon','tue','wed','thu','fri') mon\n",
      "last contact duration, in seconds (numeric) 261\n",
      "number of contacts performed during this campaign and for this client 1\n",
      "number of days that passed by after the client was last contacted from a previous campaign 999\n",
      " number of contacts performed before this campaign and for this client 0\n",
      "outcome of the previous marketing campaign ('failure','nonexistent','success') nonexistent\n",
      "employment variation rate - quarterly indicator 1.1\n",
      "consumer price index - monthly indicator  93.994\n",
      "consumer confidence index - monthly indicator -36.4\n",
      "euribor 3 month rate - daily indicator 4.857\n",
      "number of employees - quarterly indicator 5191\n"
     ]
    }
   ],
   "source": [
    "###### input\n",
    "age=int(input(\"Enter Age of Client\"))\n",
    "job=input(\"Enter Job :\")\n",
    "marital = input(\"Enter Marital Status of client\")\n",
    "education=input(\"Enter education of client\")\n",
    "default =input(\"has credit in default(yes/ no)\")\n",
    "housing=input(\"has housing loan? \")\n",
    "loan=input(\"has personal loan? \")\n",
    "contact = input(\"contact communication type ('cellular','telephone')\")\n",
    "month = input(\"last contact month of year ('jan', 'feb', 'mar', …, 'nov', 'dec')\")\n",
    "day_of_week=input(\"last contact day of the week ('mon','tue','wed','thu','fri')\")\n",
    "duration= int(input(\"last contact duration, in seconds (numeric)\"))\n",
    "campaign=int(input(\"number of contacts performed during this campaign and for this client\"))\n",
    "pdays=int(input(\"number of days that passed by after the client was last contacted from a previous campaign\"))\n",
    "previous=int(input(\" number of contacts performed before this campaign and for this client\"))\n",
    "poutcome=input(\"outcome of the previous marketing campaign ('failure','nonexistent','success')\")\n",
    "emp_var_rate=float(input(\"employment variation rate - quarterly indicator\"))\n",
    "cons_price_idx=float(input(\"consumer price index - monthly indicator \"))\n",
    "cons_conf_idx=float(input(\"consumer confidence index - monthly indicator\"))\n",
    "euribor3m=float(input(\"euribor 3 month rate - daily indicator\"))\n",
    "nr_employed=float(input(\"number of employees - quarterly indicator\"))\n",
    "\n"
   ]
  },
  {
   "cell_type": "code",
   "execution_count": 22,
   "id": "f08d416b-0f18-42af-8f0a-1c802665c20e",
   "metadata": {},
   "outputs": [],
   "source": [
    "# split the object and number and store in variable.\n",
    "obj=[job,marital,education,default,housing,loan,contact,month,day_of_week,poutcome]\n",
    "num=[age,duration,campaign,pdays,previous,emp_var_rate,cons_price_idx,cons_conf_idx,euribor3m,nr_employed]\n"
   ]
  },
  {
   "cell_type": "code",
   "execution_count": 23,
   "id": "213ff741-fff0-4968-91b0-ab575a06cc71",
   "metadata": {},
   "outputs": [],
   "source": [
    "# create a numpy array\n",
    "import numpy as np\n",
    "obj=np.array(obj)\n"
   ]
  },
  {
   "cell_type": "code",
   "execution_count": 24,
   "id": "a40376be-b4ee-44eb-9153-48de6ca8c52b",
   "metadata": {},
   "outputs": [
    {
     "data": {
      "text/plain": [
       "(numpy.ndarray, 1)"
      ]
     },
     "execution_count": 24,
     "metadata": {},
     "output_type": "execute_result"
    }
   ],
   "source": [
    "type(obj),obj.ndim # check the type and dimension of object."
   ]
  },
  {
   "cell_type": "code",
   "execution_count": 25,
   "id": "e3245c97-7953-4ec8-9e2c-9ebae3af3c75",
   "metadata": {},
   "outputs": [
    {
     "data": {
      "text/plain": [
       "array(['housemaid', 'married', 'basic.4y', 'no', 'no', 'no', 'telephone',\n",
       "       'may', 'mon', 'nonexistent'], dtype='<U11')"
      ]
     },
     "execution_count": 25,
     "metadata": {},
     "output_type": "execute_result"
    }
   ],
   "source": [
    "obj"
   ]
  },
  {
   "cell_type": "code",
   "execution_count": 26,
   "id": "017f1a9c-b866-4e1b-9157-4a0ab35ec5b7",
   "metadata": {},
   "outputs": [],
   "source": [
    "obj=label.fit_transform(obj) #to apply labelencoder on object"
   ]
  },
  {
   "cell_type": "code",
   "execution_count": 27,
   "id": "907bb9fa-ec82-4738-8951-0716edf3e90c",
   "metadata": {},
   "outputs": [
    {
     "data": {
      "text/plain": [
       "array([1, 2, 0, 5, 5, 5, 7, 3, 4, 6], dtype=int64)"
      ]
     },
     "execution_count": 27,
     "metadata": {},
     "output_type": "execute_result"
    }
   ],
   "source": [
    "obj"
   ]
  },
  {
   "cell_type": "code",
   "execution_count": 28,
   "id": "28ae26f3-73a1-483a-b88b-23ff04c39dd4",
   "metadata": {},
   "outputs": [],
   "source": [
    "obj=[obj]"
   ]
  },
  {
   "cell_type": "code",
   "execution_count": 16,
   "id": "124afc82-989d-407c-a8d3-b870a6d30680",
   "metadata": {},
   "outputs": [],
   "source": [
    "num=np.array([num]) # Create a numpy array"
   ]
  },
  {
   "cell_type": "code",
   "execution_count": 17,
   "id": "c2c37bc5-56b0-4ff4-9509-8c1ef8b922c9",
   "metadata": {},
   "outputs": [],
   "source": [
    "X1=np.concatenate([obj,num],axis=1) # concatenate object and number."
   ]
  },
  {
   "cell_type": "code",
   "execution_count": 18,
   "id": "b297251a-6f6c-4e3c-aa08-6e72e8bd7d9b",
   "metadata": {},
   "outputs": [
    {
     "data": {
      "text/plain": [
       "array([[ 1.0000e+00,  2.0000e+00,  0.0000e+00,  5.0000e+00,  5.0000e+00,\n",
       "         5.0000e+00,  7.0000e+00,  3.0000e+00,  4.0000e+00,  6.0000e+00,\n",
       "         5.6000e+01,  2.6100e+02,  1.0000e+00,  9.9900e+02,  0.0000e+00,\n",
       "         1.1000e+00,  9.3994e+01, -3.6400e+01,  4.8570e+00,  5.1910e+03]])"
      ]
     },
     "execution_count": 18,
     "metadata": {},
     "output_type": "execute_result"
    }
   ],
   "source": [
    "X1"
   ]
  },
  {
   "cell_type": "code",
   "execution_count": 19,
   "id": "dc99fc7e-701d-4e6b-8c05-6c01636d8443",
   "metadata": {},
   "outputs": [
    {
     "name": "stderr",
     "output_type": "stream",
     "text": [
      "C:\\Users\\swapn\\anaconda3\\Lib\\site-packages\\sklearn\\base.py:439: UserWarning: X does not have valid feature names, but StandardScaler was fitted with feature names\n",
      "  warnings.warn(\n"
     ]
    }
   ],
   "source": [
    "X_final=scale.transform(X1) #Apply Scaling"
   ]
  },
  {
   "cell_type": "code",
   "execution_count": 20,
   "id": "9e55be09-3aa2-44c1-bc89-de3eb1145500",
   "metadata": {},
   "outputs": [
    {
     "data": {
      "text/plain": [
       "array([[-1.02236484e+00,  1.37328671e+00, -1.98197352e+00,\n",
       "         6.00231206e+02,  8.94533376e+00,  1.34773308e+01,\n",
       "         1.37754408e+01, -5.34576050e-01,  1.43340435e+00,\n",
       "         1.39515950e+01,  1.54198010e+00,  1.26043309e-02,\n",
       "        -5.71597049e-01,  1.94636552e-01, -3.51355856e-01,\n",
       "         6.49026332e-01,  7.26539834e-01,  8.85310598e-01,\n",
       "         7.13055479e-01,  3.31627225e-01]])"
      ]
     },
     "execution_count": 20,
     "metadata": {},
     "output_type": "execute_result"
    }
   ],
   "source": [
    "X_final"
   ]
  },
  {
   "cell_type": "code",
   "execution_count": null,
   "id": "158a622f-174d-4193-99f6-6d79b759f363",
   "metadata": {},
   "outputs": [],
   "source": []
  },
  {
   "cell_type": "code",
   "execution_count": 21,
   "id": "cff4a5d1-6eb8-454c-8012-1b9138d91ceb",
   "metadata": {},
   "outputs": [
    {
     "name": "stdout",
     "output_type": "stream",
     "text": [
      "[0]\n"
     ]
    }
   ],
   "source": [
    "# Predict the model\n",
    "Y_pred=model.predict(X_final)\n",
    "print(Y_pred)"
   ]
  }
 ],
 "metadata": {
  "kernelspec": {
   "display_name": "Python 3 (ipykernel)",
   "language": "python",
   "name": "python3"
  },
  "language_info": {
   "codemirror_mode": {
    "name": "ipython",
    "version": 3
   },
   "file_extension": ".py",
   "mimetype": "text/x-python",
   "name": "python",
   "nbconvert_exporter": "python",
   "pygments_lexer": "ipython3",
   "version": "3.11.7"
  }
 },
 "nbformat": 4,
 "nbformat_minor": 5
}
