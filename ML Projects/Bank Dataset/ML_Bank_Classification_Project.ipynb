{
 "cells": [
  {
   "cell_type": "code",
   "execution_count": 1,
   "id": "dd233a0c-ecf6-4806-9cc0-350d1a30d4d5",
   "metadata": {},
   "outputs": [],
   "source": [
    "import numpy as np\n",
    "import pandas as pd\n",
    "import matplotlib.pyplot as plt\n",
    "import seaborn as sb\n",
    "import warnings\n",
    "warnings.filterwarnings('ignore')"
   ]
  },
  {
   "cell_type": "code",
   "execution_count": 2,
   "id": "2efdb36b-e9c6-4091-9f95-b3079225302a",
   "metadata": {},
   "outputs": [
    {
     "data": {
      "text/html": [
       "<div>\n",
       "<style scoped>\n",
       "    .dataframe tbody tr th:only-of-type {\n",
       "        vertical-align: middle;\n",
       "    }\n",
       "\n",
       "    .dataframe tbody tr th {\n",
       "        vertical-align: top;\n",
       "    }\n",
       "\n",
       "    .dataframe thead th {\n",
       "        text-align: right;\n",
       "    }\n",
       "</style>\n",
       "<table border=\"1\" class=\"dataframe\">\n",
       "  <thead>\n",
       "    <tr style=\"text-align: right;\">\n",
       "      <th></th>\n",
       "      <th>age</th>\n",
       "      <th>job</th>\n",
       "      <th>marital</th>\n",
       "      <th>education</th>\n",
       "      <th>default</th>\n",
       "      <th>housing</th>\n",
       "      <th>loan</th>\n",
       "      <th>contact</th>\n",
       "      <th>month</th>\n",
       "      <th>day_of_week</th>\n",
       "      <th>...</th>\n",
       "      <th>campaign</th>\n",
       "      <th>pdays</th>\n",
       "      <th>previous</th>\n",
       "      <th>poutcome</th>\n",
       "      <th>emp.var.rate</th>\n",
       "      <th>cons.price.idx</th>\n",
       "      <th>cons.conf.idx</th>\n",
       "      <th>euribor3m</th>\n",
       "      <th>nr.employed</th>\n",
       "      <th>y</th>\n",
       "    </tr>\n",
       "  </thead>\n",
       "  <tbody>\n",
       "    <tr>\n",
       "      <th>0</th>\n",
       "      <td>56</td>\n",
       "      <td>housemaid</td>\n",
       "      <td>married</td>\n",
       "      <td>basic.4y</td>\n",
       "      <td>no</td>\n",
       "      <td>no</td>\n",
       "      <td>no</td>\n",
       "      <td>telephone</td>\n",
       "      <td>may</td>\n",
       "      <td>mon</td>\n",
       "      <td>...</td>\n",
       "      <td>1</td>\n",
       "      <td>999</td>\n",
       "      <td>0</td>\n",
       "      <td>nonexistent</td>\n",
       "      <td>1.1</td>\n",
       "      <td>93.994</td>\n",
       "      <td>-36.4</td>\n",
       "      <td>4.857</td>\n",
       "      <td>5191.0</td>\n",
       "      <td>no</td>\n",
       "    </tr>\n",
       "    <tr>\n",
       "      <th>1</th>\n",
       "      <td>57</td>\n",
       "      <td>services</td>\n",
       "      <td>married</td>\n",
       "      <td>high.school</td>\n",
       "      <td>unknown</td>\n",
       "      <td>no</td>\n",
       "      <td>no</td>\n",
       "      <td>telephone</td>\n",
       "      <td>may</td>\n",
       "      <td>mon</td>\n",
       "      <td>...</td>\n",
       "      <td>1</td>\n",
       "      <td>999</td>\n",
       "      <td>0</td>\n",
       "      <td>nonexistent</td>\n",
       "      <td>1.1</td>\n",
       "      <td>93.994</td>\n",
       "      <td>-36.4</td>\n",
       "      <td>4.857</td>\n",
       "      <td>5191.0</td>\n",
       "      <td>no</td>\n",
       "    </tr>\n",
       "    <tr>\n",
       "      <th>2</th>\n",
       "      <td>37</td>\n",
       "      <td>services</td>\n",
       "      <td>married</td>\n",
       "      <td>high.school</td>\n",
       "      <td>no</td>\n",
       "      <td>yes</td>\n",
       "      <td>no</td>\n",
       "      <td>telephone</td>\n",
       "      <td>may</td>\n",
       "      <td>mon</td>\n",
       "      <td>...</td>\n",
       "      <td>1</td>\n",
       "      <td>999</td>\n",
       "      <td>0</td>\n",
       "      <td>nonexistent</td>\n",
       "      <td>1.1</td>\n",
       "      <td>93.994</td>\n",
       "      <td>-36.4</td>\n",
       "      <td>4.857</td>\n",
       "      <td>5191.0</td>\n",
       "      <td>no</td>\n",
       "    </tr>\n",
       "    <tr>\n",
       "      <th>3</th>\n",
       "      <td>40</td>\n",
       "      <td>admin.</td>\n",
       "      <td>married</td>\n",
       "      <td>basic.6y</td>\n",
       "      <td>no</td>\n",
       "      <td>no</td>\n",
       "      <td>no</td>\n",
       "      <td>telephone</td>\n",
       "      <td>may</td>\n",
       "      <td>mon</td>\n",
       "      <td>...</td>\n",
       "      <td>1</td>\n",
       "      <td>999</td>\n",
       "      <td>0</td>\n",
       "      <td>nonexistent</td>\n",
       "      <td>1.1</td>\n",
       "      <td>93.994</td>\n",
       "      <td>-36.4</td>\n",
       "      <td>4.857</td>\n",
       "      <td>5191.0</td>\n",
       "      <td>no</td>\n",
       "    </tr>\n",
       "    <tr>\n",
       "      <th>4</th>\n",
       "      <td>56</td>\n",
       "      <td>services</td>\n",
       "      <td>married</td>\n",
       "      <td>high.school</td>\n",
       "      <td>no</td>\n",
       "      <td>no</td>\n",
       "      <td>yes</td>\n",
       "      <td>telephone</td>\n",
       "      <td>may</td>\n",
       "      <td>mon</td>\n",
       "      <td>...</td>\n",
       "      <td>1</td>\n",
       "      <td>999</td>\n",
       "      <td>0</td>\n",
       "      <td>nonexistent</td>\n",
       "      <td>1.1</td>\n",
       "      <td>93.994</td>\n",
       "      <td>-36.4</td>\n",
       "      <td>4.857</td>\n",
       "      <td>5191.0</td>\n",
       "      <td>no</td>\n",
       "    </tr>\n",
       "  </tbody>\n",
       "</table>\n",
       "<p>5 rows × 21 columns</p>\n",
       "</div>"
      ],
      "text/plain": [
       "   age        job  marital    education  default housing loan    contact  \\\n",
       "0   56  housemaid  married     basic.4y       no      no   no  telephone   \n",
       "1   57   services  married  high.school  unknown      no   no  telephone   \n",
       "2   37   services  married  high.school       no     yes   no  telephone   \n",
       "3   40     admin.  married     basic.6y       no      no   no  telephone   \n",
       "4   56   services  married  high.school       no      no  yes  telephone   \n",
       "\n",
       "  month day_of_week  ...  campaign  pdays  previous     poutcome emp.var.rate  \\\n",
       "0   may         mon  ...         1    999         0  nonexistent          1.1   \n",
       "1   may         mon  ...         1    999         0  nonexistent          1.1   \n",
       "2   may         mon  ...         1    999         0  nonexistent          1.1   \n",
       "3   may         mon  ...         1    999         0  nonexistent          1.1   \n",
       "4   may         mon  ...         1    999         0  nonexistent          1.1   \n",
       "\n",
       "   cons.price.idx  cons.conf.idx  euribor3m  nr.employed   y  \n",
       "0          93.994          -36.4      4.857       5191.0  no  \n",
       "1          93.994          -36.4      4.857       5191.0  no  \n",
       "2          93.994          -36.4      4.857       5191.0  no  \n",
       "3          93.994          -36.4      4.857       5191.0  no  \n",
       "4          93.994          -36.4      4.857       5191.0  no  \n",
       "\n",
       "[5 rows x 21 columns]"
      ]
     },
     "execution_count": 2,
     "metadata": {},
     "output_type": "execute_result"
    }
   ],
   "source": [
    "df=pd.read_csv('bank_1.csv', sep=';')   #to load dataset\n",
    "df.head() #to check first five records"
   ]
  },
  {
   "cell_type": "code",
   "execution_count": 3,
   "id": "76954d36-98fc-4e2c-9c8e-44e2333d364c",
   "metadata": {},
   "outputs": [
    {
     "data": {
      "text/plain": [
       "age               0\n",
       "job               0\n",
       "marital           0\n",
       "education         0\n",
       "default           0\n",
       "housing           0\n",
       "loan              0\n",
       "contact           0\n",
       "month             0\n",
       "day_of_week       0\n",
       "duration          0\n",
       "campaign          0\n",
       "pdays             0\n",
       "previous          0\n",
       "poutcome          0\n",
       "emp.var.rate      0\n",
       "cons.price.idx    0\n",
       "cons.conf.idx     0\n",
       "euribor3m         0\n",
       "nr.employed       0\n",
       "y                 0\n",
       "dtype: int64"
      ]
     },
     "execution_count": 3,
     "metadata": {},
     "output_type": "execute_result"
    }
   ],
   "source": [
    "df.isnull().sum()  #to check null values"
   ]
  },
  {
   "cell_type": "code",
   "execution_count": 4,
   "id": "ef2ec4f8-89eb-4909-b0a1-15655d15ff08",
   "metadata": {},
   "outputs": [
    {
     "data": {
      "text/plain": [
       "age                 int64\n",
       "job                object\n",
       "marital            object\n",
       "education          object\n",
       "default            object\n",
       "housing            object\n",
       "loan               object\n",
       "contact            object\n",
       "month              object\n",
       "day_of_week        object\n",
       "duration            int64\n",
       "campaign            int64\n",
       "pdays               int64\n",
       "previous            int64\n",
       "poutcome           object\n",
       "emp.var.rate      float64\n",
       "cons.price.idx    float64\n",
       "cons.conf.idx     float64\n",
       "euribor3m         float64\n",
       "nr.employed       float64\n",
       "y                  object\n",
       "dtype: object"
      ]
     },
     "execution_count": 4,
     "metadata": {},
     "output_type": "execute_result"
    }
   ],
   "source": [
    "df.dtypes  #to check datatype"
   ]
  },
  {
   "cell_type": "code",
   "execution_count": 5,
   "id": "72e1da84-14c1-4d26-ac34-a1a5416b4f48",
   "metadata": {},
   "outputs": [
    {
     "data": {
      "text/plain": [
       "(41188, 21)"
      ]
     },
     "execution_count": 5,
     "metadata": {},
     "output_type": "execute_result"
    }
   ],
   "source": [
    "df.shape"
   ]
  },
  {
   "cell_type": "code",
   "execution_count": 6,
   "id": "43377f18-8822-45d3-9d51-0066b98786be",
   "metadata": {},
   "outputs": [
    {
     "data": {
      "text/plain": [
       "y\n",
       "no     36548\n",
       "yes     4640\n",
       "Name: count, dtype: int64"
      ]
     },
     "execution_count": 6,
     "metadata": {},
     "output_type": "execute_result"
    }
   ],
   "source": [
    "df['y'].value_counts()"
   ]
  },
  {
   "cell_type": "code",
   "execution_count": 7,
   "id": "caa3f53e-e054-4dae-a051-c52b34c97b6a",
   "metadata": {},
   "outputs": [
    {
     "data": {
      "text/plain": [
       "age\n",
       "31    1947\n",
       "32    1846\n",
       "33    1833\n",
       "36    1780\n",
       "35    1759\n",
       "      ... \n",
       "89       2\n",
       "91       2\n",
       "94       1\n",
       "87       1\n",
       "95       1\n",
       "Name: count, Length: 78, dtype: int64"
      ]
     },
     "execution_count": 7,
     "metadata": {},
     "output_type": "execute_result"
    }
   ],
   "source": [
    "df['age'].value_counts()"
   ]
  },
  {
   "cell_type": "code",
   "execution_count": 8,
   "id": "8cf01fab-5944-494e-a4d0-fb7a18807c34",
   "metadata": {},
   "outputs": [
    {
     "data": {
      "text/plain": [
       "job\n",
       "admin.           10422\n",
       "blue-collar       9254\n",
       "technician        6743\n",
       "services          3969\n",
       "management        2924\n",
       "retired           1720\n",
       "entrepreneur      1456\n",
       "self-employed     1421\n",
       "housemaid         1060\n",
       "unemployed        1014\n",
       "student            875\n",
       "unknown            330\n",
       "Name: count, dtype: int64"
      ]
     },
     "execution_count": 8,
     "metadata": {},
     "output_type": "execute_result"
    }
   ],
   "source": [
    "df['job'].value_counts()"
   ]
  },
  {
   "cell_type": "code",
   "execution_count": 9,
   "id": "9172e1a7-18cb-42a0-a7d7-6ea745e8526a",
   "metadata": {},
   "outputs": [
    {
     "data": {
      "text/plain": [
       "marital\n",
       "married     24928\n",
       "single      11568\n",
       "divorced     4612\n",
       "unknown        80\n",
       "Name: count, dtype: int64"
      ]
     },
     "execution_count": 9,
     "metadata": {},
     "output_type": "execute_result"
    }
   ],
   "source": [
    "df['marital'].value_counts()"
   ]
  },
  {
   "cell_type": "code",
   "execution_count": 10,
   "id": "27fd3975-28ce-43a2-b744-12463f0a27ba",
   "metadata": {},
   "outputs": [
    {
     "data": {
      "text/plain": [
       "education\n",
       "university.degree      12168\n",
       "high.school             9515\n",
       "basic.9y                6045\n",
       "professional.course     5243\n",
       "basic.4y                4176\n",
       "basic.6y                2292\n",
       "unknown                 1731\n",
       "illiterate                18\n",
       "Name: count, dtype: int64"
      ]
     },
     "execution_count": 10,
     "metadata": {},
     "output_type": "execute_result"
    }
   ],
   "source": [
    "df['education'].value_counts()"
   ]
  },
  {
   "cell_type": "code",
   "execution_count": 11,
   "id": "ef7d8a52-ffd2-4bfc-85e5-4987a2d5d5c2",
   "metadata": {},
   "outputs": [
    {
     "data": {
      "text/plain": [
       "default\n",
       "no         32588\n",
       "unknown     8597\n",
       "yes            3\n",
       "Name: count, dtype: int64"
      ]
     },
     "execution_count": 11,
     "metadata": {},
     "output_type": "execute_result"
    }
   ],
   "source": [
    "df['default'].value_counts()"
   ]
  },
  {
   "cell_type": "code",
   "execution_count": 12,
   "id": "1476d53e-df45-473e-81b1-aab8f19acc9f",
   "metadata": {},
   "outputs": [
    {
     "data": {
      "text/plain": [
       "housing\n",
       "yes        21576\n",
       "no         18622\n",
       "unknown      990\n",
       "Name: count, dtype: int64"
      ]
     },
     "execution_count": 12,
     "metadata": {},
     "output_type": "execute_result"
    }
   ],
   "source": [
    "df['housing'].value_counts()"
   ]
  },
  {
   "cell_type": "code",
   "execution_count": 13,
   "id": "7e0dfe6d-6c2b-4267-ae1e-06a0685741d9",
   "metadata": {},
   "outputs": [
    {
     "data": {
      "text/plain": [
       "housing\n",
       "yes        21576\n",
       "no         18622\n",
       "unknown      990\n",
       "Name: count, dtype: int64"
      ]
     },
     "execution_count": 13,
     "metadata": {},
     "output_type": "execute_result"
    }
   ],
   "source": [
    "df['housing'].value_counts()"
   ]
  },
  {
   "cell_type": "code",
   "execution_count": 14,
   "id": "3bd14a94-a361-4bf2-a567-c345c8132586",
   "metadata": {},
   "outputs": [
    {
     "data": {
      "text/plain": [
       "loan\n",
       "no         33950\n",
       "yes         6248\n",
       "unknown      990\n",
       "Name: count, dtype: int64"
      ]
     },
     "execution_count": 14,
     "metadata": {},
     "output_type": "execute_result"
    }
   ],
   "source": [
    "df['loan'].value_counts()"
   ]
  },
  {
   "cell_type": "code",
   "execution_count": 15,
   "id": "5ae197ec-1bb3-4894-b588-6b29e14bb053",
   "metadata": {},
   "outputs": [
    {
     "data": {
      "text/plain": [
       "contact\n",
       "cellular     26144\n",
       "telephone    15044\n",
       "Name: count, dtype: int64"
      ]
     },
     "execution_count": 15,
     "metadata": {},
     "output_type": "execute_result"
    }
   ],
   "source": [
    "df['contact'].value_counts()"
   ]
  },
  {
   "cell_type": "code",
   "execution_count": 16,
   "id": "a693927e-2c8d-442e-97cd-639e5e2d0982",
   "metadata": {},
   "outputs": [
    {
     "data": {
      "text/plain": [
       "month\n",
       "may    13769\n",
       "jul     7174\n",
       "aug     6178\n",
       "jun     5318\n",
       "nov     4101\n",
       "apr     2632\n",
       "oct      718\n",
       "sep      570\n",
       "mar      546\n",
       "dec      182\n",
       "Name: count, dtype: int64"
      ]
     },
     "execution_count": 16,
     "metadata": {},
     "output_type": "execute_result"
    }
   ],
   "source": [
    "df['month'].value_counts()"
   ]
  },
  {
   "cell_type": "code",
   "execution_count": 17,
   "id": "e2defafc-6c01-4365-b6e1-20e24b5b4336",
   "metadata": {},
   "outputs": [
    {
     "data": {
      "text/plain": [
       "day_of_week\n",
       "thu    8623\n",
       "mon    8514\n",
       "wed    8134\n",
       "tue    8090\n",
       "fri    7827\n",
       "Name: count, dtype: int64"
      ]
     },
     "execution_count": 17,
     "metadata": {},
     "output_type": "execute_result"
    }
   ],
   "source": [
    "df['day_of_week'].value_counts()"
   ]
  },
  {
   "cell_type": "code",
   "execution_count": 18,
   "id": "adc8f463-ca5c-45ba-b098-883aed7caa3a",
   "metadata": {},
   "outputs": [
    {
     "data": {
      "text/plain": [
       "duration\n",
       "90      170\n",
       "85      170\n",
       "136     168\n",
       "73      167\n",
       "124     164\n",
       "       ... \n",
       "1569      1\n",
       "1053      1\n",
       "1263      1\n",
       "1169      1\n",
       "1868      1\n",
       "Name: count, Length: 1544, dtype: int64"
      ]
     },
     "execution_count": 18,
     "metadata": {},
     "output_type": "execute_result"
    }
   ],
   "source": [
    "df['duration'].value_counts()"
   ]
  },
  {
   "cell_type": "code",
   "execution_count": 19,
   "id": "c6f4d2c0-c575-4003-b9c6-fcf988704955",
   "metadata": {},
   "outputs": [
    {
     "data": {
      "text/plain": [
       "campaign\n",
       "1     17642\n",
       "2     10570\n",
       "3      5341\n",
       "4      2651\n",
       "5      1599\n",
       "6       979\n",
       "7       629\n",
       "8       400\n",
       "9       283\n",
       "10      225\n",
       "11      177\n",
       "12      125\n",
       "13       92\n",
       "14       69\n",
       "17       58\n",
       "16       51\n",
       "15       51\n",
       "18       33\n",
       "20       30\n",
       "19       26\n",
       "21       24\n",
       "22       17\n",
       "23       16\n",
       "24       15\n",
       "27       11\n",
       "29       10\n",
       "28        8\n",
       "26        8\n",
       "25        8\n",
       "31        7\n",
       "30        7\n",
       "35        5\n",
       "32        4\n",
       "33        4\n",
       "34        3\n",
       "42        2\n",
       "40        2\n",
       "43        2\n",
       "56        1\n",
       "39        1\n",
       "41        1\n",
       "37        1\n",
       "Name: count, dtype: int64"
      ]
     },
     "execution_count": 19,
     "metadata": {},
     "output_type": "execute_result"
    }
   ],
   "source": [
    "df['campaign'].value_counts()"
   ]
  },
  {
   "cell_type": "code",
   "execution_count": 20,
   "id": "bc5fe4da-79e9-400d-ba51-d301002526e9",
   "metadata": {},
   "outputs": [
    {
     "data": {
      "text/plain": [
       "pdays\n",
       "999    39673\n",
       "3        439\n",
       "6        412\n",
       "4        118\n",
       "9         64\n",
       "2         61\n",
       "7         60\n",
       "12        58\n",
       "10        52\n",
       "5         46\n",
       "13        36\n",
       "11        28\n",
       "1         26\n",
       "15        24\n",
       "14        20\n",
       "8         18\n",
       "0         15\n",
       "16        11\n",
       "17         8\n",
       "18         7\n",
       "22         3\n",
       "19         3\n",
       "21         2\n",
       "25         1\n",
       "26         1\n",
       "27         1\n",
       "20         1\n",
       "Name: count, dtype: int64"
      ]
     },
     "execution_count": 20,
     "metadata": {},
     "output_type": "execute_result"
    }
   ],
   "source": [
    "df['pdays'].value_counts()"
   ]
  },
  {
   "cell_type": "code",
   "execution_count": 21,
   "id": "0b2f95df-3a22-4c81-b688-5a089c70090e",
   "metadata": {},
   "outputs": [
    {
     "data": {
      "text/plain": [
       "previous\n",
       "0    35563\n",
       "1     4561\n",
       "2      754\n",
       "3      216\n",
       "4       70\n",
       "5       18\n",
       "6        5\n",
       "7        1\n",
       "Name: count, dtype: int64"
      ]
     },
     "execution_count": 21,
     "metadata": {},
     "output_type": "execute_result"
    }
   ],
   "source": [
    "df['previous'].value_counts()"
   ]
  },
  {
   "cell_type": "code",
   "execution_count": 22,
   "id": "650ae260-5e44-4bc2-b3e5-f757c2aabb3f",
   "metadata": {},
   "outputs": [
    {
     "data": {
      "text/plain": [
       "poutcome\n",
       "nonexistent    35563\n",
       "failure         4252\n",
       "success         1373\n",
       "Name: count, dtype: int64"
      ]
     },
     "execution_count": 22,
     "metadata": {},
     "output_type": "execute_result"
    }
   ],
   "source": [
    "df['poutcome'].value_counts()"
   ]
  },
  {
   "cell_type": "code",
   "execution_count": 23,
   "id": "8e255b9e-923b-43db-a375-a803c8dcbdfa",
   "metadata": {},
   "outputs": [
    {
     "data": {
      "text/plain": [
       "emp.var.rate\n",
       " 1.4    16234\n",
       "-1.8     9184\n",
       " 1.1     7763\n",
       "-0.1     3683\n",
       "-2.9     1663\n",
       "-3.4     1071\n",
       "-1.7      773\n",
       "-1.1      635\n",
       "-3.0      172\n",
       "-0.2       10\n",
       "Name: count, dtype: int64"
      ]
     },
     "execution_count": 23,
     "metadata": {},
     "output_type": "execute_result"
    }
   ],
   "source": [
    "df['emp.var.rate'].value_counts()"
   ]
  },
  {
   "cell_type": "code",
   "execution_count": 24,
   "id": "530e0572-6738-47f0-8ed3-8270be94517a",
   "metadata": {},
   "outputs": [
    {
     "data": {
      "text/plain": [
       "cons.price.idx\n",
       "93.994    7763\n",
       "93.918    6685\n",
       "92.893    5794\n",
       "93.444    5175\n",
       "94.465    4374\n",
       "93.200    3616\n",
       "93.075    2458\n",
       "92.201     770\n",
       "92.963     715\n",
       "92.431     447\n",
       "92.649     357\n",
       "94.215     311\n",
       "94.199     303\n",
       "92.843     282\n",
       "92.379     267\n",
       "93.369     264\n",
       "94.027     233\n",
       "94.055     229\n",
       "93.876     212\n",
       "94.601     204\n",
       "92.469     178\n",
       "93.749     174\n",
       "92.713     172\n",
       "94.767     128\n",
       "93.798      67\n",
       "92.756      10\n",
       "Name: count, dtype: int64"
      ]
     },
     "execution_count": 24,
     "metadata": {},
     "output_type": "execute_result"
    }
   ],
   "source": [
    "df['cons.price.idx'].value_counts()"
   ]
  },
  {
   "cell_type": "code",
   "execution_count": 25,
   "id": "1bfdf9ff-910f-4f4f-9e78-69c4b8c7bf18",
   "metadata": {},
   "outputs": [
    {
     "data": {
      "text/plain": [
       "cons.conf.idx\n",
       "-36.4    7763\n",
       "-42.7    6685\n",
       "-46.2    5794\n",
       "-36.1    5175\n",
       "-41.8    4374\n",
       "-42.0    3616\n",
       "-47.1    2458\n",
       "-31.4     770\n",
       "-40.8     715\n",
       "-26.9     447\n",
       "-30.1     357\n",
       "-40.3     311\n",
       "-37.5     303\n",
       "-50.0     282\n",
       "-29.8     267\n",
       "-34.8     264\n",
       "-38.3     233\n",
       "-39.8     229\n",
       "-40.0     212\n",
       "-49.5     204\n",
       "-33.6     178\n",
       "-34.6     174\n",
       "-33.0     172\n",
       "-50.8     128\n",
       "-40.4      67\n",
       "-45.9      10\n",
       "Name: count, dtype: int64"
      ]
     },
     "execution_count": 25,
     "metadata": {},
     "output_type": "execute_result"
    }
   ],
   "source": [
    "df['cons.conf.idx'].value_counts()"
   ]
  },
  {
   "cell_type": "code",
   "execution_count": 26,
   "id": "0140302e-c18f-4aff-a4f7-5563f9b65cd7",
   "metadata": {},
   "outputs": [
    {
     "data": {
      "text/plain": [
       "euribor3m\n",
       "4.857    2868\n",
       "4.962    2613\n",
       "4.963    2487\n",
       "4.961    1902\n",
       "4.856    1210\n",
       "         ... \n",
       "3.853       1\n",
       "3.901       1\n",
       "0.969       1\n",
       "0.956       1\n",
       "3.669       1\n",
       "Name: count, Length: 316, dtype: int64"
      ]
     },
     "execution_count": 26,
     "metadata": {},
     "output_type": "execute_result"
    }
   ],
   "source": [
    "df['euribor3m'].value_counts()"
   ]
  },
  {
   "cell_type": "code",
   "execution_count": 27,
   "id": "c88387fd-1e10-490a-bd69-2378c26473c2",
   "metadata": {},
   "outputs": [
    {
     "data": {
      "text/plain": [
       "nr.employed\n",
       "5228.1    16234\n",
       "5099.1     8534\n",
       "5191.0     7763\n",
       "5195.8     3683\n",
       "5076.2     1663\n",
       "5017.5     1071\n",
       "4991.6      773\n",
       "5008.7      650\n",
       "4963.6      635\n",
       "5023.5      172\n",
       "5176.3       10\n",
       "Name: count, dtype: int64"
      ]
     },
     "execution_count": 27,
     "metadata": {},
     "output_type": "execute_result"
    }
   ],
   "source": [
    "df['nr.employed'].value_counts()"
   ]
  },
  {
   "cell_type": "code",
   "execution_count": 28,
   "id": "e33cd3fe-2091-4185-9f2e-2489f0b0aeb5",
   "metadata": {},
   "outputs": [
    {
     "name": "stdout",
     "output_type": "stream",
     "text": [
      "0    married\n",
      "Name: marital, dtype: object\n"
     ]
    }
   ],
   "source": [
    "df['marital'].replace('unknown',np.nan,inplace=True)   #replace unknown value with np.nan\n",
    "m=df['marital'].mode()\n",
    "print(m)\n"
   ]
  },
  {
   "cell_type": "code",
   "execution_count": 29,
   "id": "aa643242-58fd-48eb-ad94-78d7ed8f0f2f",
   "metadata": {},
   "outputs": [],
   "source": [
    "df['marital'].fillna('married',inplace=True)  #fill nan with mode"
   ]
  },
  {
   "cell_type": "code",
   "execution_count": 30,
   "id": "9dc865a8-92d4-41c9-8829-3dd4ef3280b1",
   "metadata": {},
   "outputs": [],
   "source": [
    "df['education'].replace('unknown','Others',inplace=True)   #replace unknown value with Others"
   ]
  },
  {
   "cell_type": "code",
   "execution_count": 31,
   "id": "e8baf3d3-d77f-4dda-80bc-4194a19466c9",
   "metadata": {},
   "outputs": [
    {
     "name": "stdout",
     "output_type": "stream",
     "text": [
      "0    no\n",
      "Name: default, dtype: object\n"
     ]
    }
   ],
   "source": [
    "df['default'].replace('unknown',np.nan,inplace=True)   #replace unknown value with np.nan\n",
    "m=df['default'].mode()\n",
    "print(m)\n"
   ]
  },
  {
   "cell_type": "code",
   "execution_count": 32,
   "id": "741e5241-5792-4c2e-9354-a2d68c2b6234",
   "metadata": {},
   "outputs": [],
   "source": [
    "df['default'].fillna('no',inplace=True)   #fill nan with mode"
   ]
  },
  {
   "cell_type": "code",
   "execution_count": 33,
   "id": "132181cf-64e7-4c6c-9c35-e57c1ddf9b9b",
   "metadata": {},
   "outputs": [
    {
     "name": "stdout",
     "output_type": "stream",
     "text": [
      "0    yes\n",
      "Name: housing, dtype: object\n"
     ]
    }
   ],
   "source": [
    "df['housing'].replace('unknown',np.nan,inplace=True)   #replace unknown value with np.nan\n",
    "m=df['housing'].mode()\n",
    "print(m)\n"
   ]
  },
  {
   "cell_type": "code",
   "execution_count": 34,
   "id": "26b7b613-d039-4b1b-8ad5-a3f741747a71",
   "metadata": {},
   "outputs": [],
   "source": [
    "df['housing'].fillna('yes',inplace=True)   #fill nan with mode"
   ]
  },
  {
   "cell_type": "code",
   "execution_count": 35,
   "id": "6cfc871e-1d8f-4506-9a48-c59ddc9f7249",
   "metadata": {},
   "outputs": [
    {
     "name": "stdout",
     "output_type": "stream",
     "text": [
      "0    no\n",
      "Name: loan, dtype: object\n"
     ]
    }
   ],
   "source": [
    "df['loan'].replace('unknown',np.nan,inplace=True)   #replace unknown value with np.nan\n",
    "m=df['loan'].mode()\n",
    "print(m)\n"
   ]
  },
  {
   "cell_type": "code",
   "execution_count": 36,
   "id": "62f66cc9-3950-4ee5-830e-a2d9ea4acc86",
   "metadata": {},
   "outputs": [],
   "source": [
    "df['loan'].fillna('no',inplace=True)"
   ]
  },
  {
   "cell_type": "code",
   "execution_count": 37,
   "id": "71a2086a-deef-462e-8fa3-a47e6efa8819",
   "metadata": {},
   "outputs": [],
   "source": [
    "df['job'].replace('unknown','Others',inplace=True)   #replace unknown value with Others"
   ]
  },
  {
   "cell_type": "code",
   "execution_count": 38,
   "id": "875211d3-8f65-48ad-ab94-c4d3d6faa51b",
   "metadata": {},
   "outputs": [
    {
     "data": {
      "text/plain": [
       "age               0\n",
       "job               0\n",
       "marital           0\n",
       "education         0\n",
       "default           0\n",
       "housing           0\n",
       "loan              0\n",
       "contact           0\n",
       "month             0\n",
       "day_of_week       0\n",
       "duration          0\n",
       "campaign          0\n",
       "pdays             0\n",
       "previous          0\n",
       "poutcome          0\n",
       "emp.var.rate      0\n",
       "cons.price.idx    0\n",
       "cons.conf.idx     0\n",
       "euribor3m         0\n",
       "nr.employed       0\n",
       "y                 0\n",
       "dtype: int64"
      ]
     },
     "execution_count": 38,
     "metadata": {},
     "output_type": "execute_result"
    }
   ],
   "source": [
    "df.isnull().sum() #once again checking null values"
   ]
  },
  {
   "cell_type": "code",
   "execution_count": 39,
   "id": "705bbd0a-d12c-4b40-a1ab-e1553b9503d0",
   "metadata": {},
   "outputs": [
    {
     "data": {
      "text/plain": [
       "14"
      ]
     },
     "execution_count": 39,
     "metadata": {},
     "output_type": "execute_result"
    }
   ],
   "source": [
    "df.duplicated().sum()    #checking duplicate value in dataset"
   ]
  },
  {
   "cell_type": "code",
   "execution_count": 40,
   "id": "5a5f8bbd-3d4e-4756-8a95-b0eb984bfa0a",
   "metadata": {},
   "outputs": [],
   "source": [
    "df.drop_duplicates(inplace=True)  #dropping the duplicate value from dataset"
   ]
  },
  {
   "cell_type": "code",
   "execution_count": 41,
   "id": "4aa7a0cb-a07d-4720-a009-ccd2248fc465",
   "metadata": {},
   "outputs": [],
   "source": [
    "df_object=df.select_dtypes('object')   #to take object type data in df_object"
   ]
  },
  {
   "cell_type": "code",
   "execution_count": 42,
   "id": "8953b2b5-6ff8-4094-9de1-793a07815497",
   "metadata": {},
   "outputs": [],
   "source": [
    "df_num=df.select_dtypes(['int64','float64'])  #to take int and float type data in df_num"
   ]
  },
  {
   "cell_type": "code",
   "execution_count": 43,
   "id": "d7b1be31-019a-49f5-9c54-1970da3f461c",
   "metadata": {},
   "outputs": [],
   "source": [
    "from sklearn.preprocessing import LabelEncoder    \n",
    "for col in df_object:   #applying for loop to apply LabelEncoder to each column of df_object dataframe\n",
    "    le=LabelEncoder()\n",
    "    df_object[col]=le.fit_transform(df_object[col])"
   ]
  },
  {
   "cell_type": "code",
   "execution_count": 44,
   "id": "9b2a5bdd-43e4-4305-83c8-7427e1d5790a",
   "metadata": {},
   "outputs": [
    {
     "data": {
      "text/plain": [
       "dtype('int32')"
      ]
     },
     "execution_count": 44,
     "metadata": {},
     "output_type": "execute_result"
    }
   ],
   "source": [
    "df_object['job'].dtypes"
   ]
  },
  {
   "cell_type": "code",
   "execution_count": 45,
   "id": "2fddc16a-7d2c-45ba-861c-c23ebac2f7fa",
   "metadata": {},
   "outputs": [
    {
     "data": {
      "text/html": [
       "<div>\n",
       "<style scoped>\n",
       "    .dataframe tbody tr th:only-of-type {\n",
       "        vertical-align: middle;\n",
       "    }\n",
       "\n",
       "    .dataframe tbody tr th {\n",
       "        vertical-align: top;\n",
       "    }\n",
       "\n",
       "    .dataframe thead th {\n",
       "        text-align: right;\n",
       "    }\n",
       "</style>\n",
       "<table border=\"1\" class=\"dataframe\">\n",
       "  <thead>\n",
       "    <tr style=\"text-align: right;\">\n",
       "      <th></th>\n",
       "      <th>job</th>\n",
       "      <th>marital</th>\n",
       "      <th>education</th>\n",
       "      <th>default</th>\n",
       "      <th>housing</th>\n",
       "      <th>loan</th>\n",
       "      <th>contact</th>\n",
       "      <th>month</th>\n",
       "      <th>day_of_week</th>\n",
       "      <th>poutcome</th>\n",
       "      <th>...</th>\n",
       "      <th>age</th>\n",
       "      <th>duration</th>\n",
       "      <th>campaign</th>\n",
       "      <th>pdays</th>\n",
       "      <th>previous</th>\n",
       "      <th>emp.var.rate</th>\n",
       "      <th>cons.price.idx</th>\n",
       "      <th>cons.conf.idx</th>\n",
       "      <th>euribor3m</th>\n",
       "      <th>nr.employed</th>\n",
       "    </tr>\n",
       "  </thead>\n",
       "  <tbody>\n",
       "    <tr>\n",
       "      <th>0</th>\n",
       "      <td>4</td>\n",
       "      <td>1</td>\n",
       "      <td>1</td>\n",
       "      <td>0</td>\n",
       "      <td>0</td>\n",
       "      <td>0</td>\n",
       "      <td>1</td>\n",
       "      <td>6</td>\n",
       "      <td>1</td>\n",
       "      <td>1</td>\n",
       "      <td>...</td>\n",
       "      <td>56</td>\n",
       "      <td>261</td>\n",
       "      <td>1</td>\n",
       "      <td>999</td>\n",
       "      <td>0</td>\n",
       "      <td>1.1</td>\n",
       "      <td>93.994</td>\n",
       "      <td>-36.4</td>\n",
       "      <td>4.857</td>\n",
       "      <td>5191.0</td>\n",
       "    </tr>\n",
       "    <tr>\n",
       "      <th>1</th>\n",
       "      <td>8</td>\n",
       "      <td>1</td>\n",
       "      <td>4</td>\n",
       "      <td>0</td>\n",
       "      <td>0</td>\n",
       "      <td>0</td>\n",
       "      <td>1</td>\n",
       "      <td>6</td>\n",
       "      <td>1</td>\n",
       "      <td>1</td>\n",
       "      <td>...</td>\n",
       "      <td>57</td>\n",
       "      <td>149</td>\n",
       "      <td>1</td>\n",
       "      <td>999</td>\n",
       "      <td>0</td>\n",
       "      <td>1.1</td>\n",
       "      <td>93.994</td>\n",
       "      <td>-36.4</td>\n",
       "      <td>4.857</td>\n",
       "      <td>5191.0</td>\n",
       "    </tr>\n",
       "    <tr>\n",
       "      <th>2</th>\n",
       "      <td>8</td>\n",
       "      <td>1</td>\n",
       "      <td>4</td>\n",
       "      <td>0</td>\n",
       "      <td>1</td>\n",
       "      <td>0</td>\n",
       "      <td>1</td>\n",
       "      <td>6</td>\n",
       "      <td>1</td>\n",
       "      <td>1</td>\n",
       "      <td>...</td>\n",
       "      <td>37</td>\n",
       "      <td>226</td>\n",
       "      <td>1</td>\n",
       "      <td>999</td>\n",
       "      <td>0</td>\n",
       "      <td>1.1</td>\n",
       "      <td>93.994</td>\n",
       "      <td>-36.4</td>\n",
       "      <td>4.857</td>\n",
       "      <td>5191.0</td>\n",
       "    </tr>\n",
       "    <tr>\n",
       "      <th>3</th>\n",
       "      <td>1</td>\n",
       "      <td>1</td>\n",
       "      <td>2</td>\n",
       "      <td>0</td>\n",
       "      <td>0</td>\n",
       "      <td>0</td>\n",
       "      <td>1</td>\n",
       "      <td>6</td>\n",
       "      <td>1</td>\n",
       "      <td>1</td>\n",
       "      <td>...</td>\n",
       "      <td>40</td>\n",
       "      <td>151</td>\n",
       "      <td>1</td>\n",
       "      <td>999</td>\n",
       "      <td>0</td>\n",
       "      <td>1.1</td>\n",
       "      <td>93.994</td>\n",
       "      <td>-36.4</td>\n",
       "      <td>4.857</td>\n",
       "      <td>5191.0</td>\n",
       "    </tr>\n",
       "    <tr>\n",
       "      <th>4</th>\n",
       "      <td>8</td>\n",
       "      <td>1</td>\n",
       "      <td>4</td>\n",
       "      <td>0</td>\n",
       "      <td>0</td>\n",
       "      <td>1</td>\n",
       "      <td>1</td>\n",
       "      <td>6</td>\n",
       "      <td>1</td>\n",
       "      <td>1</td>\n",
       "      <td>...</td>\n",
       "      <td>56</td>\n",
       "      <td>307</td>\n",
       "      <td>1</td>\n",
       "      <td>999</td>\n",
       "      <td>0</td>\n",
       "      <td>1.1</td>\n",
       "      <td>93.994</td>\n",
       "      <td>-36.4</td>\n",
       "      <td>4.857</td>\n",
       "      <td>5191.0</td>\n",
       "    </tr>\n",
       "  </tbody>\n",
       "</table>\n",
       "<p>5 rows × 21 columns</p>\n",
       "</div>"
      ],
      "text/plain": [
       "   job  marital  education  default  housing  loan  contact  month  \\\n",
       "0    4        1          1        0        0     0        1      6   \n",
       "1    8        1          4        0        0     0        1      6   \n",
       "2    8        1          4        0        1     0        1      6   \n",
       "3    1        1          2        0        0     0        1      6   \n",
       "4    8        1          4        0        0     1        1      6   \n",
       "\n",
       "   day_of_week  poutcome  ...  age  duration  campaign  pdays  previous  \\\n",
       "0            1         1  ...   56       261         1    999         0   \n",
       "1            1         1  ...   57       149         1    999         0   \n",
       "2            1         1  ...   37       226         1    999         0   \n",
       "3            1         1  ...   40       151         1    999         0   \n",
       "4            1         1  ...   56       307         1    999         0   \n",
       "\n",
       "   emp.var.rate  cons.price.idx  cons.conf.idx  euribor3m  nr.employed  \n",
       "0           1.1          93.994          -36.4      4.857       5191.0  \n",
       "1           1.1          93.994          -36.4      4.857       5191.0  \n",
       "2           1.1          93.994          -36.4      4.857       5191.0  \n",
       "3           1.1          93.994          -36.4      4.857       5191.0  \n",
       "4           1.1          93.994          -36.4      4.857       5191.0  \n",
       "\n",
       "[5 rows x 21 columns]"
      ]
     },
     "execution_count": 45,
     "metadata": {},
     "output_type": "execute_result"
    }
   ],
   "source": [
    "df_new=pd.concat([df_object,df_num],axis=1)   #concating the 2 dataframes.\n",
    "df_new.head()"
   ]
  },
  {
   "cell_type": "code",
   "execution_count": 46,
   "id": "ff0d6c3f-a3c6-42e1-89e3-20a47f876fff",
   "metadata": {},
   "outputs": [],
   "source": [
    "X=df_new.drop('y',axis=1)  #input columns\n",
    "Y=df_new['y']   #output column"
   ]
  },
  {
   "cell_type": "code",
   "execution_count": 47,
   "id": "3252e273-b6a9-4d9a-9ee3-d4c3ed9bc2fa",
   "metadata": {},
   "outputs": [],
   "source": [
    "#apply train test split\n",
    "\n",
    "from sklearn.model_selection import train_test_split\n",
    "X_train,X_test,Y_train,Y_test=train_test_split(X,Y,test_size=0.3,random_state=1)"
   ]
  },
  {
   "cell_type": "code",
   "execution_count": 48,
   "id": "902665de-5782-402f-b9fa-7281d52de28f",
   "metadata": {},
   "outputs": [],
   "source": [
    "#apply standarscaler:\n",
    "\n",
    "from sklearn.preprocessing import StandardScaler\n",
    "ss=StandardScaler()  #creating object of StandardScaler Class"
   ]
  },
  {
   "cell_type": "code",
   "execution_count": 49,
   "id": "43bad579-b665-48f6-8f58-9f50c24532f9",
   "metadata": {},
   "outputs": [],
   "source": [
    "X_train=ss.fit_transform(X_train)  #applying scaling on training input X_train\n",
    "X_test=ss.transform(X_test)   #applying scaling on testing input X_test"
   ]
  },
  {
   "cell_type": "code",
   "execution_count": 50,
   "id": "4282844c-3dc3-4d40-96cd-a15bffc08b73",
   "metadata": {},
   "outputs": [
    {
     "data": {
      "text/plain": [
       "y\n",
       "0    25618\n",
       "1     3203\n",
       "Name: count, dtype: int64"
      ]
     },
     "execution_count": 50,
     "metadata": {},
     "output_type": "execute_result"
    }
   ],
   "source": [
    "Y_train.value_counts()"
   ]
  },
  {
   "cell_type": "code",
   "execution_count": 51,
   "id": "8b1df4b5-8c0c-41b2-b3f8-3bead1cf6cc4",
   "metadata": {},
   "outputs": [],
   "source": [
    "#clearly understand, Given data is unbalance \n",
    "#Use RandomOverSampler means to converts minority classes into majority class means increase make\n",
    "#a duplicates copies of some existing record of minority class's sample"
   ]
  },
  {
   "cell_type": "code",
   "execution_count": 52,
   "id": "7157df23-d053-44ef-8b76-eb42cebadd30",
   "metadata": {},
   "outputs": [],
   "source": [
    "#!pip install imblearn\n",
    "\n",
    "from imblearn.over_sampling import RandomOverSampler\n",
    "\n",
    "#Create the object of the class RandomOverSampler\n",
    "ros=RandomOverSampler(random_state=1)"
   ]
  },
  {
   "cell_type": "code",
   "execution_count": 53,
   "id": "b2f0d408-a207-4c28-b7c6-72a701c734d5",
   "metadata": {},
   "outputs": [
    {
     "data": {
      "text/plain": [
       "((51236, 20), (51236,))"
      ]
     },
     "execution_count": 53,
     "metadata": {},
     "output_type": "execute_result"
    }
   ],
   "source": [
    "X_train1,Y_train1=ros.fit_resample(X_train,Y_train)\n",
    "X_train1.shape, Y_train1.shape"
   ]
  },
  {
   "cell_type": "code",
   "execution_count": 54,
   "id": "857463fb-b25b-4565-8504-03c85c9b063c",
   "metadata": {},
   "outputs": [
    {
     "data": {
      "text/plain": [
       "y\n",
       "0    25618\n",
       "1    25618\n",
       "Name: count, dtype: int64"
      ]
     },
     "execution_count": 54,
     "metadata": {},
     "output_type": "execute_result"
    }
   ],
   "source": [
    "Y_train1.value_counts()"
   ]
  },
  {
   "cell_type": "code",
   "execution_count": 55,
   "id": "74265bfd-31d0-4f14-b739-031f2f55532d",
   "metadata": {},
   "outputs": [
    {
     "data": {
      "text/plain": [
       "y\n",
       "1    10917\n",
       "0    10917\n",
       "Name: count, dtype: int64"
      ]
     },
     "execution_count": 55,
     "metadata": {},
     "output_type": "execute_result"
    }
   ],
   "source": [
    "#how many sampler of 0's and 1's Y_test.value_counts()\n",
    "X_test1,Y_test1=ros.fit_resample(X_test,Y_test)\n",
    "#fit_resample() inbuilt method of RandomOverSampler class\n",
    "\n",
    "Y_test1.value_counts()"
   ]
  },
  {
   "cell_type": "code",
   "execution_count": 56,
   "id": "16def069-44fa-4c5a-a562-7c69a9454ae4",
   "metadata": {},
   "outputs": [
    {
     "data": {
      "text/plain": [
       "((21834, 20), (21834,))"
      ]
     },
     "execution_count": 56,
     "metadata": {},
     "output_type": "execute_result"
    }
   ],
   "source": [
    "X_test1.shape, Y_test1.shape"
   ]
  },
  {
   "cell_type": "code",
   "execution_count": 57,
   "id": "13ec026f-d492-4099-ae5d-31864a81fa2d",
   "metadata": {},
   "outputs": [],
   "source": [
    "#create user defined function\n",
    "def create_model(model):\n",
    "    model.fit(X_train1,Y_train1) #train the model with 70% data\n",
    "    #test the model with 30% data\n",
    "    Y_pred=model.predict(X_test1)\n",
    "    #print confusion matrix\n",
    "    print(confusion_matrix(Y_test1,Y_pred))\n",
    "    #generate classification report\n",
    "    print(classification_report(Y_test1,Y_pred))\n",
    "    return model"
   ]
  },
  {
   "cell_type": "code",
   "execution_count": 58,
   "id": "1d5c499a-280a-418e-b3d4-13f0aee086dd",
   "metadata": {},
   "outputs": [],
   "source": [
    "from sklearn.metrics import confusion_matrix\n",
    "from sklearn.metrics import classification_report\n",
    "\n"
   ]
  },
  {
   "cell_type": "code",
   "execution_count": 59,
   "id": "f7d9458f-5707-4efd-83ca-db4a23629db6",
   "metadata": {},
   "outputs": [],
   "source": [
    "#perform the model\n",
    "#1.LogisticRegression\n",
    "#call logistic regression inbuilt class\n",
    "from sklearn.linear_model import LogisticRegression"
   ]
  },
  {
   "cell_type": "code",
   "execution_count": 60,
   "id": "88e238b9-7c3c-42aa-9311-c2bc43b22dd5",
   "metadata": {},
   "outputs": [],
   "source": [
    "lr=LogisticRegression()   #create the object of LogisticRegression Class"
   ]
  },
  {
   "cell_type": "code",
   "execution_count": 61,
   "id": "0785a256-20b8-40da-80c4-e32afbdd83bc",
   "metadata": {},
   "outputs": [
    {
     "name": "stdout",
     "output_type": "stream",
     "text": [
      "[[9282 1635]\n",
      " [1394 9523]]\n",
      "              precision    recall  f1-score   support\n",
      "\n",
      "           0       0.87      0.85      0.86     10917\n",
      "           1       0.85      0.87      0.86     10917\n",
      "\n",
      "    accuracy                           0.86     21834\n",
      "   macro avg       0.86      0.86      0.86     21834\n",
      "weighted avg       0.86      0.86      0.86     21834\n",
      "\n"
     ]
    }
   ],
   "source": [
    "#call function \n",
    "lr=create_model(lr)"
   ]
  },
  {
   "cell_type": "code",
   "execution_count": 62,
   "id": "367a1f4f-e63b-4811-9f97-fd903712d7f4",
   "metadata": {},
   "outputs": [],
   "source": [
    "#here recall score is important in this dataset and recall score = 0.87 means 87%\n",
    "#it is good but not better\n",
    "#reason behind of less socre : model is overfit\n",
    "#because LogisticRegression cannot select input features automaticaly."
   ]
  },
  {
   "cell_type": "code",
   "execution_count": 63,
   "id": "47e400bf-df89-435d-b3eb-563d9cdc4a3c",
   "metadata": {},
   "outputs": [],
   "source": [
    "#second Classification Algorithm : DecisionTreeClassifier\n",
    "#advantages : it can be select input features automatica with the help of Gini and Entropy Method\n"
   ]
  },
  {
   "cell_type": "code",
   "execution_count": 64,
   "id": "c53799ec-277e-4b28-be2b-537692644eda",
   "metadata": {},
   "outputs": [],
   "source": [
    "from sklearn.tree import DecisionTreeClassifier"
   ]
  },
  {
   "cell_type": "code",
   "execution_count": 65,
   "id": "64d9be18-c1cd-4799-b6c5-2f26e0c12425",
   "metadata": {},
   "outputs": [],
   "source": [
    "dtc=DecisionTreeClassifier(random_state=1)"
   ]
  },
  {
   "cell_type": "code",
   "execution_count": 66,
   "id": "83594840-28a3-4357-87f2-fdbcf544d6f1",
   "metadata": {},
   "outputs": [
    {
     "name": "stdout",
     "output_type": "stream",
     "text": [
      "[[10318   599]\n",
      " [ 5348  5569]]\n",
      "              precision    recall  f1-score   support\n",
      "\n",
      "           0       0.66      0.95      0.78     10917\n",
      "           1       0.90      0.51      0.65     10917\n",
      "\n",
      "    accuracy                           0.73     21834\n",
      "   macro avg       0.78      0.73      0.71     21834\n",
      "weighted avg       0.78      0.73      0.71     21834\n",
      "\n"
     ]
    }
   ],
   "source": [
    "#call user defined function\n",
    "dtc=create_model(dtc)"
   ]
  },
  {
   "cell_type": "code",
   "execution_count": 67,
   "id": "46e18c55-c0f3-4ad4-aba9-c3c710c7e587",
   "metadata": {},
   "outputs": [
    {
     "data": {
      "text/html": [
       "<div>\n",
       "<style scoped>\n",
       "    .dataframe tbody tr th:only-of-type {\n",
       "        vertical-align: middle;\n",
       "    }\n",
       "\n",
       "    .dataframe tbody tr th {\n",
       "        vertical-align: top;\n",
       "    }\n",
       "\n",
       "    .dataframe thead th {\n",
       "        text-align: right;\n",
       "    }\n",
       "</style>\n",
       "<table border=\"1\" class=\"dataframe\">\n",
       "  <thead>\n",
       "    <tr style=\"text-align: right;\">\n",
       "      <th></th>\n",
       "      <th>input columns</th>\n",
       "      <th>IG</th>\n",
       "    </tr>\n",
       "  </thead>\n",
       "  <tbody>\n",
       "    <tr>\n",
       "      <th>0</th>\n",
       "      <td>duration</td>\n",
       "      <td>0.440809</td>\n",
       "    </tr>\n",
       "    <tr>\n",
       "      <th>1</th>\n",
       "      <td>nr.employed</td>\n",
       "      <td>0.177071</td>\n",
       "    </tr>\n",
       "    <tr>\n",
       "      <th>2</th>\n",
       "      <td>euribor3m</td>\n",
       "      <td>0.074209</td>\n",
       "    </tr>\n",
       "    <tr>\n",
       "      <th>3</th>\n",
       "      <td>age</td>\n",
       "      <td>0.063784</td>\n",
       "    </tr>\n",
       "    <tr>\n",
       "      <th>4</th>\n",
       "      <td>emp.var.rate</td>\n",
       "      <td>0.038670</td>\n",
       "    </tr>\n",
       "    <tr>\n",
       "      <th>5</th>\n",
       "      <td>cons.conf.idx</td>\n",
       "      <td>0.030706</td>\n",
       "    </tr>\n",
       "    <tr>\n",
       "      <th>6</th>\n",
       "      <td>day_of_week</td>\n",
       "      <td>0.026089</td>\n",
       "    </tr>\n",
       "    <tr>\n",
       "      <th>7</th>\n",
       "      <td>job</td>\n",
       "      <td>0.023265</td>\n",
       "    </tr>\n",
       "    <tr>\n",
       "      <th>8</th>\n",
       "      <td>education</td>\n",
       "      <td>0.022763</td>\n",
       "    </tr>\n",
       "    <tr>\n",
       "      <th>9</th>\n",
       "      <td>campaign</td>\n",
       "      <td>0.021767</td>\n",
       "    </tr>\n",
       "    <tr>\n",
       "      <th>10</th>\n",
       "      <td>month</td>\n",
       "      <td>0.018673</td>\n",
       "    </tr>\n",
       "    <tr>\n",
       "      <th>11</th>\n",
       "      <td>marital</td>\n",
       "      <td>0.011119</td>\n",
       "    </tr>\n",
       "    <tr>\n",
       "      <th>12</th>\n",
       "      <td>housing</td>\n",
       "      <td>0.011050</td>\n",
       "    </tr>\n",
       "    <tr>\n",
       "      <th>13</th>\n",
       "      <td>pdays</td>\n",
       "      <td>0.010653</td>\n",
       "    </tr>\n",
       "    <tr>\n",
       "      <th>14</th>\n",
       "      <td>cons.price.idx</td>\n",
       "      <td>0.009403</td>\n",
       "    </tr>\n",
       "    <tr>\n",
       "      <th>15</th>\n",
       "      <td>previous</td>\n",
       "      <td>0.007196</td>\n",
       "    </tr>\n",
       "    <tr>\n",
       "      <th>16</th>\n",
       "      <td>loan</td>\n",
       "      <td>0.005444</td>\n",
       "    </tr>\n",
       "    <tr>\n",
       "      <th>17</th>\n",
       "      <td>contact</td>\n",
       "      <td>0.004051</td>\n",
       "    </tr>\n",
       "    <tr>\n",
       "      <th>18</th>\n",
       "      <td>poutcome</td>\n",
       "      <td>0.003277</td>\n",
       "    </tr>\n",
       "    <tr>\n",
       "      <th>19</th>\n",
       "      <td>default</td>\n",
       "      <td>0.000000</td>\n",
       "    </tr>\n",
       "  </tbody>\n",
       "</table>\n",
       "</div>"
      ],
      "text/plain": [
       "     input columns        IG\n",
       "0         duration  0.440809\n",
       "1      nr.employed  0.177071\n",
       "2        euribor3m  0.074209\n",
       "3              age  0.063784\n",
       "4     emp.var.rate  0.038670\n",
       "5    cons.conf.idx  0.030706\n",
       "6      day_of_week  0.026089\n",
       "7              job  0.023265\n",
       "8        education  0.022763\n",
       "9         campaign  0.021767\n",
       "10           month  0.018673\n",
       "11         marital  0.011119\n",
       "12         housing  0.011050\n",
       "13           pdays  0.010653\n",
       "14  cons.price.idx  0.009403\n",
       "15        previous  0.007196\n",
       "16            loan  0.005444\n",
       "17         contact  0.004051\n",
       "18        poutcome  0.003277\n",
       "19         default  0.000000"
      ]
     },
     "execution_count": 67,
     "metadata": {},
     "output_type": "execute_result"
    }
   ],
   "source": [
    "#create a df \n",
    "dict={'input columns':X.columns,'IG':dtc.feature_importances_}\n",
    "df1=pd.DataFrame(dict)\n",
    "df1.sort_values(by='IG',ascending=False,ignore_index=True)"
   ]
  },
  {
   "cell_type": "code",
   "execution_count": 68,
   "id": "a5307d7f-1b3d-4435-982b-9cd176bf7f1f",
   "metadata": {},
   "outputs": [],
   "source": [
    "#in decisiontreeclassifier,we got less than score0.51 means 51% reason behind the less score,model is overfit\n",
    "#so we reduce overfiting the model, then use pruning technique of DecisionTreeClassifier class\n",
    "#how to reduce overfitting situation by using the pruning technique:\n",
    "#  1: max_dept: inbuilt parameter of DecisionTreeClassifier class\n",
    "#  2.min_samples_leaf: inbuilt parameter of DecisionTreeClassifier class"
   ]
  },
  {
   "cell_type": "code",
   "execution_count": 69,
   "id": "ce1e79c5-007a-4a43-8d36-dc45b40cc6b4",
   "metadata": {},
   "outputs": [
    {
     "data": {
      "text/plain": [
       "'for i in range (1,9): #start=1 stop=9-1=8 step=+1\\n    #create object of DecisionTreeClassifier class and passing the parametrer max_dept\\n    dtc1=DecisionTreeClassifier(random_state=1,max_depth=i)\\n    #i=1 then i=2 etc\\n    #by default use method gini index\\n    print(\"\\nMax depth: \",i)\\n    #call user defined function\\n    dtc1=create_model(dtc1)'"
      ]
     },
     "execution_count": 69,
     "metadata": {},
     "output_type": "execute_result"
    }
   ],
   "source": [
    "#max_dept: inbuilt parameter of DecisionTreeClassifier class\n",
    "#value of max_depth parameter for any dataset<=8\n",
    "'''for i in range (1,9): #start=1 stop=9-1=8 step=+1\n",
    "    #create object of DecisionTreeClassifier class and passing the parametrer max_dept\n",
    "    dtc1=DecisionTreeClassifier(random_state=1,max_depth=i)\n",
    "    #i=1 then i=2 etc\n",
    "    #by default use method gini index\n",
    "    print(\"\\nMax depth: \",i)\n",
    "    #call user defined function\n",
    "    dtc1=create_model(dtc1)'''"
   ]
  },
  {
   "cell_type": "code",
   "execution_count": 70,
   "id": "dfc379c8-75aa-4162-98b3-522021a69d8f",
   "metadata": {},
   "outputs": [
    {
     "name": "stdout",
     "output_type": "stream",
     "text": [
      "[[ 9009  1908]\n",
      " [  784 10133]]\n",
      "              precision    recall  f1-score   support\n",
      "\n",
      "           0       0.92      0.83      0.87     10917\n",
      "           1       0.84      0.93      0.88     10917\n",
      "\n",
      "    accuracy                           0.88     21834\n",
      "   macro avg       0.88      0.88      0.88     21834\n",
      "weighted avg       0.88      0.88      0.88     21834\n",
      "\n"
     ]
    }
   ],
   "source": [
    "#create the object of DecisionTreeClassifier class and passing the parameter max_depth=5\n",
    "dtc1=DecisionTreeClassifier(random_state=1,max_depth=5)\n",
    "#by default use method gini index\n",
    "#call user defined function\n",
    "dtc1=create_model(dtc1)"
   ]
  },
  {
   "cell_type": "code",
   "execution_count": 71,
   "id": "ed916bb4-607a-4f70-a041-43b4da5859ab",
   "metadata": {},
   "outputs": [
    {
     "data": {
      "text/html": [
       "<div>\n",
       "<style scoped>\n",
       "    .dataframe tbody tr th:only-of-type {\n",
       "        vertical-align: middle;\n",
       "    }\n",
       "\n",
       "    .dataframe tbody tr th {\n",
       "        vertical-align: top;\n",
       "    }\n",
       "\n",
       "    .dataframe thead th {\n",
       "        text-align: right;\n",
       "    }\n",
       "</style>\n",
       "<table border=\"1\" class=\"dataframe\">\n",
       "  <thead>\n",
       "    <tr style=\"text-align: right;\">\n",
       "      <th></th>\n",
       "      <th>input columns</th>\n",
       "      <th>IG</th>\n",
       "    </tr>\n",
       "  </thead>\n",
       "  <tbody>\n",
       "    <tr>\n",
       "      <th>0</th>\n",
       "      <td>duration</td>\n",
       "      <td>0.564365</td>\n",
       "    </tr>\n",
       "    <tr>\n",
       "      <th>1</th>\n",
       "      <td>nr.employed</td>\n",
       "      <td>0.332387</td>\n",
       "    </tr>\n",
       "    <tr>\n",
       "      <th>2</th>\n",
       "      <td>cons.conf.idx</td>\n",
       "      <td>0.039068</td>\n",
       "    </tr>\n",
       "    <tr>\n",
       "      <th>3</th>\n",
       "      <td>euribor3m</td>\n",
       "      <td>0.025338</td>\n",
       "    </tr>\n",
       "    <tr>\n",
       "      <th>4</th>\n",
       "      <td>month</td>\n",
       "      <td>0.021158</td>\n",
       "    </tr>\n",
       "    <tr>\n",
       "      <th>5</th>\n",
       "      <td>pdays</td>\n",
       "      <td>0.013639</td>\n",
       "    </tr>\n",
       "    <tr>\n",
       "      <th>6</th>\n",
       "      <td>cons.price.idx</td>\n",
       "      <td>0.003561</td>\n",
       "    </tr>\n",
       "    <tr>\n",
       "      <th>7</th>\n",
       "      <td>previous</td>\n",
       "      <td>0.000367</td>\n",
       "    </tr>\n",
       "    <tr>\n",
       "      <th>8</th>\n",
       "      <td>campaign</td>\n",
       "      <td>0.000116</td>\n",
       "    </tr>\n",
       "    <tr>\n",
       "      <th>9</th>\n",
       "      <td>emp.var.rate</td>\n",
       "      <td>0.000000</td>\n",
       "    </tr>\n",
       "    <tr>\n",
       "      <th>10</th>\n",
       "      <td>job</td>\n",
       "      <td>0.000000</td>\n",
       "    </tr>\n",
       "    <tr>\n",
       "      <th>11</th>\n",
       "      <td>marital</td>\n",
       "      <td>0.000000</td>\n",
       "    </tr>\n",
       "    <tr>\n",
       "      <th>12</th>\n",
       "      <td>poutcome</td>\n",
       "      <td>0.000000</td>\n",
       "    </tr>\n",
       "    <tr>\n",
       "      <th>13</th>\n",
       "      <td>day_of_week</td>\n",
       "      <td>0.000000</td>\n",
       "    </tr>\n",
       "    <tr>\n",
       "      <th>14</th>\n",
       "      <td>contact</td>\n",
       "      <td>0.000000</td>\n",
       "    </tr>\n",
       "    <tr>\n",
       "      <th>15</th>\n",
       "      <td>loan</td>\n",
       "      <td>0.000000</td>\n",
       "    </tr>\n",
       "    <tr>\n",
       "      <th>16</th>\n",
       "      <td>housing</td>\n",
       "      <td>0.000000</td>\n",
       "    </tr>\n",
       "    <tr>\n",
       "      <th>17</th>\n",
       "      <td>default</td>\n",
       "      <td>0.000000</td>\n",
       "    </tr>\n",
       "    <tr>\n",
       "      <th>18</th>\n",
       "      <td>education</td>\n",
       "      <td>0.000000</td>\n",
       "    </tr>\n",
       "    <tr>\n",
       "      <th>19</th>\n",
       "      <td>age</td>\n",
       "      <td>0.000000</td>\n",
       "    </tr>\n",
       "  </tbody>\n",
       "</table>\n",
       "</div>"
      ],
      "text/plain": [
       "     input columns        IG\n",
       "0         duration  0.564365\n",
       "1      nr.employed  0.332387\n",
       "2    cons.conf.idx  0.039068\n",
       "3        euribor3m  0.025338\n",
       "4            month  0.021158\n",
       "5            pdays  0.013639\n",
       "6   cons.price.idx  0.003561\n",
       "7         previous  0.000367\n",
       "8         campaign  0.000116\n",
       "9     emp.var.rate  0.000000\n",
       "10             job  0.000000\n",
       "11         marital  0.000000\n",
       "12        poutcome  0.000000\n",
       "13     day_of_week  0.000000\n",
       "14         contact  0.000000\n",
       "15            loan  0.000000\n",
       "16         housing  0.000000\n",
       "17         default  0.000000\n",
       "18       education  0.000000\n",
       "19             age  0.000000"
      ]
     },
     "execution_count": 71,
     "metadata": {},
     "output_type": "execute_result"
    }
   ],
   "source": [
    "#create a df \n",
    "dict={'input columns':X.columns,'IG':dtc1.feature_importances_}   #IG means information gain of each input\n",
    "df1=pd.DataFrame(dict)\n",
    "df1.sort_values(by='IG',ascending=False,ignore_index=True)"
   ]
  },
  {
   "cell_type": "code",
   "execution_count": 72,
   "id": "035a203b-e1d2-4881-9301-aee70e547cf1",
   "metadata": {},
   "outputs": [],
   "source": [
    "#in above report, recall socre=0.93 means 93% and accuracy = 0.88 means 88%, DecisionTreeClassifier using Gini Index(max depth)"
   ]
  },
  {
   "cell_type": "code",
   "execution_count": 73,
   "id": "b231d5b8-0d49-415e-a475-ccb01bb4bbe8",
   "metadata": {},
   "outputs": [
    {
     "data": {
      "text/plain": [
       "'for i in range (45,101): #start=45 stop=101-1=100 step=+1\\n    #create object of DecisionTreeClassifier class and passing the parametr\\\\er min_samples_leaf\\n    dtc1=DecisionTreeClassifier(random_state=1,min_samples_leaf=i)\\n    #i=1 then i=2 etc\\n    #by default use method gini index\\n    print(\"\\nMin_samples_leaf: \",i)\\n    #call user defined function\\n    dtc1=create_model(dtc1)'"
      ]
     },
     "execution_count": 73,
     "metadata": {},
     "output_type": "execute_result"
    }
   ],
   "source": [
    "#min_samples_leaf: inbuilt parameter of DecisionTreeClassifier class\n",
    "#it is second pruning technique,leaf means no child\n",
    "#value of min_samples_leaf parameter for any dataset >=45 and <=100\n",
    "'''for i in range (45,101): #start=45 stop=101-1=100 step=+1\n",
    "    #create object of DecisionTreeClassifier class and passing the parametr\\er min_samples_leaf\n",
    "    dtc1=DecisionTreeClassifier(random_state=1,min_samples_leaf=i)\n",
    "    #i=1 then i=2 etc\n",
    "    #by default use method gini index\n",
    "    print(\"\\nMin_samples_leaf: \",i)\n",
    "    #call user defined function\n",
    "    dtc1=create_model(dtc1)'''"
   ]
  },
  {
   "cell_type": "code",
   "execution_count": 74,
   "id": "521fa990-97a3-4440-8517-c82359902859",
   "metadata": {},
   "outputs": [
    {
     "name": "stdout",
     "output_type": "stream",
     "text": [
      "[[ 9345  1572]\n",
      " [  908 10009]]\n",
      "              precision    recall  f1-score   support\n",
      "\n",
      "           0       0.91      0.86      0.88     10917\n",
      "           1       0.86      0.92      0.89     10917\n",
      "\n",
      "    accuracy                           0.89     21834\n",
      "   macro avg       0.89      0.89      0.89     21834\n",
      "weighted avg       0.89      0.89      0.89     21834\n",
      "\n"
     ]
    }
   ],
   "source": [
    "#create the object of DecisionTreeClassifier class and passing the parameter min_samples_leaf=63\n",
    "dtc2=DecisionTreeClassifier(random_state=1,min_samples_leaf=63)\n",
    "#call user defined function\n",
    "dtc2=create_model(dtc2)"
   ]
  },
  {
   "cell_type": "code",
   "execution_count": 75,
   "id": "c1eccd0a-376b-455b-9364-a0a3e61a1dbc",
   "metadata": {},
   "outputs": [
    {
     "data": {
      "text/html": [
       "<div>\n",
       "<style scoped>\n",
       "    .dataframe tbody tr th:only-of-type {\n",
       "        vertical-align: middle;\n",
       "    }\n",
       "\n",
       "    .dataframe tbody tr th {\n",
       "        vertical-align: top;\n",
       "    }\n",
       "\n",
       "    .dataframe thead th {\n",
       "        text-align: right;\n",
       "    }\n",
       "</style>\n",
       "<table border=\"1\" class=\"dataframe\">\n",
       "  <thead>\n",
       "    <tr style=\"text-align: right;\">\n",
       "      <th></th>\n",
       "      <th>input columns</th>\n",
       "      <th>IG</th>\n",
       "    </tr>\n",
       "  </thead>\n",
       "  <tbody>\n",
       "    <tr>\n",
       "      <th>0</th>\n",
       "      <td>duration</td>\n",
       "      <td>0.520311</td>\n",
       "    </tr>\n",
       "    <tr>\n",
       "      <th>1</th>\n",
       "      <td>nr.employed</td>\n",
       "      <td>0.242409</td>\n",
       "    </tr>\n",
       "    <tr>\n",
       "      <th>2</th>\n",
       "      <td>euribor3m</td>\n",
       "      <td>0.113439</td>\n",
       "    </tr>\n",
       "    <tr>\n",
       "      <th>3</th>\n",
       "      <td>cons.conf.idx</td>\n",
       "      <td>0.034988</td>\n",
       "    </tr>\n",
       "    <tr>\n",
       "      <th>4</th>\n",
       "      <td>month</td>\n",
       "      <td>0.020023</td>\n",
       "    </tr>\n",
       "    <tr>\n",
       "      <th>5</th>\n",
       "      <td>age</td>\n",
       "      <td>0.017776</td>\n",
       "    </tr>\n",
       "    <tr>\n",
       "      <th>6</th>\n",
       "      <td>day_of_week</td>\n",
       "      <td>0.012571</td>\n",
       "    </tr>\n",
       "    <tr>\n",
       "      <th>7</th>\n",
       "      <td>pdays</td>\n",
       "      <td>0.010475</td>\n",
       "    </tr>\n",
       "    <tr>\n",
       "      <th>8</th>\n",
       "      <td>cons.price.idx</td>\n",
       "      <td>0.005377</td>\n",
       "    </tr>\n",
       "    <tr>\n",
       "      <th>9</th>\n",
       "      <td>education</td>\n",
       "      <td>0.005098</td>\n",
       "    </tr>\n",
       "    <tr>\n",
       "      <th>10</th>\n",
       "      <td>campaign</td>\n",
       "      <td>0.003676</td>\n",
       "    </tr>\n",
       "    <tr>\n",
       "      <th>11</th>\n",
       "      <td>housing</td>\n",
       "      <td>0.003044</td>\n",
       "    </tr>\n",
       "    <tr>\n",
       "      <th>12</th>\n",
       "      <td>job</td>\n",
       "      <td>0.002871</td>\n",
       "    </tr>\n",
       "    <tr>\n",
       "      <th>13</th>\n",
       "      <td>previous</td>\n",
       "      <td>0.002584</td>\n",
       "    </tr>\n",
       "    <tr>\n",
       "      <th>14</th>\n",
       "      <td>contact</td>\n",
       "      <td>0.002170</td>\n",
       "    </tr>\n",
       "    <tr>\n",
       "      <th>15</th>\n",
       "      <td>poutcome</td>\n",
       "      <td>0.001586</td>\n",
       "    </tr>\n",
       "    <tr>\n",
       "      <th>16</th>\n",
       "      <td>marital</td>\n",
       "      <td>0.001500</td>\n",
       "    </tr>\n",
       "    <tr>\n",
       "      <th>17</th>\n",
       "      <td>loan</td>\n",
       "      <td>0.000104</td>\n",
       "    </tr>\n",
       "    <tr>\n",
       "      <th>18</th>\n",
       "      <td>emp.var.rate</td>\n",
       "      <td>0.000000</td>\n",
       "    </tr>\n",
       "    <tr>\n",
       "      <th>19</th>\n",
       "      <td>default</td>\n",
       "      <td>0.000000</td>\n",
       "    </tr>\n",
       "  </tbody>\n",
       "</table>\n",
       "</div>"
      ],
      "text/plain": [
       "     input columns        IG\n",
       "0         duration  0.520311\n",
       "1      nr.employed  0.242409\n",
       "2        euribor3m  0.113439\n",
       "3    cons.conf.idx  0.034988\n",
       "4            month  0.020023\n",
       "5              age  0.017776\n",
       "6      day_of_week  0.012571\n",
       "7            pdays  0.010475\n",
       "8   cons.price.idx  0.005377\n",
       "9        education  0.005098\n",
       "10        campaign  0.003676\n",
       "11         housing  0.003044\n",
       "12             job  0.002871\n",
       "13        previous  0.002584\n",
       "14         contact  0.002170\n",
       "15        poutcome  0.001586\n",
       "16         marital  0.001500\n",
       "17            loan  0.000104\n",
       "18    emp.var.rate  0.000000\n",
       "19         default  0.000000"
      ]
     },
     "execution_count": 75,
     "metadata": {},
     "output_type": "execute_result"
    }
   ],
   "source": [
    "#create a dataframe\n",
    "dict={\"input columns\": X.columns, \"IG\": dtc2.feature_importances_}\n",
    "df1=pd.DataFrame(dict)\n",
    "df1.sort_values(by=\"IG\", ascending=False, ignore_index=True)"
   ]
  },
  {
   "cell_type": "code",
   "execution_count": 76,
   "id": "76aafc02-b308-4981-98a2-a2cbefb91a55",
   "metadata": {},
   "outputs": [],
   "source": [
    "#in above report, recall socre=0.92 means 92% and accuracy = 0.89 means 89%, DecisionTreeClassifier using Gini Index(min samples leaf)"
   ]
  },
  {
   "cell_type": "code",
   "execution_count": 77,
   "id": "3f430410-3ca9-4cd8-b960-f85c05ecc5d0",
   "metadata": {},
   "outputs": [],
   "source": [
    "#use entropy method\n",
    "#create object\n",
    "dtc1=DecisionTreeClassifier(random_state=1,criterion='entropy')"
   ]
  },
  {
   "cell_type": "code",
   "execution_count": 78,
   "id": "5033e419-cf57-416d-948e-3e89378ba3e3",
   "metadata": {},
   "outputs": [
    {
     "name": "stdout",
     "output_type": "stream",
     "text": [
      "[[10256   661]\n",
      " [ 5392  5525]]\n",
      "              precision    recall  f1-score   support\n",
      "\n",
      "           0       0.66      0.94      0.77     10917\n",
      "           1       0.89      0.51      0.65     10917\n",
      "\n",
      "    accuracy                           0.72     21834\n",
      "   macro avg       0.77      0.72      0.71     21834\n",
      "weighted avg       0.77      0.72      0.71     21834\n",
      "\n"
     ]
    }
   ],
   "source": [
    "#call function\n",
    "dtc1=create_model(dtc1)"
   ]
  },
  {
   "cell_type": "code",
   "execution_count": 79,
   "id": "c2051cd8-aa5e-45c6-9f2d-fbf7873a839c",
   "metadata": {},
   "outputs": [
    {
     "data": {
      "text/html": [
       "<div>\n",
       "<style scoped>\n",
       "    .dataframe tbody tr th:only-of-type {\n",
       "        vertical-align: middle;\n",
       "    }\n",
       "\n",
       "    .dataframe tbody tr th {\n",
       "        vertical-align: top;\n",
       "    }\n",
       "\n",
       "    .dataframe thead th {\n",
       "        text-align: right;\n",
       "    }\n",
       "</style>\n",
       "<table border=\"1\" class=\"dataframe\">\n",
       "  <thead>\n",
       "    <tr style=\"text-align: right;\">\n",
       "      <th></th>\n",
       "      <th>input columns</th>\n",
       "      <th>IG</th>\n",
       "    </tr>\n",
       "  </thead>\n",
       "  <tbody>\n",
       "    <tr>\n",
       "      <th>0</th>\n",
       "      <td>duration</td>\n",
       "      <td>0.440809</td>\n",
       "    </tr>\n",
       "    <tr>\n",
       "      <th>1</th>\n",
       "      <td>nr.employed</td>\n",
       "      <td>0.177071</td>\n",
       "    </tr>\n",
       "    <tr>\n",
       "      <th>2</th>\n",
       "      <td>euribor3m</td>\n",
       "      <td>0.074209</td>\n",
       "    </tr>\n",
       "    <tr>\n",
       "      <th>3</th>\n",
       "      <td>age</td>\n",
       "      <td>0.063784</td>\n",
       "    </tr>\n",
       "    <tr>\n",
       "      <th>4</th>\n",
       "      <td>emp.var.rate</td>\n",
       "      <td>0.038670</td>\n",
       "    </tr>\n",
       "    <tr>\n",
       "      <th>5</th>\n",
       "      <td>cons.conf.idx</td>\n",
       "      <td>0.030706</td>\n",
       "    </tr>\n",
       "    <tr>\n",
       "      <th>6</th>\n",
       "      <td>day_of_week</td>\n",
       "      <td>0.026089</td>\n",
       "    </tr>\n",
       "    <tr>\n",
       "      <th>7</th>\n",
       "      <td>job</td>\n",
       "      <td>0.023265</td>\n",
       "    </tr>\n",
       "    <tr>\n",
       "      <th>8</th>\n",
       "      <td>education</td>\n",
       "      <td>0.022763</td>\n",
       "    </tr>\n",
       "    <tr>\n",
       "      <th>9</th>\n",
       "      <td>campaign</td>\n",
       "      <td>0.021767</td>\n",
       "    </tr>\n",
       "    <tr>\n",
       "      <th>10</th>\n",
       "      <td>month</td>\n",
       "      <td>0.018673</td>\n",
       "    </tr>\n",
       "    <tr>\n",
       "      <th>11</th>\n",
       "      <td>marital</td>\n",
       "      <td>0.011119</td>\n",
       "    </tr>\n",
       "    <tr>\n",
       "      <th>12</th>\n",
       "      <td>housing</td>\n",
       "      <td>0.011050</td>\n",
       "    </tr>\n",
       "    <tr>\n",
       "      <th>13</th>\n",
       "      <td>pdays</td>\n",
       "      <td>0.010653</td>\n",
       "    </tr>\n",
       "    <tr>\n",
       "      <th>14</th>\n",
       "      <td>cons.price.idx</td>\n",
       "      <td>0.009403</td>\n",
       "    </tr>\n",
       "    <tr>\n",
       "      <th>15</th>\n",
       "      <td>previous</td>\n",
       "      <td>0.007196</td>\n",
       "    </tr>\n",
       "    <tr>\n",
       "      <th>16</th>\n",
       "      <td>loan</td>\n",
       "      <td>0.005444</td>\n",
       "    </tr>\n",
       "    <tr>\n",
       "      <th>17</th>\n",
       "      <td>contact</td>\n",
       "      <td>0.004051</td>\n",
       "    </tr>\n",
       "    <tr>\n",
       "      <th>18</th>\n",
       "      <td>poutcome</td>\n",
       "      <td>0.003277</td>\n",
       "    </tr>\n",
       "    <tr>\n",
       "      <th>19</th>\n",
       "      <td>default</td>\n",
       "      <td>0.000000</td>\n",
       "    </tr>\n",
       "  </tbody>\n",
       "</table>\n",
       "</div>"
      ],
      "text/plain": [
       "     input columns        IG\n",
       "0         duration  0.440809\n",
       "1      nr.employed  0.177071\n",
       "2        euribor3m  0.074209\n",
       "3              age  0.063784\n",
       "4     emp.var.rate  0.038670\n",
       "5    cons.conf.idx  0.030706\n",
       "6      day_of_week  0.026089\n",
       "7              job  0.023265\n",
       "8        education  0.022763\n",
       "9         campaign  0.021767\n",
       "10           month  0.018673\n",
       "11         marital  0.011119\n",
       "12         housing  0.011050\n",
       "13           pdays  0.010653\n",
       "14  cons.price.idx  0.009403\n",
       "15        previous  0.007196\n",
       "16            loan  0.005444\n",
       "17         contact  0.004051\n",
       "18        poutcome  0.003277\n",
       "19         default  0.000000"
      ]
     },
     "execution_count": 79,
     "metadata": {},
     "output_type": "execute_result"
    }
   ],
   "source": [
    "#create a df \n",
    "dict={'input columns':X.columns,'IG':dtc.feature_importances_}\n",
    "df1=pd.DataFrame(dict)\n",
    "df1.sort_values(by='IG',ascending=False,ignore_index=True)"
   ]
  },
  {
   "cell_type": "code",
   "execution_count": 80,
   "id": "87306bc6-c409-45f6-b133-09ed3be2562f",
   "metadata": {},
   "outputs": [],
   "source": [
    "#in decisiontreeclassifier,we got less  score0.51 means 51% reason behind the less score,model is overfit\n",
    "#so we reduce overfiting the model, then use pruning technique of DecisionTreeClassifier class\n",
    "#how to reduce overfitting situation by using the pruning technique:\n",
    "#  1: max_dept: inbuilt parameter of DecisionTreeClassifier class\n",
    "#  2.min_samples_leaf: inbuilt parameter of DecisionTreeClassifier class"
   ]
  },
  {
   "cell_type": "code",
   "execution_count": 81,
   "id": "0d8440b0-0791-4039-956f-af51c6d024ce",
   "metadata": {},
   "outputs": [
    {
     "data": {
      "text/plain": [
       "'for i in range (1,9): #start=1 stop=9-1=8 step=+1\\n    #create object of DecisionTreeClassifier class and passing the parametrer max_dept\\n    dtc1=DecisionTreeClassifier(random_state=1,criterion=\\'entropy\\',max_depth=i)\\n    #i=1 then i=2 etc\\n    #by default use method gini index\\n    print(\"\\nMax depth: \",i)\\n    #call user defined function\\n    dtc1=create_model(dtc1)'"
      ]
     },
     "execution_count": 81,
     "metadata": {},
     "output_type": "execute_result"
    }
   ],
   "source": [
    "#max_dept: inbuilt parameter of DecisionTreeClassifier class\n",
    "#value of max_depth parameter for any dataset<=8\n",
    "'''for i in range (1,9): #start=1 stop=9-1=8 step=+1\n",
    "    #create object of DecisionTreeClassifier class and passing the parametrer max_dept\n",
    "    dtc1=DecisionTreeClassifier(random_state=1,criterion='entropy',max_depth=i)\n",
    "    #i=1 then i=2 etc\n",
    "    #by default use method gini index\n",
    "    print(\"\\nMax depth: \",i)\n",
    "    #call user defined function\n",
    "    dtc1=create_model(dtc1)'''"
   ]
  },
  {
   "cell_type": "code",
   "execution_count": 82,
   "id": "4bd1c0d8-d363-4fcf-911e-6148db4c1beb",
   "metadata": {},
   "outputs": [
    {
     "name": "stdout",
     "output_type": "stream",
     "text": [
      "[[ 9026  1891]\n",
      " [  884 10033]]\n",
      "              precision    recall  f1-score   support\n",
      "\n",
      "           0       0.91      0.83      0.87     10917\n",
      "           1       0.84      0.92      0.88     10917\n",
      "\n",
      "    accuracy                           0.87     21834\n",
      "   macro avg       0.88      0.87      0.87     21834\n",
      "weighted avg       0.88      0.87      0.87     21834\n",
      "\n"
     ]
    }
   ],
   "source": [
    "#create the object of DecisionTreeClassifier class and passing the parameter max_depth=5\n",
    "dtc1=DecisionTreeClassifier(random_state=1,criterion='entropy',max_depth=5)\n",
    "#by default use method gini index\n",
    "#call user defined function\n",
    "dtc1=create_model(dtc1)"
   ]
  },
  {
   "cell_type": "code",
   "execution_count": 83,
   "id": "800db8f3-9bea-4ac7-8868-3c0b88c2aa28",
   "metadata": {},
   "outputs": [
    {
     "data": {
      "text/html": [
       "<div>\n",
       "<style scoped>\n",
       "    .dataframe tbody tr th:only-of-type {\n",
       "        vertical-align: middle;\n",
       "    }\n",
       "\n",
       "    .dataframe tbody tr th {\n",
       "        vertical-align: top;\n",
       "    }\n",
       "\n",
       "    .dataframe thead th {\n",
       "        text-align: right;\n",
       "    }\n",
       "</style>\n",
       "<table border=\"1\" class=\"dataframe\">\n",
       "  <thead>\n",
       "    <tr style=\"text-align: right;\">\n",
       "      <th></th>\n",
       "      <th>input columns</th>\n",
       "      <th>IG</th>\n",
       "    </tr>\n",
       "  </thead>\n",
       "  <tbody>\n",
       "    <tr>\n",
       "      <th>0</th>\n",
       "      <td>duration</td>\n",
       "      <td>0.517963</td>\n",
       "    </tr>\n",
       "    <tr>\n",
       "      <th>1</th>\n",
       "      <td>nr.employed</td>\n",
       "      <td>0.291380</td>\n",
       "    </tr>\n",
       "    <tr>\n",
       "      <th>2</th>\n",
       "      <td>cons.conf.idx</td>\n",
       "      <td>0.076483</td>\n",
       "    </tr>\n",
       "    <tr>\n",
       "      <th>3</th>\n",
       "      <td>emp.var.rate</td>\n",
       "      <td>0.062732</td>\n",
       "    </tr>\n",
       "    <tr>\n",
       "      <th>4</th>\n",
       "      <td>month</td>\n",
       "      <td>0.019126</td>\n",
       "    </tr>\n",
       "    <tr>\n",
       "      <th>5</th>\n",
       "      <td>euribor3m</td>\n",
       "      <td>0.016354</td>\n",
       "    </tr>\n",
       "    <tr>\n",
       "      <th>6</th>\n",
       "      <td>pdays</td>\n",
       "      <td>0.011789</td>\n",
       "    </tr>\n",
       "    <tr>\n",
       "      <th>7</th>\n",
       "      <td>cons.price.idx</td>\n",
       "      <td>0.003500</td>\n",
       "    </tr>\n",
       "    <tr>\n",
       "      <th>8</th>\n",
       "      <td>previous</td>\n",
       "      <td>0.000492</td>\n",
       "    </tr>\n",
       "    <tr>\n",
       "      <th>9</th>\n",
       "      <td>campaign</td>\n",
       "      <td>0.000180</td>\n",
       "    </tr>\n",
       "    <tr>\n",
       "      <th>10</th>\n",
       "      <td>job</td>\n",
       "      <td>0.000000</td>\n",
       "    </tr>\n",
       "    <tr>\n",
       "      <th>11</th>\n",
       "      <td>marital</td>\n",
       "      <td>0.000000</td>\n",
       "    </tr>\n",
       "    <tr>\n",
       "      <th>12</th>\n",
       "      <td>poutcome</td>\n",
       "      <td>0.000000</td>\n",
       "    </tr>\n",
       "    <tr>\n",
       "      <th>13</th>\n",
       "      <td>day_of_week</td>\n",
       "      <td>0.000000</td>\n",
       "    </tr>\n",
       "    <tr>\n",
       "      <th>14</th>\n",
       "      <td>contact</td>\n",
       "      <td>0.000000</td>\n",
       "    </tr>\n",
       "    <tr>\n",
       "      <th>15</th>\n",
       "      <td>loan</td>\n",
       "      <td>0.000000</td>\n",
       "    </tr>\n",
       "    <tr>\n",
       "      <th>16</th>\n",
       "      <td>housing</td>\n",
       "      <td>0.000000</td>\n",
       "    </tr>\n",
       "    <tr>\n",
       "      <th>17</th>\n",
       "      <td>default</td>\n",
       "      <td>0.000000</td>\n",
       "    </tr>\n",
       "    <tr>\n",
       "      <th>18</th>\n",
       "      <td>education</td>\n",
       "      <td>0.000000</td>\n",
       "    </tr>\n",
       "    <tr>\n",
       "      <th>19</th>\n",
       "      <td>age</td>\n",
       "      <td>0.000000</td>\n",
       "    </tr>\n",
       "  </tbody>\n",
       "</table>\n",
       "</div>"
      ],
      "text/plain": [
       "     input columns        IG\n",
       "0         duration  0.517963\n",
       "1      nr.employed  0.291380\n",
       "2    cons.conf.idx  0.076483\n",
       "3     emp.var.rate  0.062732\n",
       "4            month  0.019126\n",
       "5        euribor3m  0.016354\n",
       "6            pdays  0.011789\n",
       "7   cons.price.idx  0.003500\n",
       "8         previous  0.000492\n",
       "9         campaign  0.000180\n",
       "10             job  0.000000\n",
       "11         marital  0.000000\n",
       "12        poutcome  0.000000\n",
       "13     day_of_week  0.000000\n",
       "14         contact  0.000000\n",
       "15            loan  0.000000\n",
       "16         housing  0.000000\n",
       "17         default  0.000000\n",
       "18       education  0.000000\n",
       "19             age  0.000000"
      ]
     },
     "execution_count": 83,
     "metadata": {},
     "output_type": "execute_result"
    }
   ],
   "source": [
    "#create a df \n",
    "dict={'input columns':X.columns,'IG':dtc1.feature_importances_}   #IG means information gain of each input\n",
    "df1=pd.DataFrame(dict)\n",
    "df1.sort_values(by='IG',ascending=False,ignore_index=True)"
   ]
  },
  {
   "cell_type": "code",
   "execution_count": 84,
   "id": "dd653be4-aa2a-4310-ad21-432be8bfad11",
   "metadata": {},
   "outputs": [],
   "source": [
    "#in above report, recall socre=0.92 means 92% and accuracy = 0.87 means 87%, DecisionTreeClassifier using Entropy Method(max depth)"
   ]
  },
  {
   "cell_type": "code",
   "execution_count": 85,
   "id": "cf082c19-0796-42b3-b7d3-813c9672e7f4",
   "metadata": {},
   "outputs": [
    {
     "data": {
      "text/plain": [
       "'for i in range (45,101): #start=45 stop=101-1=100 step=+1\\n    #create object of DecisionTreeClassifier class and passing the parameter min_samples_leaf\\n    dtc1=DecisionTreeClassifier(random_state=1,criterion=\\'entropy\\',min_samples_leaf=i)\\n    #i=1 then i=2 etc\\n    #by default use method gini index\\n    print(\"\\nMin_samples_leaf: \",i)\\n    #call user defined function\\n    dtc1=create_model(dtc1)'"
      ]
     },
     "execution_count": 85,
     "metadata": {},
     "output_type": "execute_result"
    }
   ],
   "source": [
    "#min_samples_leaf: inbuilt parameter of DecisionTreeClassifier class\n",
    "#it is second pruning technique,leaf means no child\n",
    "#value of min_samples_leaf parameter for any dataset >=45 and <=100\n",
    "'''for i in range (45,101): #start=45 stop=101-1=100 step=+1\n",
    "    #create object of DecisionTreeClassifier class and passing the parameter min_samples_leaf\n",
    "    dtc1=DecisionTreeClassifier(random_state=1,criterion='entropy',min_samples_leaf=i)\n",
    "    #i=1 then i=2 etc\n",
    "    #by default use method gini index\n",
    "    print(\"\\nMin_samples_leaf: \",i)\n",
    "    #call user defined function\n",
    "    dtc1=create_model(dtc1)'''"
   ]
  },
  {
   "cell_type": "code",
   "execution_count": 86,
   "id": "8d2ce7fb-6340-42d4-9523-3b21bd312739",
   "metadata": {},
   "outputs": [
    {
     "name": "stdout",
     "output_type": "stream",
     "text": [
      "[[ 9343  1574]\n",
      " [  816 10101]]\n",
      "              precision    recall  f1-score   support\n",
      "\n",
      "           0       0.92      0.86      0.89     10917\n",
      "           1       0.87      0.93      0.89     10917\n",
      "\n",
      "    accuracy                           0.89     21834\n",
      "   macro avg       0.89      0.89      0.89     21834\n",
      "weighted avg       0.89      0.89      0.89     21834\n",
      "\n"
     ]
    }
   ],
   "source": [
    "#create the object of DecisionTreeClassifier class and passing the parameter min_samples_leaf=99\n",
    "dtc2=DecisionTreeClassifier(random_state=1,criterion='entropy',min_samples_leaf=99)\n",
    "#call user defined function\n",
    "dtc2=create_model(dtc2)"
   ]
  },
  {
   "cell_type": "code",
   "execution_count": 87,
   "id": "85d1fc45-2dd1-43fa-878e-6fc29019ff61",
   "metadata": {},
   "outputs": [
    {
     "data": {
      "text/html": [
       "<div>\n",
       "<style scoped>\n",
       "    .dataframe tbody tr th:only-of-type {\n",
       "        vertical-align: middle;\n",
       "    }\n",
       "\n",
       "    .dataframe tbody tr th {\n",
       "        vertical-align: top;\n",
       "    }\n",
       "\n",
       "    .dataframe thead th {\n",
       "        text-align: right;\n",
       "    }\n",
       "</style>\n",
       "<table border=\"1\" class=\"dataframe\">\n",
       "  <thead>\n",
       "    <tr style=\"text-align: right;\">\n",
       "      <th></th>\n",
       "      <th>input columns</th>\n",
       "      <th>IG</th>\n",
       "    </tr>\n",
       "  </thead>\n",
       "  <tbody>\n",
       "    <tr>\n",
       "      <th>0</th>\n",
       "      <td>duration</td>\n",
       "      <td>0.465496</td>\n",
       "    </tr>\n",
       "    <tr>\n",
       "      <th>1</th>\n",
       "      <td>nr.employed</td>\n",
       "      <td>0.243887</td>\n",
       "    </tr>\n",
       "    <tr>\n",
       "      <th>2</th>\n",
       "      <td>euribor3m</td>\n",
       "      <td>0.074161</td>\n",
       "    </tr>\n",
       "    <tr>\n",
       "      <th>3</th>\n",
       "      <td>cons.conf.idx</td>\n",
       "      <td>0.071512</td>\n",
       "    </tr>\n",
       "    <tr>\n",
       "      <th>4</th>\n",
       "      <td>emp.var.rate</td>\n",
       "      <td>0.052488</td>\n",
       "    </tr>\n",
       "    <tr>\n",
       "      <th>5</th>\n",
       "      <td>month</td>\n",
       "      <td>0.017042</td>\n",
       "    </tr>\n",
       "    <tr>\n",
       "      <th>6</th>\n",
       "      <td>day_of_week</td>\n",
       "      <td>0.016376</td>\n",
       "    </tr>\n",
       "    <tr>\n",
       "      <th>7</th>\n",
       "      <td>age</td>\n",
       "      <td>0.016173</td>\n",
       "    </tr>\n",
       "    <tr>\n",
       "      <th>8</th>\n",
       "      <td>pdays</td>\n",
       "      <td>0.009864</td>\n",
       "    </tr>\n",
       "    <tr>\n",
       "      <th>9</th>\n",
       "      <td>education</td>\n",
       "      <td>0.005841</td>\n",
       "    </tr>\n",
       "    <tr>\n",
       "      <th>10</th>\n",
       "      <td>campaign</td>\n",
       "      <td>0.005549</td>\n",
       "    </tr>\n",
       "    <tr>\n",
       "      <th>11</th>\n",
       "      <td>cons.price.idx</td>\n",
       "      <td>0.004744</td>\n",
       "    </tr>\n",
       "    <tr>\n",
       "      <th>12</th>\n",
       "      <td>previous</td>\n",
       "      <td>0.004502</td>\n",
       "    </tr>\n",
       "    <tr>\n",
       "      <th>13</th>\n",
       "      <td>marital</td>\n",
       "      <td>0.003282</td>\n",
       "    </tr>\n",
       "    <tr>\n",
       "      <th>14</th>\n",
       "      <td>contact</td>\n",
       "      <td>0.002920</td>\n",
       "    </tr>\n",
       "    <tr>\n",
       "      <th>15</th>\n",
       "      <td>job</td>\n",
       "      <td>0.002632</td>\n",
       "    </tr>\n",
       "    <tr>\n",
       "      <th>16</th>\n",
       "      <td>loan</td>\n",
       "      <td>0.001358</td>\n",
       "    </tr>\n",
       "    <tr>\n",
       "      <th>17</th>\n",
       "      <td>poutcome</td>\n",
       "      <td>0.001185</td>\n",
       "    </tr>\n",
       "    <tr>\n",
       "      <th>18</th>\n",
       "      <td>housing</td>\n",
       "      <td>0.000987</td>\n",
       "    </tr>\n",
       "    <tr>\n",
       "      <th>19</th>\n",
       "      <td>default</td>\n",
       "      <td>0.000000</td>\n",
       "    </tr>\n",
       "  </tbody>\n",
       "</table>\n",
       "</div>"
      ],
      "text/plain": [
       "     input columns        IG\n",
       "0         duration  0.465496\n",
       "1      nr.employed  0.243887\n",
       "2        euribor3m  0.074161\n",
       "3    cons.conf.idx  0.071512\n",
       "4     emp.var.rate  0.052488\n",
       "5            month  0.017042\n",
       "6      day_of_week  0.016376\n",
       "7              age  0.016173\n",
       "8            pdays  0.009864\n",
       "9        education  0.005841\n",
       "10        campaign  0.005549\n",
       "11  cons.price.idx  0.004744\n",
       "12        previous  0.004502\n",
       "13         marital  0.003282\n",
       "14         contact  0.002920\n",
       "15             job  0.002632\n",
       "16            loan  0.001358\n",
       "17        poutcome  0.001185\n",
       "18         housing  0.000987\n",
       "19         default  0.000000"
      ]
     },
     "execution_count": 87,
     "metadata": {},
     "output_type": "execute_result"
    }
   ],
   "source": [
    "#create a dataframe\n",
    "dict={\"input columns\": X.columns, \"IG\": dtc2.feature_importances_}\n",
    "df1=pd.DataFrame(dict)\n",
    "df1.sort_values(by=\"IG\", ascending=False, ignore_index=True)"
   ]
  },
  {
   "cell_type": "code",
   "execution_count": 88,
   "id": "67fdeb5e-5518-47b8-998c-324a6129fda7",
   "metadata": {},
   "outputs": [],
   "source": [
    "#in above report, recall socre=0.93 means 93% and accuracy = 0.89 means 89%, DecisionTreeClassifier using Entropy Method(min samples leaf)"
   ]
  },
  {
   "cell_type": "code",
   "execution_count": 89,
   "id": "2a7e9382-f21d-4909-b249-d000cf14329b",
   "metadata": {},
   "outputs": [],
   "source": [
    "#Apply Ensembling Technique\n",
    "\n",
    "#1.BootStraping method:\n",
    "#RandomForestTree(use Bagging):\n",
    "\n",
    "from sklearn.ensemble import RandomForestClassifier\n"
   ]
  },
  {
   "cell_type": "code",
   "execution_count": 90,
   "id": "bea8cc54-c4c9-4767-9514-fb86a6627912",
   "metadata": {},
   "outputs": [
    {
     "data": {
      "text/plain": [
       "\"for i in range(10,101):\\n    rfc=RandomForestClassifier(n_estimators=i,random_state=1)\\n    print('No. of estimators means no. of Decision tree :',i)\\n    rfc=create_model(rfc)\""
      ]
     },
     "execution_count": 90,
     "metadata": {},
     "output_type": "execute_result"
    }
   ],
   "source": [
    "#Randamforest classifier  inbuil inner class\n",
    "'''for i in range(10,101):\n",
    "    rfc=RandomForestClassifier(n_estimators=i,random_state=1)\n",
    "    print('No. of estimators means no. of Decision tree :',i)\n",
    "    rfc=create_model(rfc)'''"
   ]
  },
  {
   "cell_type": "code",
   "execution_count": 91,
   "id": "5086918a-93f2-4202-8692-90af6de03898",
   "metadata": {},
   "outputs": [
    {
     "name": "stdout",
     "output_type": "stream",
     "text": [
      "[[10314   603]\n",
      " [ 3984  6933]]\n",
      "              precision    recall  f1-score   support\n",
      "\n",
      "           0       0.72      0.94      0.82     10917\n",
      "           1       0.92      0.64      0.75     10917\n",
      "\n",
      "    accuracy                           0.79     21834\n",
      "   macro avg       0.82      0.79      0.78     21834\n",
      "weighted avg       0.82      0.79      0.78     21834\n",
      "\n"
     ]
    }
   ],
   "source": [
    " rfc=RandomForestClassifier(n_estimators=37,random_state=1)\n",
    " rfc=create_model(rfc)"
   ]
  },
  {
   "cell_type": "code",
   "execution_count": 92,
   "id": "1d9909d2-f9f8-4ced-98c3-7685758d55c9",
   "metadata": {},
   "outputs": [
    {
     "data": {
      "text/html": [
       "<div>\n",
       "<style scoped>\n",
       "    .dataframe tbody tr th:only-of-type {\n",
       "        vertical-align: middle;\n",
       "    }\n",
       "\n",
       "    .dataframe tbody tr th {\n",
       "        vertical-align: top;\n",
       "    }\n",
       "\n",
       "    .dataframe thead th {\n",
       "        text-align: right;\n",
       "    }\n",
       "</style>\n",
       "<table border=\"1\" class=\"dataframe\">\n",
       "  <thead>\n",
       "    <tr style=\"text-align: right;\">\n",
       "      <th></th>\n",
       "      <th>input columns</th>\n",
       "      <th>IG</th>\n",
       "    </tr>\n",
       "  </thead>\n",
       "  <tbody>\n",
       "    <tr>\n",
       "      <th>0</th>\n",
       "      <td>duration</td>\n",
       "      <td>4.166227e-01</td>\n",
       "    </tr>\n",
       "    <tr>\n",
       "      <th>1</th>\n",
       "      <td>euribor3m</td>\n",
       "      <td>9.936156e-02</td>\n",
       "    </tr>\n",
       "    <tr>\n",
       "      <th>2</th>\n",
       "      <td>nr.employed</td>\n",
       "      <td>7.761961e-02</td>\n",
       "    </tr>\n",
       "    <tr>\n",
       "      <th>3</th>\n",
       "      <td>age</td>\n",
       "      <td>6.261613e-02</td>\n",
       "    </tr>\n",
       "    <tr>\n",
       "      <th>4</th>\n",
       "      <td>emp.var.rate</td>\n",
       "      <td>5.744127e-02</td>\n",
       "    </tr>\n",
       "    <tr>\n",
       "      <th>5</th>\n",
       "      <td>cons.conf.idx</td>\n",
       "      <td>3.228861e-02</td>\n",
       "    </tr>\n",
       "    <tr>\n",
       "      <th>6</th>\n",
       "      <td>job</td>\n",
       "      <td>3.225605e-02</td>\n",
       "    </tr>\n",
       "    <tr>\n",
       "      <th>7</th>\n",
       "      <td>campaign</td>\n",
       "      <td>2.983584e-02</td>\n",
       "    </tr>\n",
       "    <tr>\n",
       "      <th>8</th>\n",
       "      <td>education</td>\n",
       "      <td>2.973832e-02</td>\n",
       "    </tr>\n",
       "    <tr>\n",
       "      <th>9</th>\n",
       "      <td>day_of_week</td>\n",
       "      <td>2.692070e-02</td>\n",
       "    </tr>\n",
       "    <tr>\n",
       "      <th>10</th>\n",
       "      <td>cons.price.idx</td>\n",
       "      <td>2.271293e-02</td>\n",
       "    </tr>\n",
       "    <tr>\n",
       "      <th>11</th>\n",
       "      <td>pdays</td>\n",
       "      <td>2.148998e-02</td>\n",
       "    </tr>\n",
       "    <tr>\n",
       "      <th>12</th>\n",
       "      <td>poutcome</td>\n",
       "      <td>1.932100e-02</td>\n",
       "    </tr>\n",
       "    <tr>\n",
       "      <th>13</th>\n",
       "      <td>month</td>\n",
       "      <td>1.746374e-02</td>\n",
       "    </tr>\n",
       "    <tr>\n",
       "      <th>14</th>\n",
       "      <td>marital</td>\n",
       "      <td>1.573486e-02</td>\n",
       "    </tr>\n",
       "    <tr>\n",
       "      <th>15</th>\n",
       "      <td>housing</td>\n",
       "      <td>1.169722e-02</td>\n",
       "    </tr>\n",
       "    <tr>\n",
       "      <th>16</th>\n",
       "      <td>previous</td>\n",
       "      <td>1.013625e-02</td>\n",
       "    </tr>\n",
       "    <tr>\n",
       "      <th>17</th>\n",
       "      <td>contact</td>\n",
       "      <td>8.608141e-03</td>\n",
       "    </tr>\n",
       "    <tr>\n",
       "      <th>18</th>\n",
       "      <td>loan</td>\n",
       "      <td>8.135063e-03</td>\n",
       "    </tr>\n",
       "    <tr>\n",
       "      <th>19</th>\n",
       "      <td>default</td>\n",
       "      <td>2.354868e-08</td>\n",
       "    </tr>\n",
       "  </tbody>\n",
       "</table>\n",
       "</div>"
      ],
      "text/plain": [
       "     input columns            IG\n",
       "0         duration  4.166227e-01\n",
       "1        euribor3m  9.936156e-02\n",
       "2      nr.employed  7.761961e-02\n",
       "3              age  6.261613e-02\n",
       "4     emp.var.rate  5.744127e-02\n",
       "5    cons.conf.idx  3.228861e-02\n",
       "6              job  3.225605e-02\n",
       "7         campaign  2.983584e-02\n",
       "8        education  2.973832e-02\n",
       "9      day_of_week  2.692070e-02\n",
       "10  cons.price.idx  2.271293e-02\n",
       "11           pdays  2.148998e-02\n",
       "12        poutcome  1.932100e-02\n",
       "13           month  1.746374e-02\n",
       "14         marital  1.573486e-02\n",
       "15         housing  1.169722e-02\n",
       "16        previous  1.013625e-02\n",
       "17         contact  8.608141e-03\n",
       "18            loan  8.135063e-03\n",
       "19         default  2.354868e-08"
      ]
     },
     "execution_count": 92,
     "metadata": {},
     "output_type": "execute_result"
    }
   ],
   "source": [
    "#create a dataframe\n",
    "dict={\"input columns\": X.columns, \"IG\": rfc.feature_importances_}\n",
    "df1=pd.DataFrame(dict)\n",
    "df1.sort_values(by=\"IG\", ascending=False, ignore_index=True)"
   ]
  },
  {
   "cell_type": "code",
   "execution_count": 93,
   "id": "0ec896a4-f2fa-402a-91ef-d0577fe0b5ee",
   "metadata": {},
   "outputs": [],
   "source": [
    "#In above report, recall score = 0.64 means 64% and Accuracy = 0.79 means 79%, using RandomForestClassifier"
   ]
  },
  {
   "cell_type": "code",
   "execution_count": 94,
   "id": "00e7c27e-346e-4fc1-a622-77e3368907e4",
   "metadata": {},
   "outputs": [],
   "source": [
    "#Apply Next Ensembling Technique on same dataset \n",
    "#ADA Boost\n",
    "#in adaptor boosting : create decision stump. Decision stump means one root node and 2 childs\n",
    "#inbuilt class AdaBoostClassifier\n",
    "from sklearn.ensemble import AdaBoostClassifier"
   ]
  },
  {
   "cell_type": "code",
   "execution_count": 95,
   "id": "0dfa93e9-4a51-46ea-a684-a5f6ae199d98",
   "metadata": {},
   "outputs": [
    {
     "data": {
      "text/plain": [
       "'for i in range(1,17):\\n    #create the object of class AdaBoostClassifier\\n    ada=AdaBoostClassifier(n_estimators=i,random_state=1)\\n    print(\"No of Estimator :\",i)\\n    \\n    #call user defined function\\n    ada=create_model(ada)'"
      ]
     },
     "execution_count": 95,
     "metadata": {},
     "output_type": "execute_result"
    }
   ],
   "source": [
    "'''for i in range(1,17):\n",
    "    #create the object of class AdaBoostClassifier\n",
    "    ada=AdaBoostClassifier(n_estimators=i,random_state=1)\n",
    "    print(\"No of Estimator :\",i)\n",
    "    \n",
    "    #call user defined function\n",
    "    ada=create_model(ada)'''"
   ]
  },
  {
   "cell_type": "code",
   "execution_count": 96,
   "id": "9eea70a9-c726-4a48-a098-f821905df53c",
   "metadata": {},
   "outputs": [
    {
     "name": "stdout",
     "output_type": "stream",
     "text": [
      "[[9315 1602]\n",
      " [1254 9663]]\n",
      "              precision    recall  f1-score   support\n",
      "\n",
      "           0       0.88      0.85      0.87     10917\n",
      "           1       0.86      0.89      0.87     10917\n",
      "\n",
      "    accuracy                           0.87     21834\n",
      "   macro avg       0.87      0.87      0.87     21834\n",
      "weighted avg       0.87      0.87      0.87     21834\n",
      "\n"
     ]
    }
   ],
   "source": [
    "#create the object of class AdaBoostClassifier\n",
    "ada=AdaBoostClassifier(n_estimators=13,random_state=1)\n",
    "#call user defined function\n",
    "ada=create_model(ada)"
   ]
  },
  {
   "cell_type": "code",
   "execution_count": 97,
   "id": "548fbcc2-a1f2-4b76-928c-6bf6a790b68f",
   "metadata": {},
   "outputs": [
    {
     "data": {
      "text/html": [
       "<div>\n",
       "<style scoped>\n",
       "    .dataframe tbody tr th:only-of-type {\n",
       "        vertical-align: middle;\n",
       "    }\n",
       "\n",
       "    .dataframe tbody tr th {\n",
       "        vertical-align: top;\n",
       "    }\n",
       "\n",
       "    .dataframe thead th {\n",
       "        text-align: right;\n",
       "    }\n",
       "</style>\n",
       "<table border=\"1\" class=\"dataframe\">\n",
       "  <thead>\n",
       "    <tr style=\"text-align: right;\">\n",
       "      <th></th>\n",
       "      <th>input columns</th>\n",
       "      <th>IG</th>\n",
       "    </tr>\n",
       "  </thead>\n",
       "  <tbody>\n",
       "    <tr>\n",
       "      <th>0</th>\n",
       "      <td>duration</td>\n",
       "      <td>0.461538</td>\n",
       "    </tr>\n",
       "    <tr>\n",
       "      <th>1</th>\n",
       "      <td>cons.conf.idx</td>\n",
       "      <td>0.153846</td>\n",
       "    </tr>\n",
       "    <tr>\n",
       "      <th>2</th>\n",
       "      <td>nr.employed</td>\n",
       "      <td>0.076923</td>\n",
       "    </tr>\n",
       "    <tr>\n",
       "      <th>3</th>\n",
       "      <td>euribor3m</td>\n",
       "      <td>0.076923</td>\n",
       "    </tr>\n",
       "    <tr>\n",
       "      <th>4</th>\n",
       "      <td>cons.price.idx</td>\n",
       "      <td>0.076923</td>\n",
       "    </tr>\n",
       "    <tr>\n",
       "      <th>5</th>\n",
       "      <td>emp.var.rate</td>\n",
       "      <td>0.076923</td>\n",
       "    </tr>\n",
       "    <tr>\n",
       "      <th>6</th>\n",
       "      <td>pdays</td>\n",
       "      <td>0.076923</td>\n",
       "    </tr>\n",
       "    <tr>\n",
       "      <th>7</th>\n",
       "      <td>marital</td>\n",
       "      <td>0.000000</td>\n",
       "    </tr>\n",
       "    <tr>\n",
       "      <th>8</th>\n",
       "      <td>previous</td>\n",
       "      <td>0.000000</td>\n",
       "    </tr>\n",
       "    <tr>\n",
       "      <th>9</th>\n",
       "      <td>campaign</td>\n",
       "      <td>0.000000</td>\n",
       "    </tr>\n",
       "    <tr>\n",
       "      <th>10</th>\n",
       "      <td>job</td>\n",
       "      <td>0.000000</td>\n",
       "    </tr>\n",
       "    <tr>\n",
       "      <th>11</th>\n",
       "      <td>poutcome</td>\n",
       "      <td>0.000000</td>\n",
       "    </tr>\n",
       "    <tr>\n",
       "      <th>12</th>\n",
       "      <td>day_of_week</td>\n",
       "      <td>0.000000</td>\n",
       "    </tr>\n",
       "    <tr>\n",
       "      <th>13</th>\n",
       "      <td>month</td>\n",
       "      <td>0.000000</td>\n",
       "    </tr>\n",
       "    <tr>\n",
       "      <th>14</th>\n",
       "      <td>contact</td>\n",
       "      <td>0.000000</td>\n",
       "    </tr>\n",
       "    <tr>\n",
       "      <th>15</th>\n",
       "      <td>loan</td>\n",
       "      <td>0.000000</td>\n",
       "    </tr>\n",
       "    <tr>\n",
       "      <th>16</th>\n",
       "      <td>housing</td>\n",
       "      <td>0.000000</td>\n",
       "    </tr>\n",
       "    <tr>\n",
       "      <th>17</th>\n",
       "      <td>default</td>\n",
       "      <td>0.000000</td>\n",
       "    </tr>\n",
       "    <tr>\n",
       "      <th>18</th>\n",
       "      <td>education</td>\n",
       "      <td>0.000000</td>\n",
       "    </tr>\n",
       "    <tr>\n",
       "      <th>19</th>\n",
       "      <td>age</td>\n",
       "      <td>0.000000</td>\n",
       "    </tr>\n",
       "  </tbody>\n",
       "</table>\n",
       "</div>"
      ],
      "text/plain": [
       "     input columns        IG\n",
       "0         duration  0.461538\n",
       "1    cons.conf.idx  0.153846\n",
       "2      nr.employed  0.076923\n",
       "3        euribor3m  0.076923\n",
       "4   cons.price.idx  0.076923\n",
       "5     emp.var.rate  0.076923\n",
       "6            pdays  0.076923\n",
       "7          marital  0.000000\n",
       "8         previous  0.000000\n",
       "9         campaign  0.000000\n",
       "10             job  0.000000\n",
       "11        poutcome  0.000000\n",
       "12     day_of_week  0.000000\n",
       "13           month  0.000000\n",
       "14         contact  0.000000\n",
       "15            loan  0.000000\n",
       "16         housing  0.000000\n",
       "17         default  0.000000\n",
       "18       education  0.000000\n",
       "19             age  0.000000"
      ]
     },
     "execution_count": 97,
     "metadata": {},
     "output_type": "execute_result"
    }
   ],
   "source": [
    "#create a dataframe\n",
    "dict={\"input columns\": X.columns, \"IG\": ada.feature_importances_}\n",
    "df1=pd.DataFrame(dict)\n",
    "df1.sort_values(by=\"IG\", ascending=False, ignore_index=True)"
   ]
  },
  {
   "cell_type": "code",
   "execution_count": 98,
   "id": "3ae0257d-7332-439d-bd63-4b7763212ef4",
   "metadata": {},
   "outputs": [],
   "source": [
    "#In above report, recall score = 0.89 means 89% and Accuracy = 0.87 means 87%, using AdaBoostClassifier"
   ]
  },
  {
   "cell_type": "code",
   "execution_count": 99,
   "id": "2abcf16b-00b8-461b-bd35-d6433f1d571f",
   "metadata": {},
   "outputs": [],
   "source": [
    "#2.Gradient Boosting (GB):\n",
    "\n",
    "from sklearn.ensemble import GradientBoostingClassifier"
   ]
  },
  {
   "cell_type": "code",
   "execution_count": 100,
   "id": "5754aff2-1eeb-44be-bb7e-929d4c79ffd1",
   "metadata": {},
   "outputs": [
    {
     "data": {
      "text/plain": [
       "'for i in range(10,101):\\n    #create the object of class GradientBoostingClassifier\\n    gbc=GradientBoostingClassifier(n_estimators=i,random_state=1)\\n    print(\"No of Estimator :\",i)\\n    \\n    #call user defined function\\n    gbc=create_model(gbc)'"
      ]
     },
     "execution_count": 100,
     "metadata": {},
     "output_type": "execute_result"
    }
   ],
   "source": [
    "'''for i in range(10,101):\n",
    "    #create the object of class GradientBoostingClassifier\n",
    "    gbc=GradientBoostingClassifier(n_estimators=i,random_state=1)\n",
    "    print(\"No of Estimator :\",i)\n",
    "    \n",
    "    #call user defined function\n",
    "    gbc=create_model(gbc)'''"
   ]
  },
  {
   "cell_type": "code",
   "execution_count": 101,
   "id": "739784dd-708a-4638-984f-c3ce6a339f21",
   "metadata": {},
   "outputs": [
    {
     "name": "stdout",
     "output_type": "stream",
     "text": [
      "[[ 8927  1990]\n",
      " [  787 10130]]\n",
      "              precision    recall  f1-score   support\n",
      "\n",
      "           0       0.92      0.82      0.87     10917\n",
      "           1       0.84      0.93      0.88     10917\n",
      "\n",
      "    accuracy                           0.87     21834\n",
      "   macro avg       0.88      0.87      0.87     21834\n",
      "weighted avg       0.88      0.87      0.87     21834\n",
      "\n"
     ]
    }
   ],
   "source": [
    "#create the object of class GradientBoostingClassifier\n",
    "gbc=GradientBoostingClassifier(n_estimators=15,random_state=1)\n",
    "#call user defined function\n",
    "gbc=create_model(gbc)"
   ]
  },
  {
   "cell_type": "code",
   "execution_count": 102,
   "id": "cb1da827-9fa1-4b85-acb3-5c8c2a3270c7",
   "metadata": {},
   "outputs": [
    {
     "data": {
      "text/html": [
       "<div>\n",
       "<style scoped>\n",
       "    .dataframe tbody tr th:only-of-type {\n",
       "        vertical-align: middle;\n",
       "    }\n",
       "\n",
       "    .dataframe tbody tr th {\n",
       "        vertical-align: top;\n",
       "    }\n",
       "\n",
       "    .dataframe thead th {\n",
       "        text-align: right;\n",
       "    }\n",
       "</style>\n",
       "<table border=\"1\" class=\"dataframe\">\n",
       "  <thead>\n",
       "    <tr style=\"text-align: right;\">\n",
       "      <th></th>\n",
       "      <th>input columns</th>\n",
       "      <th>IG</th>\n",
       "    </tr>\n",
       "  </thead>\n",
       "  <tbody>\n",
       "    <tr>\n",
       "      <th>0</th>\n",
       "      <td>duration</td>\n",
       "      <td>0.544806</td>\n",
       "    </tr>\n",
       "    <tr>\n",
       "      <th>1</th>\n",
       "      <td>nr.employed</td>\n",
       "      <td>0.291497</td>\n",
       "    </tr>\n",
       "    <tr>\n",
       "      <th>2</th>\n",
       "      <td>euribor3m</td>\n",
       "      <td>0.073571</td>\n",
       "    </tr>\n",
       "    <tr>\n",
       "      <th>3</th>\n",
       "      <td>cons.conf.idx</td>\n",
       "      <td>0.055725</td>\n",
       "    </tr>\n",
       "    <tr>\n",
       "      <th>4</th>\n",
       "      <td>emp.var.rate</td>\n",
       "      <td>0.009421</td>\n",
       "    </tr>\n",
       "    <tr>\n",
       "      <th>5</th>\n",
       "      <td>cons.price.idx</td>\n",
       "      <td>0.008625</td>\n",
       "    </tr>\n",
       "    <tr>\n",
       "      <th>6</th>\n",
       "      <td>pdays</td>\n",
       "      <td>0.008571</td>\n",
       "    </tr>\n",
       "    <tr>\n",
       "      <th>7</th>\n",
       "      <td>month</td>\n",
       "      <td>0.006194</td>\n",
       "    </tr>\n",
       "    <tr>\n",
       "      <th>8</th>\n",
       "      <td>age</td>\n",
       "      <td>0.000846</td>\n",
       "    </tr>\n",
       "    <tr>\n",
       "      <th>9</th>\n",
       "      <td>campaign</td>\n",
       "      <td>0.000404</td>\n",
       "    </tr>\n",
       "    <tr>\n",
       "      <th>10</th>\n",
       "      <td>contact</td>\n",
       "      <td>0.000339</td>\n",
       "    </tr>\n",
       "    <tr>\n",
       "      <th>11</th>\n",
       "      <td>poutcome</td>\n",
       "      <td>0.000000</td>\n",
       "    </tr>\n",
       "    <tr>\n",
       "      <th>12</th>\n",
       "      <td>marital</td>\n",
       "      <td>0.000000</td>\n",
       "    </tr>\n",
       "    <tr>\n",
       "      <th>13</th>\n",
       "      <td>day_of_week</td>\n",
       "      <td>0.000000</td>\n",
       "    </tr>\n",
       "    <tr>\n",
       "      <th>14</th>\n",
       "      <td>previous</td>\n",
       "      <td>0.000000</td>\n",
       "    </tr>\n",
       "    <tr>\n",
       "      <th>15</th>\n",
       "      <td>loan</td>\n",
       "      <td>0.000000</td>\n",
       "    </tr>\n",
       "    <tr>\n",
       "      <th>16</th>\n",
       "      <td>housing</td>\n",
       "      <td>0.000000</td>\n",
       "    </tr>\n",
       "    <tr>\n",
       "      <th>17</th>\n",
       "      <td>default</td>\n",
       "      <td>0.000000</td>\n",
       "    </tr>\n",
       "    <tr>\n",
       "      <th>18</th>\n",
       "      <td>education</td>\n",
       "      <td>0.000000</td>\n",
       "    </tr>\n",
       "    <tr>\n",
       "      <th>19</th>\n",
       "      <td>job</td>\n",
       "      <td>0.000000</td>\n",
       "    </tr>\n",
       "  </tbody>\n",
       "</table>\n",
       "</div>"
      ],
      "text/plain": [
       "     input columns        IG\n",
       "0         duration  0.544806\n",
       "1      nr.employed  0.291497\n",
       "2        euribor3m  0.073571\n",
       "3    cons.conf.idx  0.055725\n",
       "4     emp.var.rate  0.009421\n",
       "5   cons.price.idx  0.008625\n",
       "6            pdays  0.008571\n",
       "7            month  0.006194\n",
       "8              age  0.000846\n",
       "9         campaign  0.000404\n",
       "10         contact  0.000339\n",
       "11        poutcome  0.000000\n",
       "12         marital  0.000000\n",
       "13     day_of_week  0.000000\n",
       "14        previous  0.000000\n",
       "15            loan  0.000000\n",
       "16         housing  0.000000\n",
       "17         default  0.000000\n",
       "18       education  0.000000\n",
       "19             job  0.000000"
      ]
     },
     "execution_count": 102,
     "metadata": {},
     "output_type": "execute_result"
    }
   ],
   "source": [
    "#create a dataframe\n",
    "dict={\"input columns\": X.columns, \"IG\": gbc.feature_importances_}\n",
    "df1=pd.DataFrame(dict)\n",
    "df1.sort_values(by=\"IG\", ascending=False, ignore_index=True)"
   ]
  },
  {
   "cell_type": "code",
   "execution_count": 103,
   "id": "e96e984f-bf40-4b86-b693-680a50a136ee",
   "metadata": {},
   "outputs": [],
   "source": [
    "#In above report, recall score = 0.93 means 93% and Accuracy = 0.87 means 87%, GradientBoostingClassifier"
   ]
  },
  {
   "cell_type": "code",
   "execution_count": 104,
   "id": "600a02c2-e9c9-439d-af3b-b237f38764e3",
   "metadata": {},
   "outputs": [],
   "source": [
    "#Extreme Gradient Boost\n",
    "#!pip install xgboost"
   ]
  },
  {
   "cell_type": "code",
   "execution_count": 105,
   "id": "1e447cd2-8324-4758-af40-80559c6545e6",
   "metadata": {},
   "outputs": [],
   "source": [
    "from xgboost import XGBClassifier"
   ]
  },
  {
   "cell_type": "code",
   "execution_count": 106,
   "id": "0a3731d6-0adf-49ac-ab5b-7dd77cbd886d",
   "metadata": {},
   "outputs": [
    {
     "data": {
      "text/plain": [
       "'for i in range(10,101):\\n    #create the object of class XGBClassifier\\n    xgbc=XGBClassifier(n_estimators=i,reg_alpha=1,random_state=1)\\n    print(\"No of Estimator :\",i)\\n    \\n    #call user defined function\\n    xgbc=create_model(xgbc)'"
      ]
     },
     "execution_count": 106,
     "metadata": {},
     "output_type": "execute_result"
    }
   ],
   "source": [
    "'''for i in range(10,101):\n",
    "    #create the object of class XGBClassifier\n",
    "    xgbc=XGBClassifier(n_estimators=i,reg_alpha=1,random_state=1)\n",
    "    print(\"No of Estimator :\",i)\n",
    "    \n",
    "    #call user defined function\n",
    "    xgbc=create_model(xgbc)'''"
   ]
  },
  {
   "cell_type": "code",
   "execution_count": 107,
   "id": "408f5848-248a-4463-9250-5657e6088b30",
   "metadata": {},
   "outputs": [
    {
     "name": "stdout",
     "output_type": "stream",
     "text": [
      "[[ 9267  1650]\n",
      " [  779 10138]]\n",
      "              precision    recall  f1-score   support\n",
      "\n",
      "           0       0.92      0.85      0.88     10917\n",
      "           1       0.86      0.93      0.89     10917\n",
      "\n",
      "    accuracy                           0.89     21834\n",
      "   macro avg       0.89      0.89      0.89     21834\n",
      "weighted avg       0.89      0.89      0.89     21834\n",
      "\n"
     ]
    }
   ],
   "source": [
    "#create the object of class XGBClassifier\n",
    "xgbc=XGBClassifier(n_estimators=10,reg_alpha=1,random_state=1)   \n",
    "#call user defined function\n",
    "xgbc=create_model(xgbc)"
   ]
  },
  {
   "cell_type": "code",
   "execution_count": 108,
   "id": "5cfc699b-374b-4bc3-a518-1f2c5f33a86f",
   "metadata": {},
   "outputs": [
    {
     "data": {
      "text/html": [
       "<div>\n",
       "<style scoped>\n",
       "    .dataframe tbody tr th:only-of-type {\n",
       "        vertical-align: middle;\n",
       "    }\n",
       "\n",
       "    .dataframe tbody tr th {\n",
       "        vertical-align: top;\n",
       "    }\n",
       "\n",
       "    .dataframe thead th {\n",
       "        text-align: right;\n",
       "    }\n",
       "</style>\n",
       "<table border=\"1\" class=\"dataframe\">\n",
       "  <thead>\n",
       "    <tr style=\"text-align: right;\">\n",
       "      <th></th>\n",
       "      <th>input columns</th>\n",
       "      <th>IG</th>\n",
       "    </tr>\n",
       "  </thead>\n",
       "  <tbody>\n",
       "    <tr>\n",
       "      <th>0</th>\n",
       "      <td>nr.employed</td>\n",
       "      <td>0.494810</td>\n",
       "    </tr>\n",
       "    <tr>\n",
       "      <th>1</th>\n",
       "      <td>duration</td>\n",
       "      <td>0.136809</td>\n",
       "    </tr>\n",
       "    <tr>\n",
       "      <th>2</th>\n",
       "      <td>emp.var.rate</td>\n",
       "      <td>0.107841</td>\n",
       "    </tr>\n",
       "    <tr>\n",
       "      <th>3</th>\n",
       "      <td>cons.conf.idx</td>\n",
       "      <td>0.082795</td>\n",
       "    </tr>\n",
       "    <tr>\n",
       "      <th>4</th>\n",
       "      <td>euribor3m</td>\n",
       "      <td>0.041908</td>\n",
       "    </tr>\n",
       "    <tr>\n",
       "      <th>5</th>\n",
       "      <td>month</td>\n",
       "      <td>0.028486</td>\n",
       "    </tr>\n",
       "    <tr>\n",
       "      <th>6</th>\n",
       "      <td>pdays</td>\n",
       "      <td>0.017084</td>\n",
       "    </tr>\n",
       "    <tr>\n",
       "      <th>7</th>\n",
       "      <td>contact</td>\n",
       "      <td>0.012467</td>\n",
       "    </tr>\n",
       "    <tr>\n",
       "      <th>8</th>\n",
       "      <td>cons.price.idx</td>\n",
       "      <td>0.011787</td>\n",
       "    </tr>\n",
       "    <tr>\n",
       "      <th>9</th>\n",
       "      <td>education</td>\n",
       "      <td>0.010967</td>\n",
       "    </tr>\n",
       "    <tr>\n",
       "      <th>10</th>\n",
       "      <td>poutcome</td>\n",
       "      <td>0.009796</td>\n",
       "    </tr>\n",
       "    <tr>\n",
       "      <th>11</th>\n",
       "      <td>day_of_week</td>\n",
       "      <td>0.009702</td>\n",
       "    </tr>\n",
       "    <tr>\n",
       "      <th>12</th>\n",
       "      <td>age</td>\n",
       "      <td>0.007781</td>\n",
       "    </tr>\n",
       "    <tr>\n",
       "      <th>13</th>\n",
       "      <td>loan</td>\n",
       "      <td>0.007566</td>\n",
       "    </tr>\n",
       "    <tr>\n",
       "      <th>14</th>\n",
       "      <td>previous</td>\n",
       "      <td>0.006460</td>\n",
       "    </tr>\n",
       "    <tr>\n",
       "      <th>15</th>\n",
       "      <td>job</td>\n",
       "      <td>0.004214</td>\n",
       "    </tr>\n",
       "    <tr>\n",
       "      <th>16</th>\n",
       "      <td>campaign</td>\n",
       "      <td>0.004099</td>\n",
       "    </tr>\n",
       "    <tr>\n",
       "      <th>17</th>\n",
       "      <td>housing</td>\n",
       "      <td>0.003125</td>\n",
       "    </tr>\n",
       "    <tr>\n",
       "      <th>18</th>\n",
       "      <td>marital</td>\n",
       "      <td>0.002302</td>\n",
       "    </tr>\n",
       "    <tr>\n",
       "      <th>19</th>\n",
       "      <td>default</td>\n",
       "      <td>0.000000</td>\n",
       "    </tr>\n",
       "  </tbody>\n",
       "</table>\n",
       "</div>"
      ],
      "text/plain": [
       "     input columns        IG\n",
       "0      nr.employed  0.494810\n",
       "1         duration  0.136809\n",
       "2     emp.var.rate  0.107841\n",
       "3    cons.conf.idx  0.082795\n",
       "4        euribor3m  0.041908\n",
       "5            month  0.028486\n",
       "6            pdays  0.017084\n",
       "7          contact  0.012467\n",
       "8   cons.price.idx  0.011787\n",
       "9        education  0.010967\n",
       "10        poutcome  0.009796\n",
       "11     day_of_week  0.009702\n",
       "12             age  0.007781\n",
       "13            loan  0.007566\n",
       "14        previous  0.006460\n",
       "15             job  0.004214\n",
       "16        campaign  0.004099\n",
       "17         housing  0.003125\n",
       "18         marital  0.002302\n",
       "19         default  0.000000"
      ]
     },
     "execution_count": 108,
     "metadata": {},
     "output_type": "execute_result"
    }
   ],
   "source": [
    "#create a dataframe\n",
    "dict={\"input columns\": X.columns, \"IG\": xgbc.feature_importances_}\n",
    "df1=pd.DataFrame(dict)\n",
    "df1.sort_values(by=\"IG\", ascending=False, ignore_index=True)"
   ]
  },
  {
   "cell_type": "code",
   "execution_count": 109,
   "id": "ab099eed-255f-4fc8-bc3f-69ac5be17230",
   "metadata": {},
   "outputs": [],
   "source": [
    "#in above report, recall socre=0.93 means 93% and accuracy = 0.89 means 89%, Extreme Gradient Boost"
   ]
  },
  {
   "cell_type": "code",
   "execution_count": 110,
   "id": "d8f6d7f3-04e3-4296-b5a7-d7d051253165",
   "metadata": {},
   "outputs": [],
   "source": [
    "#SVM\n",
    "#1.use Linear Kernel Function\n",
    "#use LinearSVC:\n",
    "\n",
    "\n",
    "from sklearn.svm import LinearSVC"
   ]
  },
  {
   "cell_type": "code",
   "execution_count": 111,
   "id": "cf41c804-9a1b-4848-9480-3f671b62c906",
   "metadata": {},
   "outputs": [],
   "source": [
    "svc=LinearSVC(random_state=1) #create object \n",
    "#hard margin bydefault"
   ]
  },
  {
   "cell_type": "code",
   "execution_count": 112,
   "id": "b7abc591-1287-4bc7-a875-59daa36c027f",
   "metadata": {},
   "outputs": [
    {
     "name": "stdout",
     "output_type": "stream",
     "text": [
      "[[9270 1647]\n",
      " [1421 9496]]\n",
      "              precision    recall  f1-score   support\n",
      "\n",
      "           0       0.87      0.85      0.86     10917\n",
      "           1       0.85      0.87      0.86     10917\n",
      "\n",
      "    accuracy                           0.86     21834\n",
      "   macro avg       0.86      0.86      0.86     21834\n",
      "weighted avg       0.86      0.86      0.86     21834\n",
      "\n"
     ]
    }
   ],
   "source": [
    "svc=create_model(svc) #call function"
   ]
  },
  {
   "cell_type": "code",
   "execution_count": 113,
   "id": "d786afb1-c5dc-44aa-9f5a-70c933630dde",
   "metadata": {},
   "outputs": [],
   "source": [
    "#In above report, recall score = 0.87 means 87% and Accuracy = 0.86 means 86%, LinearSVC(Hard Margin)\n"
   ]
  },
  {
   "cell_type": "code",
   "execution_count": 114,
   "id": "2e28f9ca-638e-4b7d-adc7-72897ec43d7d",
   "metadata": {},
   "outputs": [],
   "source": [
    "#Here score is good but not better, behind the reason, may be model is overfit means both classes are separate with straight line\n",
    "#but may be model is overfit, so reduced overfit of model we add external error on training time and this process is known as \n",
    "#softmargin"
   ]
  },
  {
   "cell_type": "code",
   "execution_count": 115,
   "id": "0bf103c7-eb45-4ba3-b86c-ddff92a64b6a",
   "metadata": {},
   "outputs": [],
   "source": [
    "#create object of class LinearSVC(softmargin)\n",
    "svc1=LinearSVC(random_state=1, C=0.0001)"
   ]
  },
  {
   "cell_type": "code",
   "execution_count": 116,
   "id": "81a32160-6895-4953-891a-e604fdee59a5",
   "metadata": {},
   "outputs": [
    {
     "name": "stdout",
     "output_type": "stream",
     "text": [
      "[[9116 1801]\n",
      " [1405 9512]]\n",
      "              precision    recall  f1-score   support\n",
      "\n",
      "           0       0.87      0.84      0.85     10917\n",
      "           1       0.84      0.87      0.86     10917\n",
      "\n",
      "    accuracy                           0.85     21834\n",
      "   macro avg       0.85      0.85      0.85     21834\n",
      "weighted avg       0.85      0.85      0.85     21834\n",
      "\n"
     ]
    }
   ],
   "source": [
    "#call function\n",
    "svc1=create_model(svc1)"
   ]
  },
  {
   "cell_type": "code",
   "execution_count": 117,
   "id": "e536f507-a609-4de1-ae59-3b601093e94a",
   "metadata": {},
   "outputs": [],
   "source": [
    "#In above report, recall score = 0.87 means 87% and Accuracy = 0.85 means 85%, LinearSVC(soft margin)"
   ]
  },
  {
   "cell_type": "code",
   "execution_count": 118,
   "id": "f9a5a81e-4100-4b90-b9d9-266c67e03264",
   "metadata": {},
   "outputs": [],
   "source": [
    "#no changes in score when add external error on training time means data is non-linear data\n",
    "#use Non linear kernel function:"
   ]
  },
  {
   "cell_type": "code",
   "execution_count": 119,
   "id": "975fc51d-7f58-48cb-9bf4-ce5275201f0b",
   "metadata": {},
   "outputs": [],
   "source": [
    "# polynomial kernel function:\n",
    "'''it increase the dimension means its converts low dimension to high dimension.\n",
    "suppose we have 1D  then it convert into 2D and so on.\n",
    "use inbuilt class svc for non linear kernal function : polynomial or radial basis kernal function'''\n",
    "\n",
    "\n",
    "from sklearn.svm import SVC\n",
    "\n",
    "poly_svc=SVC(random_state=1,kernel='poly')  #create the object"
   ]
  },
  {
   "cell_type": "code",
   "execution_count": 120,
   "id": "79e18bac-5ed3-49c0-b2fc-39f8188e76f6",
   "metadata": {},
   "outputs": [
    {
     "name": "stdout",
     "output_type": "stream",
     "text": [
      "[[9354 1563]\n",
      " [1359 9558]]\n",
      "              precision    recall  f1-score   support\n",
      "\n",
      "           0       0.87      0.86      0.86     10917\n",
      "           1       0.86      0.88      0.87     10917\n",
      "\n",
      "    accuracy                           0.87     21834\n",
      "   macro avg       0.87      0.87      0.87     21834\n",
      "weighted avg       0.87      0.87      0.87     21834\n",
      "\n"
     ]
    }
   ],
   "source": [
    "poly_svc=create_model(poly_svc)"
   ]
  },
  {
   "cell_type": "code",
   "execution_count": 121,
   "id": "4f0be7c7-5ad0-451c-9696-6f9539e44789",
   "metadata": {},
   "outputs": [],
   "source": [
    "#In above report, recall score = 0.88 means 88% and Accuracy = 0.87 means 87%, SVC(Polynomial Kernal function)"
   ]
  },
  {
   "cell_type": "code",
   "execution_count": 122,
   "id": "a3e6b496-f906-4626-b6a3-f0b3fc15f680",
   "metadata": {},
   "outputs": [
    {
     "name": "stdout",
     "output_type": "stream",
     "text": [
      "[[9183 1734]\n",
      " [ 936 9981]]\n",
      "              precision    recall  f1-score   support\n",
      "\n",
      "           0       0.91      0.84      0.87     10917\n",
      "           1       0.85      0.91      0.88     10917\n",
      "\n",
      "    accuracy                           0.88     21834\n",
      "   macro avg       0.88      0.88      0.88     21834\n",
      "weighted avg       0.88      0.88      0.88     21834\n",
      "\n"
     ]
    }
   ],
   "source": [
    "#create object of SVC for radial basis\n",
    "svc_radial=SVC(random_state=1, kernel='rbf')\n",
    "\n",
    "svc_radial=create_model(svc_radial)"
   ]
  },
  {
   "cell_type": "code",
   "execution_count": 123,
   "id": "dc850cb2-62d6-490b-abb0-2e1579b2e529",
   "metadata": {},
   "outputs": [],
   "source": [
    "#In above report, recall score = 0.91 means 91% and Accuracy = 0.88 means 88%, SVC(Radial basis function)"
   ]
  },
  {
   "cell_type": "code",
   "execution_count": 124,
   "id": "780916b3-26ff-4311-aa97-5ca9fff995a4",
   "metadata": {},
   "outputs": [],
   "source": [
    "#In this dataset, we got best score by Extreme Gradient Boost.\n",
    "#recall socre=0.93 means 93% and accuracy = 0.89 means 89%"
   ]
  },
  {
   "cell_type": "code",
   "execution_count": null,
   "id": "d03b2582-d451-4774-984c-c23487696f0b",
   "metadata": {},
   "outputs": [],
   "source": []
  },
  {
   "cell_type": "code",
   "execution_count": null,
   "id": "2c9cc248-5e53-4371-8c8a-c9cd3f1306bd",
   "metadata": {},
   "outputs": [],
   "source": []
  },
  {
   "cell_type": "code",
   "execution_count": null,
   "id": "c8c4bffb-5463-434c-9603-a0b7a6e2e5cc",
   "metadata": {},
   "outputs": [],
   "source": []
  },
  {
   "cell_type": "code",
   "execution_count": null,
   "id": "62b7954a-8fb7-46e5-98df-33d5f3848208",
   "metadata": {},
   "outputs": [],
   "source": []
  },
  {
   "cell_type": "code",
   "execution_count": null,
   "id": "e7af3c18-fad9-450b-bc46-30f51f560347",
   "metadata": {},
   "outputs": [],
   "source": []
  },
  {
   "cell_type": "code",
   "execution_count": null,
   "id": "8aeb9826-a796-43d2-96d6-302b715cfb5f",
   "metadata": {},
   "outputs": [],
   "source": []
  },
  {
   "cell_type": "code",
   "execution_count": null,
   "id": "59c40767-3d10-4b39-9a65-39d5d2fb7939",
   "metadata": {},
   "outputs": [],
   "source": []
  },
  {
   "cell_type": "code",
   "execution_count": null,
   "id": "b47e93b3-664e-45d2-82ff-a62563db617c",
   "metadata": {},
   "outputs": [],
   "source": []
  },
  {
   "cell_type": "code",
   "execution_count": null,
   "id": "2054cd0a-945c-488d-a27e-2a8fad841873",
   "metadata": {},
   "outputs": [],
   "source": []
  },
  {
   "cell_type": "markdown",
   "id": "4c81f477-6380-4123-8f33-4e39c62bab98",
   "metadata": {},
   "source": [
    "Save Model\n"
   ]
  },
  {
   "cell_type": "code",
   "execution_count": 125,
   "id": "eeda728f-b7c8-4bdb-b784-13d8e4c9f6d0",
   "metadata": {},
   "outputs": [],
   "source": [
    "import pickle\n"
   ]
  },
  {
   "cell_type": "code",
   "execution_count": 126,
   "id": "80cad9d4-1dc0-4f14-b91c-eb59d5db8e1b",
   "metadata": {},
   "outputs": [],
   "source": [
    "#To open file in write binary for model create\n",
    "file1=open(\"model.pkl\",\"wb\")  #model.pkl: new file which sotre object of algorithm which got highest score\n",
    "\n",
    "#To open file in write binary for scaling\n",
    "file2=open(\"scale.pkl\",\"wb\")  #scale.pkl : new file which store the object of StandardScaler class \n",
    "\n",
    "#To open file in write binary for LabelEncoder\n",
    "file3 = open(\"label.pkl\",\"wb\")  #label.pkl : new file which store the object of LabelEncoder class\n",
    "\n",
    "#file1, file2 and file3 are tempoary file\n"
   ]
  },
  {
   "cell_type": "code",
   "execution_count": 127,
   "id": "9fb80516-baa2-4421-806f-735e12232a08",
   "metadata": {},
   "outputs": [],
   "source": [
    "#save object of Algorithm (extrem gradient boost) class in temp file file1\n",
    "#use inbuilt methodd dump() which method define in pickle class\n",
    "pickle.dump(xgbc,file1) #syntax - pickle.dump(object of algorithm,temp file)\n",
    "#to close temp file file1\n",
    "file1.close()\n",
    "\n"
   ]
  },
  {
   "cell_type": "code",
   "execution_count": 128,
   "id": "b7937d6b-eea3-4472-91a5-d5c9130bdc45",
   "metadata": {},
   "outputs": [],
   "source": [
    "#save object of StandardSclaer class\n",
    "pickle.dump(ss,file2)\n",
    "#to close temp file file2\n",
    "file2.close()"
   ]
  },
  {
   "cell_type": "code",
   "execution_count": 129,
   "id": "df41292b-4111-4521-8187-e7c67e678dbe",
   "metadata": {},
   "outputs": [],
   "source": [
    "#save object of LabelEncoder class\n",
    "pickle.dump(le,file3)\n",
    "#to close temp file file3\n",
    "file3.close()"
   ]
  }
 ],
 "metadata": {
  "kernelspec": {
   "display_name": "Python 3 (ipykernel)",
   "language": "python",
   "name": "python3"
  },
  "language_info": {
   "codemirror_mode": {
    "name": "ipython",
    "version": 3
   },
   "file_extension": ".py",
   "mimetype": "text/x-python",
   "name": "python",
   "nbconvert_exporter": "python",
   "pygments_lexer": "ipython3",
   "version": "3.11.7"
  }
 },
 "nbformat": 4,
 "nbformat_minor": 5
}
