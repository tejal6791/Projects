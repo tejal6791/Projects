{
 "cells": [
  {
   "cell_type": "code",
   "execution_count": 1,
   "id": "c6b0427c-e811-4031-9d64-749d3fba7a26",
   "metadata": {},
   "outputs": [],
   "source": [
    "##Salary"
   ]
  },
  {
   "cell_type": "code",
   "execution_count": 2,
   "id": "0d5dd7ba-8699-4b54-a19d-1f7439497778",
   "metadata": {},
   "outputs": [],
   "source": [
    "import numpy as np\n",
    "import pandas as pd\n",
    "import matplotlib.pyplot as plt\n",
    "import seaborn as sb\n",
    "import warnings\n",
    "warnings.filterwarnings('ignore')"
   ]
  },
  {
   "cell_type": "code",
   "execution_count": 3,
   "id": "99d42cf3-dadd-4283-93d3-d6758c0bcb25",
   "metadata": {},
   "outputs": [
    {
     "data": {
      "text/html": [
       "<div>\n",
       "<style scoped>\n",
       "    .dataframe tbody tr th:only-of-type {\n",
       "        vertical-align: middle;\n",
       "    }\n",
       "\n",
       "    .dataframe tbody tr th {\n",
       "        vertical-align: top;\n",
       "    }\n",
       "\n",
       "    .dataframe thead th {\n",
       "        text-align: right;\n",
       "    }\n",
       "</style>\n",
       "<table border=\"1\" class=\"dataframe\">\n",
       "  <thead>\n",
       "    <tr style=\"text-align: right;\">\n",
       "      <th></th>\n",
       "      <th>Unnamed: 0</th>\n",
       "      <th>age</th>\n",
       "      <th>Workclass</th>\n",
       "      <th>fnlwgt</th>\n",
       "      <th>education</th>\n",
       "      <th>education-num</th>\n",
       "      <th>marital-status</th>\n",
       "      <th>occupation</th>\n",
       "      <th>relationship</th>\n",
       "      <th>race</th>\n",
       "      <th>sex</th>\n",
       "      <th>capital-gain</th>\n",
       "      <th>capital-loss</th>\n",
       "      <th>hours-per-week</th>\n",
       "      <th>native-country</th>\n",
       "      <th>Income</th>\n",
       "    </tr>\n",
       "  </thead>\n",
       "  <tbody>\n",
       "    <tr>\n",
       "      <th>0</th>\n",
       "      <td>0</td>\n",
       "      <td>39</td>\n",
       "      <td>State-gov</td>\n",
       "      <td>77516</td>\n",
       "      <td>Bachelors</td>\n",
       "      <td>13</td>\n",
       "      <td>Never-married</td>\n",
       "      <td>Adm-clerical</td>\n",
       "      <td>Not-in-family</td>\n",
       "      <td>White</td>\n",
       "      <td>Male</td>\n",
       "      <td>2174</td>\n",
       "      <td>0</td>\n",
       "      <td>40</td>\n",
       "      <td>United-States</td>\n",
       "      <td>0</td>\n",
       "    </tr>\n",
       "    <tr>\n",
       "      <th>1</th>\n",
       "      <td>1</td>\n",
       "      <td>50</td>\n",
       "      <td>Self-emp-not-inc</td>\n",
       "      <td>83311</td>\n",
       "      <td>Bachelors</td>\n",
       "      <td>13</td>\n",
       "      <td>Married-civ-spouse</td>\n",
       "      <td>Exec-managerial</td>\n",
       "      <td>Husband</td>\n",
       "      <td>White</td>\n",
       "      <td>Male</td>\n",
       "      <td>0</td>\n",
       "      <td>0</td>\n",
       "      <td>13</td>\n",
       "      <td>United-States</td>\n",
       "      <td>0</td>\n",
       "    </tr>\n",
       "    <tr>\n",
       "      <th>2</th>\n",
       "      <td>2</td>\n",
       "      <td>38</td>\n",
       "      <td>Private</td>\n",
       "      <td>215646</td>\n",
       "      <td>HS-grad</td>\n",
       "      <td>9</td>\n",
       "      <td>Divorced</td>\n",
       "      <td>Handlers-cleaners</td>\n",
       "      <td>Not-in-family</td>\n",
       "      <td>White</td>\n",
       "      <td>Male</td>\n",
       "      <td>0</td>\n",
       "      <td>0</td>\n",
       "      <td>40</td>\n",
       "      <td>United-States</td>\n",
       "      <td>0</td>\n",
       "    </tr>\n",
       "    <tr>\n",
       "      <th>3</th>\n",
       "      <td>3</td>\n",
       "      <td>53</td>\n",
       "      <td>Private</td>\n",
       "      <td>234721</td>\n",
       "      <td>11th</td>\n",
       "      <td>7</td>\n",
       "      <td>Married-civ-spouse</td>\n",
       "      <td>Handlers-cleaners</td>\n",
       "      <td>Husband</td>\n",
       "      <td>Black</td>\n",
       "      <td>Male</td>\n",
       "      <td>0</td>\n",
       "      <td>0</td>\n",
       "      <td>40</td>\n",
       "      <td>United-States</td>\n",
       "      <td>0</td>\n",
       "    </tr>\n",
       "    <tr>\n",
       "      <th>4</th>\n",
       "      <td>4</td>\n",
       "      <td>28</td>\n",
       "      <td>Private</td>\n",
       "      <td>338409</td>\n",
       "      <td>Bachelors</td>\n",
       "      <td>13</td>\n",
       "      <td>Married-civ-spouse</td>\n",
       "      <td>Prof-specialty</td>\n",
       "      <td>Wife</td>\n",
       "      <td>Black</td>\n",
       "      <td>Female</td>\n",
       "      <td>0</td>\n",
       "      <td>0</td>\n",
       "      <td>40</td>\n",
       "      <td>Cuba</td>\n",
       "      <td>0</td>\n",
       "    </tr>\n",
       "  </tbody>\n",
       "</table>\n",
       "</div>"
      ],
      "text/plain": [
       "   Unnamed: 0  age          Workclass  fnlwgt   education  education-num  \\\n",
       "0           0   39          State-gov   77516   Bachelors             13   \n",
       "1           1   50   Self-emp-not-inc   83311   Bachelors             13   \n",
       "2           2   38            Private  215646     HS-grad              9   \n",
       "3           3   53            Private  234721        11th              7   \n",
       "4           4   28            Private  338409   Bachelors             13   \n",
       "\n",
       "        marital-status          occupation    relationship    race      sex  \\\n",
       "0        Never-married        Adm-clerical   Not-in-family   White     Male   \n",
       "1   Married-civ-spouse     Exec-managerial         Husband   White     Male   \n",
       "2             Divorced   Handlers-cleaners   Not-in-family   White     Male   \n",
       "3   Married-civ-spouse   Handlers-cleaners         Husband   Black     Male   \n",
       "4   Married-civ-spouse      Prof-specialty            Wife   Black   Female   \n",
       "\n",
       "   capital-gain  capital-loss  hours-per-week  native-country  Income  \n",
       "0          2174             0              40   United-States       0  \n",
       "1             0             0              13   United-States       0  \n",
       "2             0             0              40   United-States       0  \n",
       "3             0             0              40   United-States       0  \n",
       "4             0             0              40            Cuba       0  "
      ]
     },
     "execution_count": 3,
     "metadata": {},
     "output_type": "execute_result"
    }
   ],
   "source": [
    "df=pd.read_csv('salary1.csv')\n",
    "df.head()"
   ]
  },
  {
   "cell_type": "code",
   "execution_count": 4,
   "id": "b877ebad-077e-4223-b6b6-f2402cc745e0",
   "metadata": {},
   "outputs": [
    {
     "data": {
      "text/plain": [
       "Unnamed: 0        0\n",
       "age               0\n",
       "Workclass         0\n",
       "fnlwgt            0\n",
       "education         0\n",
       "education-num     0\n",
       "marital-status    0\n",
       "occupation        0\n",
       "relationship      0\n",
       "race              0\n",
       "sex               0\n",
       "capital-gain      0\n",
       "capital-loss      0\n",
       "hours-per-week    0\n",
       "native-country    0\n",
       "Income            0\n",
       "dtype: int64"
      ]
     },
     "execution_count": 4,
     "metadata": {},
     "output_type": "execute_result"
    }
   ],
   "source": [
    "df.isnull().sum()  #to check null values"
   ]
  },
  {
   "cell_type": "code",
   "execution_count": 5,
   "id": "daeb01b3-026b-4bbe-ba0d-31f3553c0630",
   "metadata": {},
   "outputs": [
    {
     "data": {
      "text/plain": [
       "Unnamed: 0         int64\n",
       "age                int64\n",
       "Workclass         object\n",
       "fnlwgt             int64\n",
       "education         object\n",
       "education-num      int64\n",
       "marital-status    object\n",
       "occupation        object\n",
       "relationship      object\n",
       "race              object\n",
       "sex               object\n",
       "capital-gain       int64\n",
       "capital-loss       int64\n",
       "hours-per-week     int64\n",
       "native-country    object\n",
       "Income             int64\n",
       "dtype: object"
      ]
     },
     "execution_count": 5,
     "metadata": {},
     "output_type": "execute_result"
    }
   ],
   "source": [
    "df.dtypes   #to check datatypes"
   ]
  },
  {
   "cell_type": "code",
   "execution_count": 6,
   "id": "249e0050-cbdc-46b4-8a41-c2d7b87d1097",
   "metadata": {},
   "outputs": [
    {
     "data": {
      "text/plain": [
       "0"
      ]
     },
     "execution_count": 6,
     "metadata": {},
     "output_type": "execute_result"
    }
   ],
   "source": [
    "df.duplicated().sum()  #to check duplicates"
   ]
  },
  {
   "cell_type": "code",
   "execution_count": 7,
   "id": "947261d6-2b9d-409b-84ff-6f81cb5b9ca3",
   "metadata": {},
   "outputs": [],
   "source": [
    "df.drop('Unnamed: 0',axis=1,inplace=True) #delete unwanted column"
   ]
  },
  {
   "cell_type": "code",
   "execution_count": 8,
   "id": "b08f7e44",
   "metadata": {},
   "outputs": [
    {
     "data": {
      "text/plain": [
       "Income\n",
       "0    778\n",
       "1    254\n",
       "Name: count, dtype: int64"
      ]
     },
     "execution_count": 8,
     "metadata": {},
     "output_type": "execute_result"
    }
   ],
   "source": [
    "df['Income'].value_counts()"
   ]
  },
  {
   "cell_type": "code",
   "execution_count": 9,
   "id": "70b1b868-126d-4818-9451-03688260fbcd",
   "metadata": {},
   "outputs": [
    {
     "data": {
      "text/html": [
       "<div>\n",
       "<style scoped>\n",
       "    .dataframe tbody tr th:only-of-type {\n",
       "        vertical-align: middle;\n",
       "    }\n",
       "\n",
       "    .dataframe tbody tr th {\n",
       "        vertical-align: top;\n",
       "    }\n",
       "\n",
       "    .dataframe thead th {\n",
       "        text-align: right;\n",
       "    }\n",
       "</style>\n",
       "<table border=\"1\" class=\"dataframe\">\n",
       "  <thead>\n",
       "    <tr style=\"text-align: right;\">\n",
       "      <th></th>\n",
       "      <th>age</th>\n",
       "      <th>Workclass</th>\n",
       "      <th>fnlwgt</th>\n",
       "      <th>education</th>\n",
       "      <th>education-num</th>\n",
       "      <th>marital-status</th>\n",
       "      <th>occupation</th>\n",
       "      <th>relationship</th>\n",
       "      <th>race</th>\n",
       "      <th>sex</th>\n",
       "      <th>capital-gain</th>\n",
       "      <th>capital-loss</th>\n",
       "      <th>hours-per-week</th>\n",
       "      <th>native-country</th>\n",
       "      <th>Income</th>\n",
       "    </tr>\n",
       "  </thead>\n",
       "  <tbody>\n",
       "    <tr>\n",
       "      <th>0</th>\n",
       "      <td>39</td>\n",
       "      <td>State-gov</td>\n",
       "      <td>77516</td>\n",
       "      <td>Bachelors</td>\n",
       "      <td>13</td>\n",
       "      <td>Never-married</td>\n",
       "      <td>Adm-clerical</td>\n",
       "      <td>Not-in-family</td>\n",
       "      <td>White</td>\n",
       "      <td>Male</td>\n",
       "      <td>2174</td>\n",
       "      <td>0</td>\n",
       "      <td>40</td>\n",
       "      <td>United-States</td>\n",
       "      <td>0</td>\n",
       "    </tr>\n",
       "    <tr>\n",
       "      <th>1</th>\n",
       "      <td>50</td>\n",
       "      <td>Self-emp-not-inc</td>\n",
       "      <td>83311</td>\n",
       "      <td>Bachelors</td>\n",
       "      <td>13</td>\n",
       "      <td>Married-civ-spouse</td>\n",
       "      <td>Exec-managerial</td>\n",
       "      <td>Husband</td>\n",
       "      <td>White</td>\n",
       "      <td>Male</td>\n",
       "      <td>0</td>\n",
       "      <td>0</td>\n",
       "      <td>13</td>\n",
       "      <td>United-States</td>\n",
       "      <td>0</td>\n",
       "    </tr>\n",
       "    <tr>\n",
       "      <th>2</th>\n",
       "      <td>38</td>\n",
       "      <td>Private</td>\n",
       "      <td>215646</td>\n",
       "      <td>HS-grad</td>\n",
       "      <td>9</td>\n",
       "      <td>Divorced</td>\n",
       "      <td>Handlers-cleaners</td>\n",
       "      <td>Not-in-family</td>\n",
       "      <td>White</td>\n",
       "      <td>Male</td>\n",
       "      <td>0</td>\n",
       "      <td>0</td>\n",
       "      <td>40</td>\n",
       "      <td>United-States</td>\n",
       "      <td>0</td>\n",
       "    </tr>\n",
       "    <tr>\n",
       "      <th>3</th>\n",
       "      <td>53</td>\n",
       "      <td>Private</td>\n",
       "      <td>234721</td>\n",
       "      <td>11th</td>\n",
       "      <td>7</td>\n",
       "      <td>Married-civ-spouse</td>\n",
       "      <td>Handlers-cleaners</td>\n",
       "      <td>Husband</td>\n",
       "      <td>Black</td>\n",
       "      <td>Male</td>\n",
       "      <td>0</td>\n",
       "      <td>0</td>\n",
       "      <td>40</td>\n",
       "      <td>United-States</td>\n",
       "      <td>0</td>\n",
       "    </tr>\n",
       "    <tr>\n",
       "      <th>4</th>\n",
       "      <td>28</td>\n",
       "      <td>Private</td>\n",
       "      <td>338409</td>\n",
       "      <td>Bachelors</td>\n",
       "      <td>13</td>\n",
       "      <td>Married-civ-spouse</td>\n",
       "      <td>Prof-specialty</td>\n",
       "      <td>Wife</td>\n",
       "      <td>Black</td>\n",
       "      <td>Female</td>\n",
       "      <td>0</td>\n",
       "      <td>0</td>\n",
       "      <td>40</td>\n",
       "      <td>Cuba</td>\n",
       "      <td>0</td>\n",
       "    </tr>\n",
       "  </tbody>\n",
       "</table>\n",
       "</div>"
      ],
      "text/plain": [
       "   age          Workclass  fnlwgt   education  education-num  \\\n",
       "0   39          State-gov   77516   Bachelors             13   \n",
       "1   50   Self-emp-not-inc   83311   Bachelors             13   \n",
       "2   38            Private  215646     HS-grad              9   \n",
       "3   53            Private  234721        11th              7   \n",
       "4   28            Private  338409   Bachelors             13   \n",
       "\n",
       "        marital-status          occupation    relationship    race      sex  \\\n",
       "0        Never-married        Adm-clerical   Not-in-family   White     Male   \n",
       "1   Married-civ-spouse     Exec-managerial         Husband   White     Male   \n",
       "2             Divorced   Handlers-cleaners   Not-in-family   White     Male   \n",
       "3   Married-civ-spouse   Handlers-cleaners         Husband   Black     Male   \n",
       "4   Married-civ-spouse      Prof-specialty            Wife   Black   Female   \n",
       "\n",
       "   capital-gain  capital-loss  hours-per-week  native-country  Income  \n",
       "0          2174             0              40   United-States       0  \n",
       "1             0             0              13   United-States       0  \n",
       "2             0             0              40   United-States       0  \n",
       "3             0             0              40   United-States       0  \n",
       "4             0             0              40            Cuba       0  "
      ]
     },
     "execution_count": 9,
     "metadata": {},
     "output_type": "execute_result"
    }
   ],
   "source": [
    "df.head()"
   ]
  },
  {
   "cell_type": "code",
   "execution_count": 10,
   "id": "2869b98a-6949-4293-91a3-90b8a169a805",
   "metadata": {},
   "outputs": [],
   "source": [
    "df_num=df.select_dtypes('int64')  #split the dataset as per datatype(int)\n",
    "df_object=df.select_dtypes('object')  #split the dataset as per datatype(object)"
   ]
  },
  {
   "cell_type": "code",
   "execution_count": 11,
   "id": "752f2527-6948-47bd-8cde-aa8bd1ccd5bd",
   "metadata": {},
   "outputs": [
    {
     "data": {
      "text/html": [
       "<div>\n",
       "<style scoped>\n",
       "    .dataframe tbody tr th:only-of-type {\n",
       "        vertical-align: middle;\n",
       "    }\n",
       "\n",
       "    .dataframe tbody tr th {\n",
       "        vertical-align: top;\n",
       "    }\n",
       "\n",
       "    .dataframe thead th {\n",
       "        text-align: right;\n",
       "    }\n",
       "</style>\n",
       "<table border=\"1\" class=\"dataframe\">\n",
       "  <thead>\n",
       "    <tr style=\"text-align: right;\">\n",
       "      <th></th>\n",
       "      <th>age</th>\n",
       "      <th>fnlwgt</th>\n",
       "      <th>education-num</th>\n",
       "      <th>capital-gain</th>\n",
       "      <th>capital-loss</th>\n",
       "      <th>hours-per-week</th>\n",
       "      <th>Income</th>\n",
       "    </tr>\n",
       "  </thead>\n",
       "  <tbody>\n",
       "    <tr>\n",
       "      <th>0</th>\n",
       "      <td>39</td>\n",
       "      <td>77516</td>\n",
       "      <td>13</td>\n",
       "      <td>2174</td>\n",
       "      <td>0</td>\n",
       "      <td>40</td>\n",
       "      <td>0</td>\n",
       "    </tr>\n",
       "    <tr>\n",
       "      <th>1</th>\n",
       "      <td>50</td>\n",
       "      <td>83311</td>\n",
       "      <td>13</td>\n",
       "      <td>0</td>\n",
       "      <td>0</td>\n",
       "      <td>13</td>\n",
       "      <td>0</td>\n",
       "    </tr>\n",
       "    <tr>\n",
       "      <th>2</th>\n",
       "      <td>38</td>\n",
       "      <td>215646</td>\n",
       "      <td>9</td>\n",
       "      <td>0</td>\n",
       "      <td>0</td>\n",
       "      <td>40</td>\n",
       "      <td>0</td>\n",
       "    </tr>\n",
       "    <tr>\n",
       "      <th>3</th>\n",
       "      <td>53</td>\n",
       "      <td>234721</td>\n",
       "      <td>7</td>\n",
       "      <td>0</td>\n",
       "      <td>0</td>\n",
       "      <td>40</td>\n",
       "      <td>0</td>\n",
       "    </tr>\n",
       "    <tr>\n",
       "      <th>4</th>\n",
       "      <td>28</td>\n",
       "      <td>338409</td>\n",
       "      <td>13</td>\n",
       "      <td>0</td>\n",
       "      <td>0</td>\n",
       "      <td>40</td>\n",
       "      <td>0</td>\n",
       "    </tr>\n",
       "  </tbody>\n",
       "</table>\n",
       "</div>"
      ],
      "text/plain": [
       "   age  fnlwgt  education-num  capital-gain  capital-loss  hours-per-week  \\\n",
       "0   39   77516             13          2174             0              40   \n",
       "1   50   83311             13             0             0              13   \n",
       "2   38  215646              9             0             0              40   \n",
       "3   53  234721              7             0             0              40   \n",
       "4   28  338409             13             0             0              40   \n",
       "\n",
       "   Income  \n",
       "0       0  \n",
       "1       0  \n",
       "2       0  \n",
       "3       0  \n",
       "4       0  "
      ]
     },
     "execution_count": 11,
     "metadata": {},
     "output_type": "execute_result"
    }
   ],
   "source": [
    "df_num.head()"
   ]
  },
  {
   "cell_type": "code",
   "execution_count": 12,
   "id": "bdde32f3-bfa3-485a-8a79-6dbb6ecd7061",
   "metadata": {},
   "outputs": [
    {
     "data": {
      "text/html": [
       "<div>\n",
       "<style scoped>\n",
       "    .dataframe tbody tr th:only-of-type {\n",
       "        vertical-align: middle;\n",
       "    }\n",
       "\n",
       "    .dataframe tbody tr th {\n",
       "        vertical-align: top;\n",
       "    }\n",
       "\n",
       "    .dataframe thead th {\n",
       "        text-align: right;\n",
       "    }\n",
       "</style>\n",
       "<table border=\"1\" class=\"dataframe\">\n",
       "  <thead>\n",
       "    <tr style=\"text-align: right;\">\n",
       "      <th></th>\n",
       "      <th>Workclass</th>\n",
       "      <th>education</th>\n",
       "      <th>marital-status</th>\n",
       "      <th>occupation</th>\n",
       "      <th>relationship</th>\n",
       "      <th>race</th>\n",
       "      <th>sex</th>\n",
       "      <th>native-country</th>\n",
       "    </tr>\n",
       "  </thead>\n",
       "  <tbody>\n",
       "    <tr>\n",
       "      <th>0</th>\n",
       "      <td>State-gov</td>\n",
       "      <td>Bachelors</td>\n",
       "      <td>Never-married</td>\n",
       "      <td>Adm-clerical</td>\n",
       "      <td>Not-in-family</td>\n",
       "      <td>White</td>\n",
       "      <td>Male</td>\n",
       "      <td>United-States</td>\n",
       "    </tr>\n",
       "    <tr>\n",
       "      <th>1</th>\n",
       "      <td>Self-emp-not-inc</td>\n",
       "      <td>Bachelors</td>\n",
       "      <td>Married-civ-spouse</td>\n",
       "      <td>Exec-managerial</td>\n",
       "      <td>Husband</td>\n",
       "      <td>White</td>\n",
       "      <td>Male</td>\n",
       "      <td>United-States</td>\n",
       "    </tr>\n",
       "    <tr>\n",
       "      <th>2</th>\n",
       "      <td>Private</td>\n",
       "      <td>HS-grad</td>\n",
       "      <td>Divorced</td>\n",
       "      <td>Handlers-cleaners</td>\n",
       "      <td>Not-in-family</td>\n",
       "      <td>White</td>\n",
       "      <td>Male</td>\n",
       "      <td>United-States</td>\n",
       "    </tr>\n",
       "    <tr>\n",
       "      <th>3</th>\n",
       "      <td>Private</td>\n",
       "      <td>11th</td>\n",
       "      <td>Married-civ-spouse</td>\n",
       "      <td>Handlers-cleaners</td>\n",
       "      <td>Husband</td>\n",
       "      <td>Black</td>\n",
       "      <td>Male</td>\n",
       "      <td>United-States</td>\n",
       "    </tr>\n",
       "    <tr>\n",
       "      <th>4</th>\n",
       "      <td>Private</td>\n",
       "      <td>Bachelors</td>\n",
       "      <td>Married-civ-spouse</td>\n",
       "      <td>Prof-specialty</td>\n",
       "      <td>Wife</td>\n",
       "      <td>Black</td>\n",
       "      <td>Female</td>\n",
       "      <td>Cuba</td>\n",
       "    </tr>\n",
       "  </tbody>\n",
       "</table>\n",
       "</div>"
      ],
      "text/plain": [
       "           Workclass   education       marital-status          occupation  \\\n",
       "0          State-gov   Bachelors        Never-married        Adm-clerical   \n",
       "1   Self-emp-not-inc   Bachelors   Married-civ-spouse     Exec-managerial   \n",
       "2            Private     HS-grad             Divorced   Handlers-cleaners   \n",
       "3            Private        11th   Married-civ-spouse   Handlers-cleaners   \n",
       "4            Private   Bachelors   Married-civ-spouse      Prof-specialty   \n",
       "\n",
       "     relationship    race      sex  native-country  \n",
       "0   Not-in-family   White     Male   United-States  \n",
       "1         Husband   White     Male   United-States  \n",
       "2   Not-in-family   White     Male   United-States  \n",
       "3         Husband   Black     Male   United-States  \n",
       "4            Wife   Black   Female            Cuba  "
      ]
     },
     "execution_count": 12,
     "metadata": {},
     "output_type": "execute_result"
    }
   ],
   "source": [
    "df_object.head()"
   ]
  },
  {
   "cell_type": "code",
   "execution_count": 13,
   "id": "d834292c-54ad-476e-bb92-2a82314b020e",
   "metadata": {},
   "outputs": [],
   "source": [
    "#apply LabelEncoder on df_object dataframe\n",
    "\n",
    "from sklearn.preprocessing import LabelEncoder"
   ]
  },
  {
   "cell_type": "code",
   "execution_count": 14,
   "id": "e0cee8ea-988d-4e67-b098-53cf8d47bc2f",
   "metadata": {},
   "outputs": [],
   "source": [
    "for col in df_object.columns:\n",
    "    le=LabelEncoder() #create the object of Label encoder class\n",
    "    df_object[col]=le.fit_transform(df_object[col])"
   ]
  },
  {
   "cell_type": "code",
   "execution_count": 15,
   "id": "8712f975-bb67-4656-b11b-c689d7157fc3",
   "metadata": {},
   "outputs": [
    {
     "data": {
      "text/html": [
       "<div>\n",
       "<style scoped>\n",
       "    .dataframe tbody tr th:only-of-type {\n",
       "        vertical-align: middle;\n",
       "    }\n",
       "\n",
       "    .dataframe tbody tr th {\n",
       "        vertical-align: top;\n",
       "    }\n",
       "\n",
       "    .dataframe thead th {\n",
       "        text-align: right;\n",
       "    }\n",
       "</style>\n",
       "<table border=\"1\" class=\"dataframe\">\n",
       "  <thead>\n",
       "    <tr style=\"text-align: right;\">\n",
       "      <th></th>\n",
       "      <th>age</th>\n",
       "      <th>fnlwgt</th>\n",
       "      <th>education-num</th>\n",
       "      <th>capital-gain</th>\n",
       "      <th>capital-loss</th>\n",
       "      <th>hours-per-week</th>\n",
       "      <th>Income</th>\n",
       "      <th>Workclass</th>\n",
       "      <th>education</th>\n",
       "      <th>marital-status</th>\n",
       "      <th>occupation</th>\n",
       "      <th>relationship</th>\n",
       "      <th>race</th>\n",
       "      <th>sex</th>\n",
       "      <th>native-country</th>\n",
       "    </tr>\n",
       "  </thead>\n",
       "  <tbody>\n",
       "    <tr>\n",
       "      <th>0</th>\n",
       "      <td>39</td>\n",
       "      <td>77516</td>\n",
       "      <td>13</td>\n",
       "      <td>2174</td>\n",
       "      <td>0</td>\n",
       "      <td>40</td>\n",
       "      <td>0</td>\n",
       "      <td>5</td>\n",
       "      <td>9</td>\n",
       "      <td>4</td>\n",
       "      <td>0</td>\n",
       "      <td>1</td>\n",
       "      <td>4</td>\n",
       "      <td>1</td>\n",
       "      <td>28</td>\n",
       "    </tr>\n",
       "    <tr>\n",
       "      <th>1</th>\n",
       "      <td>50</td>\n",
       "      <td>83311</td>\n",
       "      <td>13</td>\n",
       "      <td>0</td>\n",
       "      <td>0</td>\n",
       "      <td>13</td>\n",
       "      <td>0</td>\n",
       "      <td>4</td>\n",
       "      <td>9</td>\n",
       "      <td>2</td>\n",
       "      <td>3</td>\n",
       "      <td>0</td>\n",
       "      <td>4</td>\n",
       "      <td>1</td>\n",
       "      <td>28</td>\n",
       "    </tr>\n",
       "    <tr>\n",
       "      <th>2</th>\n",
       "      <td>38</td>\n",
       "      <td>215646</td>\n",
       "      <td>9</td>\n",
       "      <td>0</td>\n",
       "      <td>0</td>\n",
       "      <td>40</td>\n",
       "      <td>0</td>\n",
       "      <td>2</td>\n",
       "      <td>11</td>\n",
       "      <td>0</td>\n",
       "      <td>5</td>\n",
       "      <td>1</td>\n",
       "      <td>4</td>\n",
       "      <td>1</td>\n",
       "      <td>28</td>\n",
       "    </tr>\n",
       "    <tr>\n",
       "      <th>3</th>\n",
       "      <td>53</td>\n",
       "      <td>234721</td>\n",
       "      <td>7</td>\n",
       "      <td>0</td>\n",
       "      <td>0</td>\n",
       "      <td>40</td>\n",
       "      <td>0</td>\n",
       "      <td>2</td>\n",
       "      <td>1</td>\n",
       "      <td>2</td>\n",
       "      <td>5</td>\n",
       "      <td>0</td>\n",
       "      <td>2</td>\n",
       "      <td>1</td>\n",
       "      <td>28</td>\n",
       "    </tr>\n",
       "    <tr>\n",
       "      <th>4</th>\n",
       "      <td>28</td>\n",
       "      <td>338409</td>\n",
       "      <td>13</td>\n",
       "      <td>0</td>\n",
       "      <td>0</td>\n",
       "      <td>40</td>\n",
       "      <td>0</td>\n",
       "      <td>2</td>\n",
       "      <td>9</td>\n",
       "      <td>2</td>\n",
       "      <td>9</td>\n",
       "      <td>5</td>\n",
       "      <td>2</td>\n",
       "      <td>0</td>\n",
       "      <td>4</td>\n",
       "    </tr>\n",
       "  </tbody>\n",
       "</table>\n",
       "</div>"
      ],
      "text/plain": [
       "   age  fnlwgt  education-num  capital-gain  capital-loss  hours-per-week  \\\n",
       "0   39   77516             13          2174             0              40   \n",
       "1   50   83311             13             0             0              13   \n",
       "2   38  215646              9             0             0              40   \n",
       "3   53  234721              7             0             0              40   \n",
       "4   28  338409             13             0             0              40   \n",
       "\n",
       "   Income  Workclass  education  marital-status  occupation  relationship  \\\n",
       "0       0          5          9               4           0             1   \n",
       "1       0          4          9               2           3             0   \n",
       "2       0          2         11               0           5             1   \n",
       "3       0          2          1               2           5             0   \n",
       "4       0          2          9               2           9             5   \n",
       "\n",
       "   race  sex  native-country  \n",
       "0     4    1              28  \n",
       "1     4    1              28  \n",
       "2     4    1              28  \n",
       "3     2    1              28  \n",
       "4     2    0               4  "
      ]
     },
     "execution_count": 15,
     "metadata": {},
     "output_type": "execute_result"
    }
   ],
   "source": [
    "df_new=pd.concat([df_num,df_object],axis=1)  #concat df_num and df_object in df_new\n",
    "df_new.head()"
   ]
  },
  {
   "cell_type": "code",
   "execution_count": 16,
   "id": "03954b40-f605-47ad-aa57-28dc184cc6a5",
   "metadata": {},
   "outputs": [],
   "source": [
    "X=df_new.drop('Income',axis=1) #input column\n",
    "Y=df_new['Income'] #output"
   ]
  },
  {
   "cell_type": "code",
   "execution_count": 17,
   "id": "40aa2245",
   "metadata": {},
   "outputs": [
    {
     "data": {
      "text/plain": [
       "Index(['age', 'fnlwgt', 'education-num', 'capital-gain', 'capital-loss',\n",
       "       'hours-per-week', 'Workclass', 'education', 'marital-status',\n",
       "       'occupation', 'relationship', 'race', 'sex', 'native-country'],\n",
       "      dtype='object')"
      ]
     },
     "execution_count": 17,
     "metadata": {},
     "output_type": "execute_result"
    }
   ],
   "source": [
    "X.columns"
   ]
  },
  {
   "cell_type": "code",
   "execution_count": 18,
   "id": "edadd3ab-65b5-4c27-98cd-bb41de2bf794",
   "metadata": {},
   "outputs": [
    {
     "data": {
      "text/html": [
       "<div>\n",
       "<style scoped>\n",
       "    .dataframe tbody tr th:only-of-type {\n",
       "        vertical-align: middle;\n",
       "    }\n",
       "\n",
       "    .dataframe tbody tr th {\n",
       "        vertical-align: top;\n",
       "    }\n",
       "\n",
       "    .dataframe thead th {\n",
       "        text-align: right;\n",
       "    }\n",
       "</style>\n",
       "<table border=\"1\" class=\"dataframe\">\n",
       "  <thead>\n",
       "    <tr style=\"text-align: right;\">\n",
       "      <th></th>\n",
       "      <th>age</th>\n",
       "      <th>fnlwgt</th>\n",
       "      <th>education-num</th>\n",
       "      <th>capital-gain</th>\n",
       "      <th>capital-loss</th>\n",
       "      <th>hours-per-week</th>\n",
       "      <th>Workclass</th>\n",
       "      <th>education</th>\n",
       "      <th>marital-status</th>\n",
       "      <th>occupation</th>\n",
       "      <th>relationship</th>\n",
       "      <th>race</th>\n",
       "      <th>sex</th>\n",
       "      <th>native-country</th>\n",
       "    </tr>\n",
       "  </thead>\n",
       "  <tbody>\n",
       "    <tr>\n",
       "      <th>0</th>\n",
       "      <td>39</td>\n",
       "      <td>77516</td>\n",
       "      <td>13</td>\n",
       "      <td>2174</td>\n",
       "      <td>0</td>\n",
       "      <td>40</td>\n",
       "      <td>5</td>\n",
       "      <td>9</td>\n",
       "      <td>4</td>\n",
       "      <td>0</td>\n",
       "      <td>1</td>\n",
       "      <td>4</td>\n",
       "      <td>1</td>\n",
       "      <td>28</td>\n",
       "    </tr>\n",
       "    <tr>\n",
       "      <th>1</th>\n",
       "      <td>50</td>\n",
       "      <td>83311</td>\n",
       "      <td>13</td>\n",
       "      <td>0</td>\n",
       "      <td>0</td>\n",
       "      <td>13</td>\n",
       "      <td>4</td>\n",
       "      <td>9</td>\n",
       "      <td>2</td>\n",
       "      <td>3</td>\n",
       "      <td>0</td>\n",
       "      <td>4</td>\n",
       "      <td>1</td>\n",
       "      <td>28</td>\n",
       "    </tr>\n",
       "    <tr>\n",
       "      <th>2</th>\n",
       "      <td>38</td>\n",
       "      <td>215646</td>\n",
       "      <td>9</td>\n",
       "      <td>0</td>\n",
       "      <td>0</td>\n",
       "      <td>40</td>\n",
       "      <td>2</td>\n",
       "      <td>11</td>\n",
       "      <td>0</td>\n",
       "      <td>5</td>\n",
       "      <td>1</td>\n",
       "      <td>4</td>\n",
       "      <td>1</td>\n",
       "      <td>28</td>\n",
       "    </tr>\n",
       "    <tr>\n",
       "      <th>3</th>\n",
       "      <td>53</td>\n",
       "      <td>234721</td>\n",
       "      <td>7</td>\n",
       "      <td>0</td>\n",
       "      <td>0</td>\n",
       "      <td>40</td>\n",
       "      <td>2</td>\n",
       "      <td>1</td>\n",
       "      <td>2</td>\n",
       "      <td>5</td>\n",
       "      <td>0</td>\n",
       "      <td>2</td>\n",
       "      <td>1</td>\n",
       "      <td>28</td>\n",
       "    </tr>\n",
       "    <tr>\n",
       "      <th>4</th>\n",
       "      <td>28</td>\n",
       "      <td>338409</td>\n",
       "      <td>13</td>\n",
       "      <td>0</td>\n",
       "      <td>0</td>\n",
       "      <td>40</td>\n",
       "      <td>2</td>\n",
       "      <td>9</td>\n",
       "      <td>2</td>\n",
       "      <td>9</td>\n",
       "      <td>5</td>\n",
       "      <td>2</td>\n",
       "      <td>0</td>\n",
       "      <td>4</td>\n",
       "    </tr>\n",
       "  </tbody>\n",
       "</table>\n",
       "</div>"
      ],
      "text/plain": [
       "   age  fnlwgt  education-num  capital-gain  capital-loss  hours-per-week  \\\n",
       "0   39   77516             13          2174             0              40   \n",
       "1   50   83311             13             0             0              13   \n",
       "2   38  215646              9             0             0              40   \n",
       "3   53  234721              7             0             0              40   \n",
       "4   28  338409             13             0             0              40   \n",
       "\n",
       "   Workclass  education  marital-status  occupation  relationship  race  sex  \\\n",
       "0          5          9               4           0             1     4    1   \n",
       "1          4          9               2           3             0     4    1   \n",
       "2          2         11               0           5             1     4    1   \n",
       "3          2          1               2           5             0     2    1   \n",
       "4          2          9               2           9             5     2    0   \n",
       "\n",
       "   native-country  \n",
       "0              28  \n",
       "1              28  \n",
       "2              28  \n",
       "3              28  \n",
       "4               4  "
      ]
     },
     "execution_count": 18,
     "metadata": {},
     "output_type": "execute_result"
    }
   ],
   "source": [
    "X.head()"
   ]
  },
  {
   "cell_type": "code",
   "execution_count": 19,
   "id": "e307a7d8-685e-4dde-ae31-2dcdfcd6549e",
   "metadata": {},
   "outputs": [
    {
     "data": {
      "text/plain": [
       "0    0\n",
       "1    0\n",
       "2    0\n",
       "3    0\n",
       "4    0\n",
       "Name: Income, dtype: int64"
      ]
     },
     "execution_count": 19,
     "metadata": {},
     "output_type": "execute_result"
    }
   ],
   "source": [
    "Y.head()"
   ]
  },
  {
   "cell_type": "code",
   "execution_count": 20,
   "id": "6f7e0d9d-e90b-4219-a0d9-c3bd1a73aa9b",
   "metadata": {},
   "outputs": [
    {
     "data": {
      "text/plain": [
       "((1032, 14), (1032,))"
      ]
     },
     "execution_count": 20,
     "metadata": {},
     "output_type": "execute_result"
    }
   ],
   "source": [
    "X.shape,Y.shape"
   ]
  },
  {
   "cell_type": "code",
   "execution_count": 21,
   "id": "9eb9f61e-34ac-4d9d-93c6-3879b38e00cf",
   "metadata": {},
   "outputs": [],
   "source": [
    "#train_test_split\n",
    "\n",
    "from sklearn.model_selection import train_test_split\n"
   ]
  },
  {
   "cell_type": "code",
   "execution_count": 22,
   "id": "70579a10-e227-4358-9033-d6d3600b653c",
   "metadata": {},
   "outputs": [],
   "source": [
    "X_train,X_test,Y_train,Y_test=train_test_split(X,Y,test_size=0.3,random_state=1)"
   ]
  },
  {
   "cell_type": "code",
   "execution_count": 23,
   "id": "0ae9a7ab-3309-451c-ba33-a55be9c52877",
   "metadata": {},
   "outputs": [
    {
     "data": {
      "text/plain": [
       "((722, 14), (310, 14))"
      ]
     },
     "execution_count": 23,
     "metadata": {},
     "output_type": "execute_result"
    }
   ],
   "source": [
    "X_train.shape,X_test.shape"
   ]
  },
  {
   "cell_type": "code",
   "execution_count": 24,
   "id": "425fac13-7aac-442a-bf51-1b2cb58af62e",
   "metadata": {},
   "outputs": [
    {
     "data": {
      "text/plain": [
       "((722,), (310,))"
      ]
     },
     "execution_count": 24,
     "metadata": {},
     "output_type": "execute_result"
    }
   ],
   "source": [
    "Y_train.shape,Y_test.shape"
   ]
  },
  {
   "cell_type": "code",
   "execution_count": 25,
   "id": "47639d76-3b22-4ac6-b6dd-3c83c72cfafc",
   "metadata": {},
   "outputs": [],
   "source": [
    "#apply StandardScaler on Input\n",
    "\n",
    "from sklearn.preprocessing import StandardScaler\n",
    "ss=StandardScaler()\n",
    "X_train=ss.fit_transform(X_train) #traingin input\n",
    "X_test=ss.transform(X_test)#testing input\n"
   ]
  },
  {
   "cell_type": "code",
   "execution_count": 26,
   "id": "f271dcc8-42b7-4862-9d09-f35262889c7f",
   "metadata": {},
   "outputs": [
    {
     "data": {
      "text/plain": [
       "array([[-0.25468375,  0.02492289,  0.71924351, ...,  0.39611524,\n",
       "         0.68372485,  0.25894641],\n",
       "       [-1.12503586,  3.41142413, -0.51521088, ...,  0.39611524,\n",
       "         0.68372485,  0.25894641],\n",
       "       [-1.2832817 ,  0.30211862,  1.13072831, ...,  0.39611524,\n",
       "         0.68372485,  0.25894641],\n",
       "       ...,\n",
       "       [-1.20415878,  0.85337414,  0.30775871, ...,  0.39611524,\n",
       "         0.68372485,  0.25894641],\n",
       "       [ 1.72338924, -0.34225413, -0.51521088, ...,  0.39611524,\n",
       "         0.68372485,  0.25894641],\n",
       "       [ 0.29917669,  1.04437787, -0.51521088, ..., -3.09163111,\n",
       "         0.68372485, -6.72086774]])"
      ]
     },
     "execution_count": 26,
     "metadata": {},
     "output_type": "execute_result"
    }
   ],
   "source": [
    "X_train"
   ]
  },
  {
   "cell_type": "code",
   "execution_count": 102,
   "id": "4d705b58-a8f9-4517-a174-206c7228b495",
   "metadata": {},
   "outputs": [
    {
     "data": {
      "text/plain": [
       "Income\n",
       "0    540\n",
       "1    182\n",
       "Name: count, dtype: int64"
      ]
     },
     "execution_count": 102,
     "metadata": {},
     "output_type": "execute_result"
    }
   ],
   "source": [
    "Y_train.value_counts()"
   ]
  },
  {
   "cell_type": "code",
   "execution_count": 29,
   "id": "952455bf",
   "metadata": {},
   "outputs": [],
   "source": [
    "#clearly understand,Given data is Unbalance\n",
    "#0 class : 540 samples and\n",
    "#1 class : 182 samples\n",
    "#use RandomOverSampler means to converts minority classes into Majority class means increase means\n",
    "#make a duplicates copies of some existing record of minority class's sample\n"
   ]
  },
  {
   "cell_type": "code",
   "execution_count": 30,
   "id": "2568825f",
   "metadata": {},
   "outputs": [],
   "source": [
    "#!pip install imblearn"
   ]
  },
  {
   "cell_type": "code",
   "execution_count": 31,
   "id": "49629fcb",
   "metadata": {},
   "outputs": [],
   "source": [
    "from imblearn.over_sampling import RandomOverSampler\n",
    "#Create the object of the class RandomOverSampler\n",
    "ros=RandomOverSampler(random_state=1)\n"
   ]
  },
  {
   "cell_type": "code",
   "execution_count": 32,
   "id": "ba580eff",
   "metadata": {},
   "outputs": [
    {
     "data": {
      "text/plain": [
       "((1080, 14), (1080,))"
      ]
     },
     "execution_count": 32,
     "metadata": {},
     "output_type": "execute_result"
    }
   ],
   "source": [
    "X_train1,Y_train1=ros.fit_resample(X_train,Y_train)\n",
    "X_train1.shape, Y_train1.shape"
   ]
  },
  {
   "cell_type": "code",
   "execution_count": 33,
   "id": "5cd64c89-db81-4294-b822-cdc635ac6d38",
   "metadata": {},
   "outputs": [
    {
     "data": {
      "text/plain": [
       "Income\n",
       "1    540\n",
       "0    540\n",
       "Name: count, dtype: int64"
      ]
     },
     "execution_count": 33,
     "metadata": {},
     "output_type": "execute_result"
    }
   ],
   "source": [
    "Y_train1.value_counts()"
   ]
  },
  {
   "cell_type": "code",
   "execution_count": 34,
   "id": "8b94d61c-6dff-4fa7-9c39-ea5c962b2f74",
   "metadata": {},
   "outputs": [
    {
     "data": {
      "text/plain": [
       "Income\n",
       "0    238\n",
       "1    238\n",
       "Name: count, dtype: int64"
      ]
     },
     "execution_count": 34,
     "metadata": {},
     "output_type": "execute_result"
    }
   ],
   "source": [
    "#how many sampler of 0's and 1's Y_test.value_counts()\n",
    "X_test1,Y_test1=ros.fit_resample(X_test,Y_test)\n",
    "#fit_resample() inbuilt method of RandomOverSampler class\n",
    "\n",
    "Y_test1.value_counts()"
   ]
  },
  {
   "cell_type": "code",
   "execution_count": 35,
   "id": "0dbe4bac-94b9-4255-8bd5-52952dfe0098",
   "metadata": {},
   "outputs": [
    {
     "data": {
      "text/plain": [
       "((476, 14), (476,))"
      ]
     },
     "execution_count": 35,
     "metadata": {},
     "output_type": "execute_result"
    }
   ],
   "source": [
    "X_test1.shape, Y_test1.shape"
   ]
  },
  {
   "cell_type": "code",
   "execution_count": 36,
   "id": "3621b42e-b990-4159-a704-9ac99979fdf0",
   "metadata": {},
   "outputs": [],
   "source": [
    "#create user defined function\n",
    "def create_model(model):\n",
    "    model.fit(X_train1,Y_train1) #train the model with 70% data\n",
    "    #test the model with 30% data\n",
    "    Y_pred=model.predict(X_test1)\n",
    "    #print confusion matrix\n",
    "    print(confusion_matrix(Y_test1,Y_pred))\n",
    "    #generate classification report\n",
    "    print(classification_report(Y_test1,Y_pred))\n",
    "    return model"
   ]
  },
  {
   "cell_type": "code",
   "execution_count": 37,
   "id": "4a94c7e5-6ab7-47f1-9ba6-629de33e90a2",
   "metadata": {},
   "outputs": [],
   "source": [
    "from sklearn.metrics import confusion_matrix\n",
    "from sklearn.metrics import classification_report"
   ]
  },
  {
   "cell_type": "code",
   "execution_count": 38,
   "id": "989a2ec3-7cbe-4b82-8f74-1a96f8f3e299",
   "metadata": {},
   "outputs": [],
   "source": [
    "#perform the model\n",
    "#call LogisticRegression inbuilt class\n",
    "\n",
    "from sklearn.linear_model import LogisticRegression\n",
    "lr=LogisticRegression() #create the object of LogisticRegression class\n"
   ]
  },
  {
   "cell_type": "code",
   "execution_count": 39,
   "id": "b9cfd32e-13df-4b83-8861-d5cf102f39c1",
   "metadata": {
    "scrolled": true
   },
   "outputs": [
    {
     "name": "stdout",
     "output_type": "stream",
     "text": [
      "[[186  52]\n",
      " [ 67 171]]\n",
      "              precision    recall  f1-score   support\n",
      "\n",
      "           0       0.74      0.78      0.76       238\n",
      "           1       0.77      0.72      0.74       238\n",
      "\n",
      "    accuracy                           0.75       476\n",
      "   macro avg       0.75      0.75      0.75       476\n",
      "weighted avg       0.75      0.75      0.75       476\n",
      "\n"
     ]
    }
   ],
   "source": [
    "#call function \n",
    "\n",
    "lr=create_model(lr)"
   ]
  },
  {
   "cell_type": "code",
   "execution_count": 40,
   "id": "28c1c7e2",
   "metadata": {},
   "outputs": [],
   "source": [
    "#here f1 score is important in this dataset and f1 score = 0.74 means 74%\n",
    "#it is good but not better\n",
    "#reason behind of less socre : model is overfit\n",
    "#because LogisticRegression cannot select input features automaticaly."
   ]
  },
  {
   "cell_type": "code",
   "execution_count": 41,
   "id": "3b9d137f-8342-4581-bd26-24fb215145c7",
   "metadata": {},
   "outputs": [],
   "source": [
    "#second Classification Algorithm : DecisionTreeClassifier\n",
    "#advantages : it can be select input features automatica with the help of Gini and Entropy Method\n"
   ]
  },
  {
   "cell_type": "code",
   "execution_count": 42,
   "id": "755b753f-9d50-4641-be15-08f780f758e5",
   "metadata": {},
   "outputs": [],
   "source": [
    "#DecisionTreeClassifier:\n",
    "from sklearn.tree import DecisionTreeClassifier\n",
    "dtc=DecisionTreeClassifier(random_state=1) #creating object of DecisionTreeClassifier class"
   ]
  },
  {
   "cell_type": "code",
   "execution_count": 43,
   "id": "9c05f426-0d22-4ba4-9ef3-ba563a5fc3a7",
   "metadata": {},
   "outputs": [
    {
     "name": "stdout",
     "output_type": "stream",
     "text": [
      "[[205  33]\n",
      " [114 124]]\n",
      "              precision    recall  f1-score   support\n",
      "\n",
      "           0       0.64      0.86      0.74       238\n",
      "           1       0.79      0.52      0.63       238\n",
      "\n",
      "    accuracy                           0.69       476\n",
      "   macro avg       0.72      0.69      0.68       476\n",
      "weighted avg       0.72      0.69      0.68       476\n",
      "\n"
     ]
    }
   ],
   "source": [
    "#call user defined function\n",
    "\n",
    "dtc=create_model(dtc)"
   ]
  },
  {
   "cell_type": "code",
   "execution_count": 44,
   "id": "d506a329-6c54-440f-93aa-6956faf0989c",
   "metadata": {},
   "outputs": [
    {
     "data": {
      "text/html": [
       "<div>\n",
       "<style scoped>\n",
       "    .dataframe tbody tr th:only-of-type {\n",
       "        vertical-align: middle;\n",
       "    }\n",
       "\n",
       "    .dataframe tbody tr th {\n",
       "        vertical-align: top;\n",
       "    }\n",
       "\n",
       "    .dataframe thead th {\n",
       "        text-align: right;\n",
       "    }\n",
       "</style>\n",
       "<table border=\"1\" class=\"dataframe\">\n",
       "  <thead>\n",
       "    <tr style=\"text-align: right;\">\n",
       "      <th></th>\n",
       "      <th>Input column</th>\n",
       "      <th>IG</th>\n",
       "    </tr>\n",
       "  </thead>\n",
       "  <tbody>\n",
       "    <tr>\n",
       "      <th>0</th>\n",
       "      <td>age</td>\n",
       "      <td>0.158889</td>\n",
       "    </tr>\n",
       "    <tr>\n",
       "      <th>1</th>\n",
       "      <td>fnlwgt</td>\n",
       "      <td>0.115571</td>\n",
       "    </tr>\n",
       "    <tr>\n",
       "      <th>2</th>\n",
       "      <td>education-num</td>\n",
       "      <td>0.153217</td>\n",
       "    </tr>\n",
       "    <tr>\n",
       "      <th>3</th>\n",
       "      <td>capital-gain</td>\n",
       "      <td>0.035852</td>\n",
       "    </tr>\n",
       "    <tr>\n",
       "      <th>4</th>\n",
       "      <td>capital-loss</td>\n",
       "      <td>0.011485</td>\n",
       "    </tr>\n",
       "    <tr>\n",
       "      <th>5</th>\n",
       "      <td>hours-per-week</td>\n",
       "      <td>0.050000</td>\n",
       "    </tr>\n",
       "    <tr>\n",
       "      <th>6</th>\n",
       "      <td>Workclass</td>\n",
       "      <td>0.047779</td>\n",
       "    </tr>\n",
       "    <tr>\n",
       "      <th>7</th>\n",
       "      <td>education</td>\n",
       "      <td>0.034081</td>\n",
       "    </tr>\n",
       "    <tr>\n",
       "      <th>8</th>\n",
       "      <td>marital-status</td>\n",
       "      <td>0.289598</td>\n",
       "    </tr>\n",
       "    <tr>\n",
       "      <th>9</th>\n",
       "      <td>occupation</td>\n",
       "      <td>0.056273</td>\n",
       "    </tr>\n",
       "    <tr>\n",
       "      <th>10</th>\n",
       "      <td>relationship</td>\n",
       "      <td>0.019118</td>\n",
       "    </tr>\n",
       "    <tr>\n",
       "      <th>11</th>\n",
       "      <td>race</td>\n",
       "      <td>0.003453</td>\n",
       "    </tr>\n",
       "    <tr>\n",
       "      <th>12</th>\n",
       "      <td>sex</td>\n",
       "      <td>0.012966</td>\n",
       "    </tr>\n",
       "    <tr>\n",
       "      <th>13</th>\n",
       "      <td>native-country</td>\n",
       "      <td>0.011717</td>\n",
       "    </tr>\n",
       "  </tbody>\n",
       "</table>\n",
       "</div>"
      ],
      "text/plain": [
       "      Input column        IG\n",
       "0              age  0.158889\n",
       "1           fnlwgt  0.115571\n",
       "2    education-num  0.153217\n",
       "3     capital-gain  0.035852\n",
       "4     capital-loss  0.011485\n",
       "5   hours-per-week  0.050000\n",
       "6        Workclass  0.047779\n",
       "7        education  0.034081\n",
       "8   marital-status  0.289598\n",
       "9       occupation  0.056273\n",
       "10    relationship  0.019118\n",
       "11            race  0.003453\n",
       "12             sex  0.012966\n",
       "13  native-country  0.011717"
      ]
     },
     "execution_count": 44,
     "metadata": {},
     "output_type": "execute_result"
    }
   ],
   "source": [
    "#create a DataFrame with the help of Dictionary\n",
    "dict={'Input column': X.columns, 'IG':dtc.feature_importances_}\n",
    "df1=pd.DataFrame(dict)\n",
    "df1"
   ]
  },
  {
   "cell_type": "code",
   "execution_count": 45,
   "id": "2f9d559c-98c4-4a96-a0e3-a30110db590d",
   "metadata": {},
   "outputs": [
    {
     "data": {
      "text/html": [
       "<div>\n",
       "<style scoped>\n",
       "    .dataframe tbody tr th:only-of-type {\n",
       "        vertical-align: middle;\n",
       "    }\n",
       "\n",
       "    .dataframe tbody tr th {\n",
       "        vertical-align: top;\n",
       "    }\n",
       "\n",
       "    .dataframe thead th {\n",
       "        text-align: right;\n",
       "    }\n",
       "</style>\n",
       "<table border=\"1\" class=\"dataframe\">\n",
       "  <thead>\n",
       "    <tr style=\"text-align: right;\">\n",
       "      <th></th>\n",
       "      <th>Input column</th>\n",
       "      <th>IG</th>\n",
       "    </tr>\n",
       "  </thead>\n",
       "  <tbody>\n",
       "    <tr>\n",
       "      <th>0</th>\n",
       "      <td>marital-status</td>\n",
       "      <td>0.289598</td>\n",
       "    </tr>\n",
       "    <tr>\n",
       "      <th>1</th>\n",
       "      <td>age</td>\n",
       "      <td>0.158889</td>\n",
       "    </tr>\n",
       "    <tr>\n",
       "      <th>2</th>\n",
       "      <td>education-num</td>\n",
       "      <td>0.153217</td>\n",
       "    </tr>\n",
       "    <tr>\n",
       "      <th>3</th>\n",
       "      <td>fnlwgt</td>\n",
       "      <td>0.115571</td>\n",
       "    </tr>\n",
       "    <tr>\n",
       "      <th>4</th>\n",
       "      <td>occupation</td>\n",
       "      <td>0.056273</td>\n",
       "    </tr>\n",
       "    <tr>\n",
       "      <th>5</th>\n",
       "      <td>hours-per-week</td>\n",
       "      <td>0.050000</td>\n",
       "    </tr>\n",
       "    <tr>\n",
       "      <th>6</th>\n",
       "      <td>Workclass</td>\n",
       "      <td>0.047779</td>\n",
       "    </tr>\n",
       "    <tr>\n",
       "      <th>7</th>\n",
       "      <td>capital-gain</td>\n",
       "      <td>0.035852</td>\n",
       "    </tr>\n",
       "    <tr>\n",
       "      <th>8</th>\n",
       "      <td>education</td>\n",
       "      <td>0.034081</td>\n",
       "    </tr>\n",
       "    <tr>\n",
       "      <th>9</th>\n",
       "      <td>relationship</td>\n",
       "      <td>0.019118</td>\n",
       "    </tr>\n",
       "    <tr>\n",
       "      <th>10</th>\n",
       "      <td>sex</td>\n",
       "      <td>0.012966</td>\n",
       "    </tr>\n",
       "    <tr>\n",
       "      <th>11</th>\n",
       "      <td>native-country</td>\n",
       "      <td>0.011717</td>\n",
       "    </tr>\n",
       "    <tr>\n",
       "      <th>12</th>\n",
       "      <td>capital-loss</td>\n",
       "      <td>0.011485</td>\n",
       "    </tr>\n",
       "    <tr>\n",
       "      <th>13</th>\n",
       "      <td>race</td>\n",
       "      <td>0.003453</td>\n",
       "    </tr>\n",
       "  </tbody>\n",
       "</table>\n",
       "</div>"
      ],
      "text/plain": [
       "      Input column        IG\n",
       "0   marital-status  0.289598\n",
       "1              age  0.158889\n",
       "2    education-num  0.153217\n",
       "3           fnlwgt  0.115571\n",
       "4       occupation  0.056273\n",
       "5   hours-per-week  0.050000\n",
       "6        Workclass  0.047779\n",
       "7     capital-gain  0.035852\n",
       "8        education  0.034081\n",
       "9     relationship  0.019118\n",
       "10             sex  0.012966\n",
       "11  native-country  0.011717\n",
       "12    capital-loss  0.011485\n",
       "13            race  0.003453"
      ]
     },
     "execution_count": 45,
     "metadata": {},
     "output_type": "execute_result"
    }
   ],
   "source": [
    "df1.sort_values(by='IG',ascending=False,ignore_index=True)"
   ]
  },
  {
   "cell_type": "code",
   "execution_count": 46,
   "id": "41e75746-968b-48f0-871a-a47dd6f5b94c",
   "metadata": {},
   "outputs": [],
   "source": [
    "#in decisiontreeclassifier,we got less than score 0.63  means 63% reason behind the less score,model is overfit\n",
    "#so we reduce overfiting the model, then use pruning technique of DecisionTreeClassifier class\n",
    "#how to reduce overfitting situation by using the pruning technique:\n",
    "#  1: max_depth: inbuilt parameter of DecisionTreeClassifier class\n",
    "#  2.min_samples_leaf: inbuilt parameter of DecisionTreeClassifier class"
   ]
  },
  {
   "cell_type": "code",
   "execution_count": 47,
   "id": "9286397b-777c-4ba1-a35e-f7a06b4713f3",
   "metadata": {},
   "outputs": [
    {
     "data": {
      "text/plain": [
       "'for i in range(1,9):\\n    dtc1=DecisionTreeClassifier(random_state=1,max_depth=i)\\n    print(\"\\n Max Depth: \", i)\\n    dtc1=create_model(dtc1)  #call function'"
      ]
     },
     "execution_count": 47,
     "metadata": {},
     "output_type": "execute_result"
    }
   ],
   "source": [
    "#Pruning Technique :\n",
    "#1.max_depth:   2.min_samples_leaf\n",
    "\n",
    "#1.max_depth:\n",
    "\n",
    "'''for i in range(1,9):\n",
    "    dtc1=DecisionTreeClassifier(random_state=1,max_depth=i)\n",
    "    print(\"\\n Max Depth: \", i)\n",
    "    dtc1=create_model(dtc1)  #call function'''"
   ]
  },
  {
   "cell_type": "code",
   "execution_count": 48,
   "id": "23e57a2d-ad34-4b5e-aa0c-96a1169563b2",
   "metadata": {},
   "outputs": [
    {
     "name": "stdout",
     "output_type": "stream",
     "text": [
      "[[173  65]\n",
      " [ 40 198]]\n",
      "              precision    recall  f1-score   support\n",
      "\n",
      "           0       0.81      0.73      0.77       238\n",
      "           1       0.75      0.83      0.79       238\n",
      "\n",
      "    accuracy                           0.78       476\n",
      "   macro avg       0.78      0.78      0.78       476\n",
      "weighted avg       0.78      0.78      0.78       476\n",
      "\n"
     ]
    }
   ],
   "source": [
    "#create the object of DecisionTreeClassifier class and passing the parameter max_depth=4\n",
    "\n",
    "dtc1=DecisionTreeClassifier(random_state=1,max_depth=4)\n",
    "dtc1=create_model(dtc1)  #call function"
   ]
  },
  {
   "cell_type": "code",
   "execution_count": 49,
   "id": "9cbca081-88d9-4bc4-b168-b46e73828648",
   "metadata": {},
   "outputs": [
    {
     "data": {
      "text/html": [
       "<div>\n",
       "<style scoped>\n",
       "    .dataframe tbody tr th:only-of-type {\n",
       "        vertical-align: middle;\n",
       "    }\n",
       "\n",
       "    .dataframe tbody tr th {\n",
       "        vertical-align: top;\n",
       "    }\n",
       "\n",
       "    .dataframe thead th {\n",
       "        text-align: right;\n",
       "    }\n",
       "</style>\n",
       "<table border=\"1\" class=\"dataframe\">\n",
       "  <thead>\n",
       "    <tr style=\"text-align: right;\">\n",
       "      <th></th>\n",
       "      <th>input columns</th>\n",
       "      <th>IG</th>\n",
       "    </tr>\n",
       "  </thead>\n",
       "  <tbody>\n",
       "    <tr>\n",
       "      <th>0</th>\n",
       "      <td>marital-status</td>\n",
       "      <td>0.536725</td>\n",
       "    </tr>\n",
       "    <tr>\n",
       "      <th>1</th>\n",
       "      <td>education-num</td>\n",
       "      <td>0.234955</td>\n",
       "    </tr>\n",
       "    <tr>\n",
       "      <th>2</th>\n",
       "      <td>age</td>\n",
       "      <td>0.136568</td>\n",
       "    </tr>\n",
       "    <tr>\n",
       "      <th>3</th>\n",
       "      <td>hours-per-week</td>\n",
       "      <td>0.028813</td>\n",
       "    </tr>\n",
       "    <tr>\n",
       "      <th>4</th>\n",
       "      <td>Workclass</td>\n",
       "      <td>0.022165</td>\n",
       "    </tr>\n",
       "    <tr>\n",
       "      <th>5</th>\n",
       "      <td>fnlwgt</td>\n",
       "      <td>0.018176</td>\n",
       "    </tr>\n",
       "    <tr>\n",
       "      <th>6</th>\n",
       "      <td>sex</td>\n",
       "      <td>0.011832</td>\n",
       "    </tr>\n",
       "    <tr>\n",
       "      <th>7</th>\n",
       "      <td>education</td>\n",
       "      <td>0.008940</td>\n",
       "    </tr>\n",
       "    <tr>\n",
       "      <th>8</th>\n",
       "      <td>occupation</td>\n",
       "      <td>0.001827</td>\n",
       "    </tr>\n",
       "    <tr>\n",
       "      <th>9</th>\n",
       "      <td>capital-gain</td>\n",
       "      <td>0.000000</td>\n",
       "    </tr>\n",
       "    <tr>\n",
       "      <th>10</th>\n",
       "      <td>capital-loss</td>\n",
       "      <td>0.000000</td>\n",
       "    </tr>\n",
       "    <tr>\n",
       "      <th>11</th>\n",
       "      <td>relationship</td>\n",
       "      <td>0.000000</td>\n",
       "    </tr>\n",
       "    <tr>\n",
       "      <th>12</th>\n",
       "      <td>race</td>\n",
       "      <td>0.000000</td>\n",
       "    </tr>\n",
       "    <tr>\n",
       "      <th>13</th>\n",
       "      <td>native-country</td>\n",
       "      <td>0.000000</td>\n",
       "    </tr>\n",
       "  </tbody>\n",
       "</table>\n",
       "</div>"
      ],
      "text/plain": [
       "     input columns        IG\n",
       "0   marital-status  0.536725\n",
       "1    education-num  0.234955\n",
       "2              age  0.136568\n",
       "3   hours-per-week  0.028813\n",
       "4        Workclass  0.022165\n",
       "5           fnlwgt  0.018176\n",
       "6              sex  0.011832\n",
       "7        education  0.008940\n",
       "8       occupation  0.001827\n",
       "9     capital-gain  0.000000\n",
       "10    capital-loss  0.000000\n",
       "11    relationship  0.000000\n",
       "12            race  0.000000\n",
       "13  native-country  0.000000"
      ]
     },
     "execution_count": 49,
     "metadata": {},
     "output_type": "execute_result"
    }
   ],
   "source": [
    "#create dictonary\n",
    "dict={\"input columns\":X.columns,\"IG\":dtc1.feature_importances_}\n",
    "#IG means information gain of each input\n",
    "df2=pd.DataFrame(dict)\n",
    "df2.sort_values(by=\"IG\",ascending=False,ignore_index=True)"
   ]
  },
  {
   "cell_type": "code",
   "execution_count": 50,
   "id": "c5c3b972-b831-4699-9b66-417cae521328",
   "metadata": {},
   "outputs": [],
   "source": [
    "#in above report, f1 socre=0.79 means 79% and accuracy = 0.78 means 78%, DecisionTreeClassifier using Gini Index(max depth)"
   ]
  },
  {
   "cell_type": "code",
   "execution_count": 51,
   "id": "f83b2d9b-e23c-4885-8aab-371f4d4456f7",
   "metadata": {},
   "outputs": [
    {
     "data": {
      "text/plain": [
       "'for i in range(45,101):\\n    dtc1=DecisionTreeClassifier(random_state=1,min_samples_leaf=i)\\n    print(\"\\nmin sample leaf : \",i)\\n    dtc1=create_model(dtc1) #call function'"
      ]
     },
     "execution_count": 51,
     "metadata": {},
     "output_type": "execute_result"
    }
   ],
   "source": [
    "#min_samples_leaf: inbuilt parameter of DecisionTreeClassifier class\n",
    "#it is second pruning technique,leaf means no child\n",
    "#value of min_samples_leaf parameter for any dataset >=45 and <=100\n",
    "\n",
    "'''for i in range(45,101):\n",
    "    dtc1=DecisionTreeClassifier(random_state=1,min_samples_leaf=i)\n",
    "    print(\"\\nmin sample leaf : \",i)\n",
    "    dtc1=create_model(dtc1) #call function'''"
   ]
  },
  {
   "cell_type": "code",
   "execution_count": 52,
   "id": "2807252e-abd7-4e36-bcdd-2e267119621e",
   "metadata": {},
   "outputs": [
    {
     "name": "stdout",
     "output_type": "stream",
     "text": [
      "[[183  55]\n",
      " [ 34 204]]\n",
      "              precision    recall  f1-score   support\n",
      "\n",
      "           0       0.84      0.77      0.80       238\n",
      "           1       0.79      0.86      0.82       238\n",
      "\n",
      "    accuracy                           0.81       476\n",
      "   macro avg       0.82      0.81      0.81       476\n",
      "weighted avg       0.82      0.81      0.81       476\n",
      "\n"
     ]
    }
   ],
   "source": [
    "#create the object of DecisionTreeClassifier class and passing the parameter min_samples_leaf=45\n",
    "dtc1=DecisionTreeClassifier(random_state=1,min_samples_leaf=45)\n",
    "#call user funtion\n",
    "dtc1=create_model(dtc1)"
   ]
  },
  {
   "cell_type": "code",
   "execution_count": 53,
   "id": "25ba47ce-1aa6-41b7-af76-c5268f3f6516",
   "metadata": {},
   "outputs": [
    {
     "data": {
      "text/html": [
       "<div>\n",
       "<style scoped>\n",
       "    .dataframe tbody tr th:only-of-type {\n",
       "        vertical-align: middle;\n",
       "    }\n",
       "\n",
       "    .dataframe tbody tr th {\n",
       "        vertical-align: top;\n",
       "    }\n",
       "\n",
       "    .dataframe thead th {\n",
       "        text-align: right;\n",
       "    }\n",
       "</style>\n",
       "<table border=\"1\" class=\"dataframe\">\n",
       "  <thead>\n",
       "    <tr style=\"text-align: right;\">\n",
       "      <th></th>\n",
       "      <th>Input columns</th>\n",
       "      <th>IG</th>\n",
       "    </tr>\n",
       "  </thead>\n",
       "  <tbody>\n",
       "    <tr>\n",
       "      <th>0</th>\n",
       "      <td>marital-status</td>\n",
       "      <td>0.569262</td>\n",
       "    </tr>\n",
       "    <tr>\n",
       "      <th>1</th>\n",
       "      <td>education-num</td>\n",
       "      <td>0.262006</td>\n",
       "    </tr>\n",
       "    <tr>\n",
       "      <th>2</th>\n",
       "      <td>age</td>\n",
       "      <td>0.128585</td>\n",
       "    </tr>\n",
       "    <tr>\n",
       "      <th>3</th>\n",
       "      <td>hours-per-week</td>\n",
       "      <td>0.012915</td>\n",
       "    </tr>\n",
       "    <tr>\n",
       "      <th>4</th>\n",
       "      <td>fnlwgt</td>\n",
       "      <td>0.010877</td>\n",
       "    </tr>\n",
       "    <tr>\n",
       "      <th>5</th>\n",
       "      <td>occupation</td>\n",
       "      <td>0.010251</td>\n",
       "    </tr>\n",
       "    <tr>\n",
       "      <th>6</th>\n",
       "      <td>capital-gain</td>\n",
       "      <td>0.006102</td>\n",
       "    </tr>\n",
       "    <tr>\n",
       "      <th>7</th>\n",
       "      <td>capital-loss</td>\n",
       "      <td>0.000000</td>\n",
       "    </tr>\n",
       "    <tr>\n",
       "      <th>8</th>\n",
       "      <td>Workclass</td>\n",
       "      <td>0.000000</td>\n",
       "    </tr>\n",
       "    <tr>\n",
       "      <th>9</th>\n",
       "      <td>education</td>\n",
       "      <td>0.000000</td>\n",
       "    </tr>\n",
       "    <tr>\n",
       "      <th>10</th>\n",
       "      <td>relationship</td>\n",
       "      <td>0.000000</td>\n",
       "    </tr>\n",
       "    <tr>\n",
       "      <th>11</th>\n",
       "      <td>race</td>\n",
       "      <td>0.000000</td>\n",
       "    </tr>\n",
       "    <tr>\n",
       "      <th>12</th>\n",
       "      <td>sex</td>\n",
       "      <td>0.000000</td>\n",
       "    </tr>\n",
       "    <tr>\n",
       "      <th>13</th>\n",
       "      <td>native-country</td>\n",
       "      <td>0.000000</td>\n",
       "    </tr>\n",
       "  </tbody>\n",
       "</table>\n",
       "</div>"
      ],
      "text/plain": [
       "     Input columns        IG\n",
       "0   marital-status  0.569262\n",
       "1    education-num  0.262006\n",
       "2              age  0.128585\n",
       "3   hours-per-week  0.012915\n",
       "4           fnlwgt  0.010877\n",
       "5       occupation  0.010251\n",
       "6     capital-gain  0.006102\n",
       "7     capital-loss  0.000000\n",
       "8        Workclass  0.000000\n",
       "9        education  0.000000\n",
       "10    relationship  0.000000\n",
       "11            race  0.000000\n",
       "12             sex  0.000000\n",
       "13  native-country  0.000000"
      ]
     },
     "execution_count": 53,
     "metadata": {},
     "output_type": "execute_result"
    }
   ],
   "source": [
    "#create DaraFrame with help of dictionary\n",
    "dict={\"Input columns\":X.columns,\"IG\":dtc1.feature_importances_}\n",
    "#IG means informations gain of each input\n",
    "df2=pd.DataFrame(dict)\n",
    "df2.sort_values(by=\"IG\",ascending=False,ignore_index=True)"
   ]
  },
  {
   "cell_type": "code",
   "execution_count": 54,
   "id": "f6e48de7-6f5f-4966-9b86-31ebf1fb42f7",
   "metadata": {},
   "outputs": [],
   "source": [
    "#in above report, f1 socre=0.82 means 82% and accuracy = 0.81 means 81%, DecisionTreeClassifier using Gini Index(min samples leaf)"
   ]
  },
  {
   "cell_type": "code",
   "execution_count": 55,
   "id": "28d1d93d-1394-4b93-bf52-3051ec4d37bb",
   "metadata": {},
   "outputs": [],
   "source": [
    "#Entrophy:\n",
    "#use entropy method\n",
    "#create object\n",
    "dtc1=DecisionTreeClassifier(random_state=1,criterion='entropy')"
   ]
  },
  {
   "cell_type": "code",
   "execution_count": 56,
   "id": "fa1c8d53-a467-414f-b0e8-2dfe9744247d",
   "metadata": {},
   "outputs": [
    {
     "name": "stdout",
     "output_type": "stream",
     "text": [
      "[[210  28]\n",
      " [ 97 141]]\n",
      "              precision    recall  f1-score   support\n",
      "\n",
      "           0       0.68      0.88      0.77       238\n",
      "           1       0.83      0.59      0.69       238\n",
      "\n",
      "    accuracy                           0.74       476\n",
      "   macro avg       0.76      0.74      0.73       476\n",
      "weighted avg       0.76      0.74      0.73       476\n",
      "\n"
     ]
    }
   ],
   "source": [
    "#call function\n",
    "dtc1=create_model(dtc1)"
   ]
  },
  {
   "cell_type": "code",
   "execution_count": 57,
   "id": "a6982fd6-2bf0-4d68-9574-699248e22690",
   "metadata": {},
   "outputs": [
    {
     "data": {
      "text/html": [
       "<div>\n",
       "<style scoped>\n",
       "    .dataframe tbody tr th:only-of-type {\n",
       "        vertical-align: middle;\n",
       "    }\n",
       "\n",
       "    .dataframe tbody tr th {\n",
       "        vertical-align: top;\n",
       "    }\n",
       "\n",
       "    .dataframe thead th {\n",
       "        text-align: right;\n",
       "    }\n",
       "</style>\n",
       "<table border=\"1\" class=\"dataframe\">\n",
       "  <thead>\n",
       "    <tr style=\"text-align: right;\">\n",
       "      <th></th>\n",
       "      <th>input columns</th>\n",
       "      <th>IG</th>\n",
       "    </tr>\n",
       "  </thead>\n",
       "  <tbody>\n",
       "    <tr>\n",
       "      <th>0</th>\n",
       "      <td>marital-status</td>\n",
       "      <td>0.289598</td>\n",
       "    </tr>\n",
       "    <tr>\n",
       "      <th>1</th>\n",
       "      <td>age</td>\n",
       "      <td>0.158889</td>\n",
       "    </tr>\n",
       "    <tr>\n",
       "      <th>2</th>\n",
       "      <td>education-num</td>\n",
       "      <td>0.153217</td>\n",
       "    </tr>\n",
       "    <tr>\n",
       "      <th>3</th>\n",
       "      <td>fnlwgt</td>\n",
       "      <td>0.115571</td>\n",
       "    </tr>\n",
       "    <tr>\n",
       "      <th>4</th>\n",
       "      <td>occupation</td>\n",
       "      <td>0.056273</td>\n",
       "    </tr>\n",
       "    <tr>\n",
       "      <th>5</th>\n",
       "      <td>hours-per-week</td>\n",
       "      <td>0.050000</td>\n",
       "    </tr>\n",
       "    <tr>\n",
       "      <th>6</th>\n",
       "      <td>Workclass</td>\n",
       "      <td>0.047779</td>\n",
       "    </tr>\n",
       "    <tr>\n",
       "      <th>7</th>\n",
       "      <td>capital-gain</td>\n",
       "      <td>0.035852</td>\n",
       "    </tr>\n",
       "    <tr>\n",
       "      <th>8</th>\n",
       "      <td>education</td>\n",
       "      <td>0.034081</td>\n",
       "    </tr>\n",
       "    <tr>\n",
       "      <th>9</th>\n",
       "      <td>relationship</td>\n",
       "      <td>0.019118</td>\n",
       "    </tr>\n",
       "    <tr>\n",
       "      <th>10</th>\n",
       "      <td>sex</td>\n",
       "      <td>0.012966</td>\n",
       "    </tr>\n",
       "    <tr>\n",
       "      <th>11</th>\n",
       "      <td>native-country</td>\n",
       "      <td>0.011717</td>\n",
       "    </tr>\n",
       "    <tr>\n",
       "      <th>12</th>\n",
       "      <td>capital-loss</td>\n",
       "      <td>0.011485</td>\n",
       "    </tr>\n",
       "    <tr>\n",
       "      <th>13</th>\n",
       "      <td>race</td>\n",
       "      <td>0.003453</td>\n",
       "    </tr>\n",
       "  </tbody>\n",
       "</table>\n",
       "</div>"
      ],
      "text/plain": [
       "     input columns        IG\n",
       "0   marital-status  0.289598\n",
       "1              age  0.158889\n",
       "2    education-num  0.153217\n",
       "3           fnlwgt  0.115571\n",
       "4       occupation  0.056273\n",
       "5   hours-per-week  0.050000\n",
       "6        Workclass  0.047779\n",
       "7     capital-gain  0.035852\n",
       "8        education  0.034081\n",
       "9     relationship  0.019118\n",
       "10             sex  0.012966\n",
       "11  native-country  0.011717\n",
       "12    capital-loss  0.011485\n",
       "13            race  0.003453"
      ]
     },
     "execution_count": 57,
     "metadata": {},
     "output_type": "execute_result"
    }
   ],
   "source": [
    "#create a df \n",
    "dict={'input columns':X.columns,'IG':dtc.feature_importances_}\n",
    "df1=pd.DataFrame(dict)\n",
    "df1.sort_values(by='IG',ascending=False,ignore_index=True)"
   ]
  },
  {
   "cell_type": "code",
   "execution_count": 58,
   "id": "2b3723a0-b97c-49ba-9706-c6a9dc32950b",
   "metadata": {},
   "outputs": [],
   "source": [
    "#in decisiontreeclassifier,we got less  score0.69 means 69% reason behind the less score,model is overfit\n",
    "#so we reduce overfiting the model, then use pruning technique of DecisionTreeClassifier class\n",
    "#how to reduce overfitting situation by using the pruning technique:\n",
    "#  1: max_dept: inbuilt parameter of DecisionTreeClassifier class\n",
    "#  2.min_samples_leaf: inbuilt parameter of DecisionTreeClassifier class"
   ]
  },
  {
   "cell_type": "code",
   "execution_count": 59,
   "id": "4dc4b48f-5488-4377-849e-cdeb5e84e5df",
   "metadata": {},
   "outputs": [
    {
     "data": {
      "text/plain": [
       "'for i in range(1,9):\\n    #create object DecisionTreeClassifier class and passing parameter max_depth and \\n    #criterion=\"entropy\"\\n    dtc1=DecisionTreeClassifier(random_state=1,criterion=\"entropy\",max_depth=i)\\n    print(\"\\nmax_depth:\",i)\\n    #call user difined funtion\\n    dtc1=create_model(dtc1)'"
      ]
     },
     "execution_count": 59,
     "metadata": {},
     "output_type": "execute_result"
    }
   ],
   "source": [
    "#Entropy\n",
    "#max_depth:inbuilt parameter of DecisionTreeClassifier\n",
    "#DecisionTreeClassifier class\n",
    "#value of max_depth parameter for any dataset <=8\n",
    "'''for i in range(1,9):\n",
    "    #create object DecisionTreeClassifier class and passing parameter max_depth and \n",
    "    #criterion=\"entropy\"\n",
    "    dtc1=DecisionTreeClassifier(random_state=1,criterion=\"entropy\",max_depth=i)\n",
    "    print(\"\\nmax_depth:\",i)\n",
    "    #call user difined funtion\n",
    "    dtc1=create_model(dtc1)'''"
   ]
  },
  {
   "cell_type": "code",
   "execution_count": 60,
   "id": "df787082-dea5-4ba4-a882-2c1c9291beab",
   "metadata": {},
   "outputs": [
    {
     "name": "stdout",
     "output_type": "stream",
     "text": [
      "[[162  76]\n",
      " [ 22 216]]\n",
      "              precision    recall  f1-score   support\n",
      "\n",
      "           0       0.88      0.68      0.77       238\n",
      "           1       0.74      0.91      0.82       238\n",
      "\n",
      "    accuracy                           0.79       476\n",
      "   macro avg       0.81      0.79      0.79       476\n",
      "weighted avg       0.81      0.79      0.79       476\n",
      "\n"
     ]
    }
   ],
   "source": [
    "#create the object of DecisionTreeClassifier class and passing the parameter max_depth=4\n",
    "dtc1=DecisionTreeClassifier(random_state=1,criterion='entropy',max_depth=4)\n",
    "#call user difined function\n",
    "dtc1=create_model(dtc1)"
   ]
  },
  {
   "cell_type": "code",
   "execution_count": 61,
   "id": "7f070bed-9a02-40ba-8cf2-efda5a55ca66",
   "metadata": {},
   "outputs": [
    {
     "data": {
      "text/html": [
       "<div>\n",
       "<style scoped>\n",
       "    .dataframe tbody tr th:only-of-type {\n",
       "        vertical-align: middle;\n",
       "    }\n",
       "\n",
       "    .dataframe tbody tr th {\n",
       "        vertical-align: top;\n",
       "    }\n",
       "\n",
       "    .dataframe thead th {\n",
       "        text-align: right;\n",
       "    }\n",
       "</style>\n",
       "<table border=\"1\" class=\"dataframe\">\n",
       "  <thead>\n",
       "    <tr style=\"text-align: right;\">\n",
       "      <th></th>\n",
       "      <th>input columns</th>\n",
       "      <th>IG</th>\n",
       "    </tr>\n",
       "  </thead>\n",
       "  <tbody>\n",
       "    <tr>\n",
       "      <th>0</th>\n",
       "      <td>marital-status</td>\n",
       "      <td>0.479199</td>\n",
       "    </tr>\n",
       "    <tr>\n",
       "      <th>1</th>\n",
       "      <td>education-num</td>\n",
       "      <td>0.269734</td>\n",
       "    </tr>\n",
       "    <tr>\n",
       "      <th>2</th>\n",
       "      <td>age</td>\n",
       "      <td>0.120329</td>\n",
       "    </tr>\n",
       "    <tr>\n",
       "      <th>3</th>\n",
       "      <td>fnlwgt</td>\n",
       "      <td>0.045122</td>\n",
       "    </tr>\n",
       "    <tr>\n",
       "      <th>4</th>\n",
       "      <td>hours-per-week</td>\n",
       "      <td>0.040514</td>\n",
       "    </tr>\n",
       "    <tr>\n",
       "      <th>5</th>\n",
       "      <td>capital-gain</td>\n",
       "      <td>0.019361</td>\n",
       "    </tr>\n",
       "    <tr>\n",
       "      <th>6</th>\n",
       "      <td>race</td>\n",
       "      <td>0.017366</td>\n",
       "    </tr>\n",
       "    <tr>\n",
       "      <th>7</th>\n",
       "      <td>occupation</td>\n",
       "      <td>0.008373</td>\n",
       "    </tr>\n",
       "    <tr>\n",
       "      <th>8</th>\n",
       "      <td>capital-loss</td>\n",
       "      <td>0.000000</td>\n",
       "    </tr>\n",
       "    <tr>\n",
       "      <th>9</th>\n",
       "      <td>Workclass</td>\n",
       "      <td>0.000000</td>\n",
       "    </tr>\n",
       "    <tr>\n",
       "      <th>10</th>\n",
       "      <td>education</td>\n",
       "      <td>0.000000</td>\n",
       "    </tr>\n",
       "    <tr>\n",
       "      <th>11</th>\n",
       "      <td>relationship</td>\n",
       "      <td>0.000000</td>\n",
       "    </tr>\n",
       "    <tr>\n",
       "      <th>12</th>\n",
       "      <td>sex</td>\n",
       "      <td>0.000000</td>\n",
       "    </tr>\n",
       "    <tr>\n",
       "      <th>13</th>\n",
       "      <td>native-country</td>\n",
       "      <td>0.000000</td>\n",
       "    </tr>\n",
       "  </tbody>\n",
       "</table>\n",
       "</div>"
      ],
      "text/plain": [
       "     input columns        IG\n",
       "0   marital-status  0.479199\n",
       "1    education-num  0.269734\n",
       "2              age  0.120329\n",
       "3           fnlwgt  0.045122\n",
       "4   hours-per-week  0.040514\n",
       "5     capital-gain  0.019361\n",
       "6             race  0.017366\n",
       "7       occupation  0.008373\n",
       "8     capital-loss  0.000000\n",
       "9        Workclass  0.000000\n",
       "10       education  0.000000\n",
       "11    relationship  0.000000\n",
       "12             sex  0.000000\n",
       "13  native-country  0.000000"
      ]
     },
     "execution_count": 61,
     "metadata": {},
     "output_type": "execute_result"
    }
   ],
   "source": [
    "#create DataFrame with help of dictionary\n",
    "dict={\"input columns\":X.columns,\"IG\":dtc1.feature_importances_}\n",
    "df2=pd.DataFrame(dict)\n",
    "df2.sort_values(by=\"IG\",ascending=False,ignore_index=True)"
   ]
  },
  {
   "cell_type": "code",
   "execution_count": 62,
   "id": "b60b5b9e-8b3c-4b32-9606-29b5b9e72d48",
   "metadata": {},
   "outputs": [],
   "source": [
    "#In about Report, f1 score=0.82 means 82% and Accuracy=0.79 \n",
    "#DecisionTreeclasifier using Entropy (max_depth)"
   ]
  },
  {
   "cell_type": "code",
   "execution_count": 63,
   "id": "cec05a3b-d7d1-4ace-bcb7-6be2219bbadb",
   "metadata": {},
   "outputs": [
    {
     "data": {
      "text/plain": [
       "'for i in range(45,101): #i=45 i<100 i=i+1\\n    #create object DecisionTreeClassifier passing parameter min_samples_leaf and criterion=\"entropy\"\\n    dtc1=DecisionTreeClassifier(random_state=1,criterion=\"entropy\",min_samples_leaf=i)\\n    print(\\'\\nmin_leaf_samples:\\',i)\\n    #call user difined function\\n    dtc1=create_model(dtc1)'"
      ]
     },
     "execution_count": 63,
     "metadata": {},
     "output_type": "execute_result"
    }
   ],
   "source": [
    "#Entropy\n",
    "#min_samples_leaf: inbuilt parameter of DecisionTreeClassifier\n",
    "#value of min_samples_leaf >=45 and <=100 \n",
    "'''for i in range(45,101): #i=45 i<100 i=i+1\n",
    "    #create object DecisionTreeClassifier passing parameter min_samples_leaf and criterion=\"entropy\"\n",
    "    dtc1=DecisionTreeClassifier(random_state=1,criterion=\"entropy\",min_samples_leaf=i)\n",
    "    print('\\nmin_leaf_samples:',i)\n",
    "    #call user difined function\n",
    "    dtc1=create_model(dtc1)'''"
   ]
  },
  {
   "cell_type": "code",
   "execution_count": 64,
   "id": "3fb42607-fb08-4270-91b8-0a3c1147f429",
   "metadata": {},
   "outputs": [
    {
     "name": "stdout",
     "output_type": "stream",
     "text": [
      "[[182  56]\n",
      " [ 34 204]]\n",
      "              precision    recall  f1-score   support\n",
      "\n",
      "           0       0.84      0.76      0.80       238\n",
      "           1       0.78      0.86      0.82       238\n",
      "\n",
      "    accuracy                           0.81       476\n",
      "   macro avg       0.81      0.81      0.81       476\n",
      "weighted avg       0.81      0.81      0.81       476\n",
      "\n"
     ]
    }
   ],
   "source": [
    "#create object DecisionTreeClassifier and passing parameter min_samples_leaf = 45\n",
    "#and criterion=\"entropy\"\n",
    "dtc1=DecisionTreeClassifier(random_state=1,criterion=\"entropy\",min_samples_leaf=45)\n",
    "#call user difined function\n",
    "dtc1=create_model(dtc1)"
   ]
  },
  {
   "cell_type": "code",
   "execution_count": 65,
   "id": "1bcb1424-1a6c-4f04-9365-3d61782c601a",
   "metadata": {},
   "outputs": [
    {
     "data": {
      "text/html": [
       "<div>\n",
       "<style scoped>\n",
       "    .dataframe tbody tr th:only-of-type {\n",
       "        vertical-align: middle;\n",
       "    }\n",
       "\n",
       "    .dataframe tbody tr th {\n",
       "        vertical-align: top;\n",
       "    }\n",
       "\n",
       "    .dataframe thead th {\n",
       "        text-align: right;\n",
       "    }\n",
       "</style>\n",
       "<table border=\"1\" class=\"dataframe\">\n",
       "  <thead>\n",
       "    <tr style=\"text-align: right;\">\n",
       "      <th></th>\n",
       "      <th>input columns</th>\n",
       "      <th>IG</th>\n",
       "    </tr>\n",
       "  </thead>\n",
       "  <tbody>\n",
       "    <tr>\n",
       "      <th>0</th>\n",
       "      <td>marital-status</td>\n",
       "      <td>0.480437</td>\n",
       "    </tr>\n",
       "    <tr>\n",
       "      <th>1</th>\n",
       "      <td>education-num</td>\n",
       "      <td>0.289239</td>\n",
       "    </tr>\n",
       "    <tr>\n",
       "      <th>2</th>\n",
       "      <td>age</td>\n",
       "      <td>0.142991</td>\n",
       "    </tr>\n",
       "    <tr>\n",
       "      <th>3</th>\n",
       "      <td>capital-gain</td>\n",
       "      <td>0.060516</td>\n",
       "    </tr>\n",
       "    <tr>\n",
       "      <th>4</th>\n",
       "      <td>hours-per-week</td>\n",
       "      <td>0.014320</td>\n",
       "    </tr>\n",
       "    <tr>\n",
       "      <th>5</th>\n",
       "      <td>fnlwgt</td>\n",
       "      <td>0.006424</td>\n",
       "    </tr>\n",
       "    <tr>\n",
       "      <th>6</th>\n",
       "      <td>occupation</td>\n",
       "      <td>0.006075</td>\n",
       "    </tr>\n",
       "    <tr>\n",
       "      <th>7</th>\n",
       "      <td>capital-loss</td>\n",
       "      <td>0.000000</td>\n",
       "    </tr>\n",
       "    <tr>\n",
       "      <th>8</th>\n",
       "      <td>Workclass</td>\n",
       "      <td>0.000000</td>\n",
       "    </tr>\n",
       "    <tr>\n",
       "      <th>9</th>\n",
       "      <td>education</td>\n",
       "      <td>0.000000</td>\n",
       "    </tr>\n",
       "    <tr>\n",
       "      <th>10</th>\n",
       "      <td>relationship</td>\n",
       "      <td>0.000000</td>\n",
       "    </tr>\n",
       "    <tr>\n",
       "      <th>11</th>\n",
       "      <td>race</td>\n",
       "      <td>0.000000</td>\n",
       "    </tr>\n",
       "    <tr>\n",
       "      <th>12</th>\n",
       "      <td>sex</td>\n",
       "      <td>0.000000</td>\n",
       "    </tr>\n",
       "    <tr>\n",
       "      <th>13</th>\n",
       "      <td>native-country</td>\n",
       "      <td>0.000000</td>\n",
       "    </tr>\n",
       "  </tbody>\n",
       "</table>\n",
       "</div>"
      ],
      "text/plain": [
       "     input columns        IG\n",
       "0   marital-status  0.480437\n",
       "1    education-num  0.289239\n",
       "2              age  0.142991\n",
       "3     capital-gain  0.060516\n",
       "4   hours-per-week  0.014320\n",
       "5           fnlwgt  0.006424\n",
       "6       occupation  0.006075\n",
       "7     capital-loss  0.000000\n",
       "8        Workclass  0.000000\n",
       "9        education  0.000000\n",
       "10    relationship  0.000000\n",
       "11            race  0.000000\n",
       "12             sex  0.000000\n",
       "13  native-country  0.000000"
      ]
     },
     "execution_count": 65,
     "metadata": {},
     "output_type": "execute_result"
    }
   ],
   "source": [
    "#create DataFrame with help of DataFrame\n",
    "dict={\"input columns\":X.columns,\"IG\":dtc1.feature_importances_}\n",
    "#IG means informations gain of each input\n",
    "df2=pd.DataFrame(dict)\n",
    "df2.sort_values(by=\"IG\",ascending=False,ignore_index=True)"
   ]
  },
  {
   "cell_type": "code",
   "execution_count": 66,
   "id": "81deda8f-01d8-4188-be2a-a696450da7b9",
   "metadata": {},
   "outputs": [],
   "source": [
    "#In about Report, f1 score=0.82 means 82% and Accuracy=0.81\n",
    "#DecisionTreeclasifier using Entropy (min_samples_leaf)"
   ]
  },
  {
   "cell_type": "code",
   "execution_count": 67,
   "id": "2210a768-c2d2-425e-a7cc-48531092dd30",
   "metadata": {},
   "outputs": [],
   "source": [
    "#Apply Ensembling Technique\n",
    "#1, Bootstraping method:\n",
    "#randomForestTree(use Bagging):-\n",
    "from sklearn.ensemble import RandomForestClassifier"
   ]
  },
  {
   "cell_type": "code",
   "execution_count": 68,
   "id": "9a18337b-6e18-4598-a43d-83de8f2ac7e1",
   "metadata": {},
   "outputs": [
    {
     "data": {
      "text/plain": [
       "'for i in range(10,101): #starti=1 i<100 step i=i+1\\n    #create object of RandomForestClassifier class\\n    rfc=RandomForestClassifier(n_estimators=i,random_state=1)\\n    print(\"No. of Estimators mean No. of Defcision Tree:\",i)\\n    #call function\\n    rfc=create_model(rfc)'"
      ]
     },
     "execution_count": 68,
     "metadata": {},
     "output_type": "execute_result"
    }
   ],
   "source": [
    "#RandomForestClassifier inbuilt inner class: passing the parameter\n",
    "#NO.of decisiontree>=10 and <=100\n",
    "#No. of Decisiontrees : use inbuilt parameter n_estimators\n",
    "'''for i in range(10,101): #starti=1 i<100 step i=i+1\n",
    "    #create object of RandomForestClassifier class\n",
    "    rfc=RandomForestClassifier(n_estimators=i,random_state=1)\n",
    "    print(\"No. of Estimators mean No. of Defcision Tree:\",i)\n",
    "    #call function\n",
    "    rfc=create_model(rfc)'''"
   ]
  },
  {
   "cell_type": "code",
   "execution_count": 69,
   "id": "3c8a208b-71c7-4848-8430-1e265c95afda",
   "metadata": {},
   "outputs": [
    {
     "name": "stdout",
     "output_type": "stream",
     "text": [
      "[[215  23]\n",
      " [ 75 163]]\n",
      "              precision    recall  f1-score   support\n",
      "\n",
      "           0       0.74      0.90      0.81       238\n",
      "           1       0.88      0.68      0.77       238\n",
      "\n",
      "    accuracy                           0.79       476\n",
      "   macro avg       0.81      0.79      0.79       476\n",
      "weighted avg       0.81      0.79      0.79       476\n",
      "\n"
     ]
    }
   ],
   "source": [
    "#create object of RandomForestClassifier class\n",
    "rfc=RandomForestClassifier(n_estimators=17,random_state=1)\n",
    "#call user defined funtion\n",
    "rfc=create_model(rfc)"
   ]
  },
  {
   "cell_type": "code",
   "execution_count": 70,
   "id": "4a9f87b9-77ed-4e52-905f-33412b64951f",
   "metadata": {},
   "outputs": [
    {
     "data": {
      "text/html": [
       "<div>\n",
       "<style scoped>\n",
       "    .dataframe tbody tr th:only-of-type {\n",
       "        vertical-align: middle;\n",
       "    }\n",
       "\n",
       "    .dataframe tbody tr th {\n",
       "        vertical-align: top;\n",
       "    }\n",
       "\n",
       "    .dataframe thead th {\n",
       "        text-align: right;\n",
       "    }\n",
       "</style>\n",
       "<table border=\"1\" class=\"dataframe\">\n",
       "  <thead>\n",
       "    <tr style=\"text-align: right;\">\n",
       "      <th></th>\n",
       "      <th>Input columns</th>\n",
       "      <th>IG</th>\n",
       "    </tr>\n",
       "  </thead>\n",
       "  <tbody>\n",
       "    <tr>\n",
       "      <th>0</th>\n",
       "      <td>age</td>\n",
       "      <td>0.159669</td>\n",
       "    </tr>\n",
       "    <tr>\n",
       "      <th>1</th>\n",
       "      <td>marital-status</td>\n",
       "      <td>0.144491</td>\n",
       "    </tr>\n",
       "    <tr>\n",
       "      <th>2</th>\n",
       "      <td>education-num</td>\n",
       "      <td>0.131724</td>\n",
       "    </tr>\n",
       "    <tr>\n",
       "      <th>3</th>\n",
       "      <td>fnlwgt</td>\n",
       "      <td>0.116899</td>\n",
       "    </tr>\n",
       "    <tr>\n",
       "      <th>4</th>\n",
       "      <td>relationship</td>\n",
       "      <td>0.097614</td>\n",
       "    </tr>\n",
       "    <tr>\n",
       "      <th>5</th>\n",
       "      <td>hours-per-week</td>\n",
       "      <td>0.091244</td>\n",
       "    </tr>\n",
       "    <tr>\n",
       "      <th>6</th>\n",
       "      <td>occupation</td>\n",
       "      <td>0.058792</td>\n",
       "    </tr>\n",
       "    <tr>\n",
       "      <th>7</th>\n",
       "      <td>education</td>\n",
       "      <td>0.050051</td>\n",
       "    </tr>\n",
       "    <tr>\n",
       "      <th>8</th>\n",
       "      <td>capital-gain</td>\n",
       "      <td>0.045912</td>\n",
       "    </tr>\n",
       "    <tr>\n",
       "      <th>9</th>\n",
       "      <td>Workclass</td>\n",
       "      <td>0.043522</td>\n",
       "    </tr>\n",
       "    <tr>\n",
       "      <th>10</th>\n",
       "      <td>race</td>\n",
       "      <td>0.019109</td>\n",
       "    </tr>\n",
       "    <tr>\n",
       "      <th>11</th>\n",
       "      <td>native-country</td>\n",
       "      <td>0.013943</td>\n",
       "    </tr>\n",
       "    <tr>\n",
       "      <th>12</th>\n",
       "      <td>sex</td>\n",
       "      <td>0.013595</td>\n",
       "    </tr>\n",
       "    <tr>\n",
       "      <th>13</th>\n",
       "      <td>capital-loss</td>\n",
       "      <td>0.013433</td>\n",
       "    </tr>\n",
       "  </tbody>\n",
       "</table>\n",
       "</div>"
      ],
      "text/plain": [
       "     Input columns        IG\n",
       "0              age  0.159669\n",
       "1   marital-status  0.144491\n",
       "2    education-num  0.131724\n",
       "3           fnlwgt  0.116899\n",
       "4     relationship  0.097614\n",
       "5   hours-per-week  0.091244\n",
       "6       occupation  0.058792\n",
       "7        education  0.050051\n",
       "8     capital-gain  0.045912\n",
       "9        Workclass  0.043522\n",
       "10            race  0.019109\n",
       "11  native-country  0.013943\n",
       "12             sex  0.013595\n",
       "13    capital-loss  0.013433"
      ]
     },
     "execution_count": 70,
     "metadata": {},
     "output_type": "execute_result"
    }
   ],
   "source": [
    "#create a dataframe with the help of dictionary\n",
    "dict={\"Input columns\":X.columns,\"IG\":rfc.feature_importances_} #we replace the dtc1 with the rfc\n",
    "#IG means information gain of each input\n",
    "df2=pd.DataFrame(dict)\n",
    "df2.sort_values(by=\"IG\",ascending=False,ignore_index=True) "
   ]
  },
  {
   "cell_type": "code",
   "execution_count": 71,
   "id": "c2b6ca3a-b76c-4c73-91e4-4e84e07f7e63",
   "metadata": {},
   "outputs": [],
   "source": [
    "#In about Report, f1 score=0.77 means 77% and Accuracy=0.79\n",
    "#RandomforestTreeClassifier"
   ]
  },
  {
   "cell_type": "code",
   "execution_count": 72,
   "id": "06453d5a-b446-477b-bcd5-4797767a9645",
   "metadata": {},
   "outputs": [],
   "source": [
    "#Apply next Ensembling Technique on same dataset\n",
    "#ADA Boost\n",
    "#inbuilt class AdaBoostClassifier\n",
    "from sklearn.ensemble import AdaBoostClassifier"
   ]
  },
  {
   "cell_type": "code",
   "execution_count": 73,
   "id": "e5ea33bb-8ac9-4531-821b-abd9ae252051",
   "metadata": {},
   "outputs": [
    {
     "data": {
      "text/plain": [
       "'for i in range(1,17):\\n    #create the object of AdaBoostClassifier\\n    ada=AdaBoostClassifier(n_estimators=i,random_state=1)\\n    print(\"No of Estimators:\",i)\\n    #call user defined funtion\\n    ada=create_model(ada)'"
      ]
     },
     "execution_count": 73,
     "metadata": {},
     "output_type": "execute_result"
    }
   ],
   "source": [
    "#create the object AdaBoostClassifier and passing the value\n",
    "'''for i in range(1,17):\n",
    "    #create the object of AdaBoostClassifier\n",
    "    ada=AdaBoostClassifier(n_estimators=i,random_state=1)\n",
    "    print(\"No of Estimators:\",i)\n",
    "    #call user defined funtion\n",
    "    ada=create_model(ada)'''"
   ]
  },
  {
   "cell_type": "code",
   "execution_count": 74,
   "id": "c23faec8-4ed7-435c-923b-209db17ac208",
   "metadata": {},
   "outputs": [
    {
     "name": "stdout",
     "output_type": "stream",
     "text": [
      "[[183  55]\n",
      " [ 38 200]]\n",
      "              precision    recall  f1-score   support\n",
      "\n",
      "           0       0.83      0.77      0.80       238\n",
      "           1       0.78      0.84      0.81       238\n",
      "\n",
      "    accuracy                           0.80       476\n",
      "   macro avg       0.81      0.80      0.80       476\n",
      "weighted avg       0.81      0.80      0.80       476\n",
      "\n"
     ]
    }
   ],
   "source": [
    "#create object AdaBoostClassifier\n",
    "ada=AdaBoostClassifier(n_estimators=9,random_state=1)\n",
    "#call user defined funtion\n",
    "ada=create_model(ada)"
   ]
  },
  {
   "cell_type": "code",
   "execution_count": 75,
   "id": "9a64a70b-b63a-46ae-9d74-1059d8b511ee",
   "metadata": {},
   "outputs": [
    {
     "data": {
      "text/html": [
       "<div>\n",
       "<style scoped>\n",
       "    .dataframe tbody tr th:only-of-type {\n",
       "        vertical-align: middle;\n",
       "    }\n",
       "\n",
       "    .dataframe tbody tr th {\n",
       "        vertical-align: top;\n",
       "    }\n",
       "\n",
       "    .dataframe thead th {\n",
       "        text-align: right;\n",
       "    }\n",
       "</style>\n",
       "<table border=\"1\" class=\"dataframe\">\n",
       "  <thead>\n",
       "    <tr style=\"text-align: right;\">\n",
       "      <th></th>\n",
       "      <th>input columns</th>\n",
       "      <th>IG</th>\n",
       "    </tr>\n",
       "  </thead>\n",
       "  <tbody>\n",
       "    <tr>\n",
       "      <th>0</th>\n",
       "      <td>education-num</td>\n",
       "      <td>0.222222</td>\n",
       "    </tr>\n",
       "    <tr>\n",
       "      <th>1</th>\n",
       "      <td>marital-status</td>\n",
       "      <td>0.222222</td>\n",
       "    </tr>\n",
       "    <tr>\n",
       "      <th>2</th>\n",
       "      <td>age</td>\n",
       "      <td>0.111111</td>\n",
       "    </tr>\n",
       "    <tr>\n",
       "      <th>3</th>\n",
       "      <td>capital-gain</td>\n",
       "      <td>0.111111</td>\n",
       "    </tr>\n",
       "    <tr>\n",
       "      <th>4</th>\n",
       "      <td>capital-loss</td>\n",
       "      <td>0.111111</td>\n",
       "    </tr>\n",
       "    <tr>\n",
       "      <th>5</th>\n",
       "      <td>hours-per-week</td>\n",
       "      <td>0.111111</td>\n",
       "    </tr>\n",
       "    <tr>\n",
       "      <th>6</th>\n",
       "      <td>Workclass</td>\n",
       "      <td>0.111111</td>\n",
       "    </tr>\n",
       "    <tr>\n",
       "      <th>7</th>\n",
       "      <td>fnlwgt</td>\n",
       "      <td>0.000000</td>\n",
       "    </tr>\n",
       "    <tr>\n",
       "      <th>8</th>\n",
       "      <td>education</td>\n",
       "      <td>0.000000</td>\n",
       "    </tr>\n",
       "    <tr>\n",
       "      <th>9</th>\n",
       "      <td>occupation</td>\n",
       "      <td>0.000000</td>\n",
       "    </tr>\n",
       "    <tr>\n",
       "      <th>10</th>\n",
       "      <td>relationship</td>\n",
       "      <td>0.000000</td>\n",
       "    </tr>\n",
       "    <tr>\n",
       "      <th>11</th>\n",
       "      <td>race</td>\n",
       "      <td>0.000000</td>\n",
       "    </tr>\n",
       "    <tr>\n",
       "      <th>12</th>\n",
       "      <td>sex</td>\n",
       "      <td>0.000000</td>\n",
       "    </tr>\n",
       "    <tr>\n",
       "      <th>13</th>\n",
       "      <td>native-country</td>\n",
       "      <td>0.000000</td>\n",
       "    </tr>\n",
       "  </tbody>\n",
       "</table>\n",
       "</div>"
      ],
      "text/plain": [
       "     input columns        IG\n",
       "0    education-num  0.222222\n",
       "1   marital-status  0.222222\n",
       "2              age  0.111111\n",
       "3     capital-gain  0.111111\n",
       "4     capital-loss  0.111111\n",
       "5   hours-per-week  0.111111\n",
       "6        Workclass  0.111111\n",
       "7           fnlwgt  0.000000\n",
       "8        education  0.000000\n",
       "9       occupation  0.000000\n",
       "10    relationship  0.000000\n",
       "11            race  0.000000\n",
       "12             sex  0.000000\n",
       "13  native-country  0.000000"
      ]
     },
     "execution_count": 75,
     "metadata": {},
     "output_type": "execute_result"
    }
   ],
   "source": [
    "#create dataframe with the help of dictionary\n",
    "dict={\"input columns\":X.columns,\"IG\":ada.feature_importances_}\n",
    "#IG means information gain of each input\n",
    "df2=pd.DataFrame(dict)\n",
    "df2.sort_values(by=\"IG\",ascending=False,ignore_index=True)"
   ]
  },
  {
   "cell_type": "code",
   "execution_count": 76,
   "id": "78168358-ab82-477f-907b-d709a443c670",
   "metadata": {},
   "outputs": [],
   "source": [
    "#In about Report, f1 score=0.81 means 81% and Accuracy=0.80 means 80%\n",
    "#AdaBoostClassifier "
   ]
  },
  {
   "cell_type": "code",
   "execution_count": 77,
   "id": "49d17427-d3a9-4c50-98c4-33315972441a",
   "metadata": {},
   "outputs": [],
   "source": [
    "#Gradient Boosting(Gb) \n",
    "#inbuilt class GradientBoostingClassifier\n",
    "from sklearn.ensemble import GradientBoostingClassifier"
   ]
  },
  {
   "cell_type": "code",
   "execution_count": 78,
   "id": "9bec8be5-c8e4-4c9d-9847-465f34aa0e50",
   "metadata": {},
   "outputs": [
    {
     "data": {
      "text/plain": [
       "'for i in range(10,101):\\n    #create object GradientBoostingClassifier passing the value\\n    gbc=GradientBoostingClassifier(n_estimators=i,random_state=i)\\n    print(\"No of Estimators:\",i)\\n    #call user defined function\\n    gbc=create_model(gbc)'"
      ]
     },
     "execution_count": 78,
     "metadata": {},
     "output_type": "execute_result"
    }
   ],
   "source": [
    "#use inbuilt parameter of GradienBoostingClassifier Class\n",
    "'''for i in range(10,101):\n",
    "    #create object GradientBoostingClassifier passing the value\n",
    "    gbc=GradientBoostingClassifier(n_estimators=i,random_state=i)\n",
    "    print(\"No of Estimators:\",i)\n",
    "    #call user defined function\n",
    "    gbc=create_model(gbc)'''"
   ]
  },
  {
   "cell_type": "code",
   "execution_count": 79,
   "id": "2fc60cc9-cc15-4a56-bc24-75393ab4feeb",
   "metadata": {},
   "outputs": [
    {
     "name": "stdout",
     "output_type": "stream",
     "text": [
      "[[174  64]\n",
      " [ 35 203]]\n",
      "              precision    recall  f1-score   support\n",
      "\n",
      "           0       0.83      0.73      0.78       238\n",
      "           1       0.76      0.85      0.80       238\n",
      "\n",
      "    accuracy                           0.79       476\n",
      "   macro avg       0.80      0.79      0.79       476\n",
      "weighted avg       0.80      0.79      0.79       476\n",
      "\n"
     ]
    }
   ],
   "source": [
    "#create the object GradientBoostingClassifier \n",
    "gbc=GradientBoostingClassifier(n_estimators=11,random_state=1)\n",
    "#call the user defined function\n",
    "gbc=create_model(gbc)"
   ]
  },
  {
   "cell_type": "code",
   "execution_count": 80,
   "id": "37a242f8-1eb2-4f98-906d-bb1ffe4848b2",
   "metadata": {},
   "outputs": [
    {
     "data": {
      "text/html": [
       "<div>\n",
       "<style scoped>\n",
       "    .dataframe tbody tr th:only-of-type {\n",
       "        vertical-align: middle;\n",
       "    }\n",
       "\n",
       "    .dataframe tbody tr th {\n",
       "        vertical-align: top;\n",
       "    }\n",
       "\n",
       "    .dataframe thead th {\n",
       "        text-align: right;\n",
       "    }\n",
       "</style>\n",
       "<table border=\"1\" class=\"dataframe\">\n",
       "  <thead>\n",
       "    <tr style=\"text-align: right;\">\n",
       "      <th></th>\n",
       "      <th>input columns</th>\n",
       "      <th>IG</th>\n",
       "    </tr>\n",
       "  </thead>\n",
       "  <tbody>\n",
       "    <tr>\n",
       "      <th>0</th>\n",
       "      <td>marital-status</td>\n",
       "      <td>0.519187</td>\n",
       "    </tr>\n",
       "    <tr>\n",
       "      <th>1</th>\n",
       "      <td>education-num</td>\n",
       "      <td>0.252376</td>\n",
       "    </tr>\n",
       "    <tr>\n",
       "      <th>2</th>\n",
       "      <td>age</td>\n",
       "      <td>0.083183</td>\n",
       "    </tr>\n",
       "    <tr>\n",
       "      <th>3</th>\n",
       "      <td>capital-gain</td>\n",
       "      <td>0.040331</td>\n",
       "    </tr>\n",
       "    <tr>\n",
       "      <th>4</th>\n",
       "      <td>hours-per-week</td>\n",
       "      <td>0.039589</td>\n",
       "    </tr>\n",
       "    <tr>\n",
       "      <th>5</th>\n",
       "      <td>education</td>\n",
       "      <td>0.023834</td>\n",
       "    </tr>\n",
       "    <tr>\n",
       "      <th>6</th>\n",
       "      <td>relationship</td>\n",
       "      <td>0.022262</td>\n",
       "    </tr>\n",
       "    <tr>\n",
       "      <th>7</th>\n",
       "      <td>native-country</td>\n",
       "      <td>0.009123</td>\n",
       "    </tr>\n",
       "    <tr>\n",
       "      <th>8</th>\n",
       "      <td>fnlwgt</td>\n",
       "      <td>0.007440</td>\n",
       "    </tr>\n",
       "    <tr>\n",
       "      <th>9</th>\n",
       "      <td>sex</td>\n",
       "      <td>0.002675</td>\n",
       "    </tr>\n",
       "    <tr>\n",
       "      <th>10</th>\n",
       "      <td>capital-loss</td>\n",
       "      <td>0.000000</td>\n",
       "    </tr>\n",
       "    <tr>\n",
       "      <th>11</th>\n",
       "      <td>Workclass</td>\n",
       "      <td>0.000000</td>\n",
       "    </tr>\n",
       "    <tr>\n",
       "      <th>12</th>\n",
       "      <td>occupation</td>\n",
       "      <td>0.000000</td>\n",
       "    </tr>\n",
       "    <tr>\n",
       "      <th>13</th>\n",
       "      <td>race</td>\n",
       "      <td>0.000000</td>\n",
       "    </tr>\n",
       "  </tbody>\n",
       "</table>\n",
       "</div>"
      ],
      "text/plain": [
       "     input columns        IG\n",
       "0   marital-status  0.519187\n",
       "1    education-num  0.252376\n",
       "2              age  0.083183\n",
       "3     capital-gain  0.040331\n",
       "4   hours-per-week  0.039589\n",
       "5        education  0.023834\n",
       "6     relationship  0.022262\n",
       "7   native-country  0.009123\n",
       "8           fnlwgt  0.007440\n",
       "9              sex  0.002675\n",
       "10    capital-loss  0.000000\n",
       "11       Workclass  0.000000\n",
       "12      occupation  0.000000\n",
       "13            race  0.000000"
      ]
     },
     "execution_count": 80,
     "metadata": {},
     "output_type": "execute_result"
    }
   ],
   "source": [
    "#create a dataframe with help of dictionary\n",
    "dict={\"input columns\":X.columns,\"IG\":gbc.feature_importances_}\n",
    "df2=pd.DataFrame(dict)\n",
    "df2.sort_values(by=\"IG\",ascending=False,ignore_index=True)"
   ]
  },
  {
   "cell_type": "code",
   "execution_count": 81,
   "id": "3223c1bc-2fc7-472f-a5e7-81a1d69f242a",
   "metadata": {},
   "outputs": [],
   "source": [
    "#In about Report, f1 score=0.80 means 80% and Accuracy=0.79 means 79%\n",
    "#GradientBoostingClassifier"
   ]
  },
  {
   "cell_type": "code",
   "execution_count": 82,
   "id": "473b3dc2-0363-4824-adff-cc2753b438a8",
   "metadata": {},
   "outputs": [
    {
     "name": "stdout",
     "output_type": "stream",
     "text": [
      "Requirement already satisfied: xgboost in c:\\users\\swapn\\anaconda3\\lib\\site-packages (2.0.3)\n",
      "Requirement already satisfied: numpy in c:\\users\\swapn\\anaconda3\\lib\\site-packages (from xgboost) (1.26.4)\n",
      "Requirement already satisfied: scipy in c:\\users\\swapn\\anaconda3\\lib\\site-packages (from xgboost) (1.11.4)\n"
     ]
    }
   ],
   "source": [
    "#Extreme Gradient Boosting(XGB)\n",
    "#inbuilt class XGBclassifier--> define in inbuilt package xgboost of \n",
    "#python\n",
    "#first install xgboost package with the help of pip on your\n",
    "#system\n",
    "!pip install xgboost"
   ]
  },
  {
   "cell_type": "code",
   "execution_count": 83,
   "id": "d7c7fb20-4264-4291-9957-85c630083a1f",
   "metadata": {},
   "outputs": [],
   "source": [
    "#call XGBClassifier class\n",
    "from xgboost import XGBClassifier"
   ]
  },
  {
   "cell_type": "code",
   "execution_count": 84,
   "id": "9446c242-17b7-4967-89cb-26fed7f51c31",
   "metadata": {},
   "outputs": [
    {
     "data": {
      "text/plain": [
       "'for i in range(10,101):\\n    #create object xgb and passing the vlaue of parameter\\n    xgb=XGBClassifier(n_estimators=i,reg_alpha=1,random_state=1)\\n    print(\"No of Estimators:\",i)\\n    #call funtion\\n    xgb=create_model(xgb)'"
      ]
     },
     "execution_count": 84,
     "metadata": {},
     "output_type": "execute_result"
    }
   ],
   "source": [
    "#call XGBclassifier class\n",
    "'''for i in range(10,101):\n",
    "    #create object xgb and passing the vlaue of parameter\n",
    "    xgb=XGBClassifier(n_estimators=i,reg_alpha=1,random_state=1)\n",
    "    print(\"No of Estimators:\",i)\n",
    "    #call funtion\n",
    "    xgb=create_model(xgb)'''"
   ]
  },
  {
   "cell_type": "code",
   "execution_count": 85,
   "id": "d5343ec9-94b1-4467-b7ce-ad375d7638ba",
   "metadata": {},
   "outputs": [
    {
     "name": "stdout",
     "output_type": "stream",
     "text": [
      "[[199  39]\n",
      " [ 46 192]]\n",
      "              precision    recall  f1-score   support\n",
      "\n",
      "           0       0.81      0.84      0.82       238\n",
      "           1       0.83      0.81      0.82       238\n",
      "\n",
      "    accuracy                           0.82       476\n",
      "   macro avg       0.82      0.82      0.82       476\n",
      "weighted avg       0.82      0.82      0.82       476\n",
      "\n"
     ]
    }
   ],
   "source": [
    "#create the object XGBclasifier\n",
    "xgb=XGBClassifier(n_estimators=12,reg_alpha=1,random_state=1)\n",
    "#call user defined funtion\n",
    "xgb=create_model(xgb)"
   ]
  },
  {
   "cell_type": "code",
   "execution_count": 86,
   "id": "05d6b0aa-4cbd-410b-bd67-dfdb6fc8b29a",
   "metadata": {},
   "outputs": [
    {
     "data": {
      "text/html": [
       "<div>\n",
       "<style scoped>\n",
       "    .dataframe tbody tr th:only-of-type {\n",
       "        vertical-align: middle;\n",
       "    }\n",
       "\n",
       "    .dataframe tbody tr th {\n",
       "        vertical-align: top;\n",
       "    }\n",
       "\n",
       "    .dataframe thead th {\n",
       "        text-align: right;\n",
       "    }\n",
       "</style>\n",
       "<table border=\"1\" class=\"dataframe\">\n",
       "  <thead>\n",
       "    <tr style=\"text-align: right;\">\n",
       "      <th></th>\n",
       "      <th>input columns</th>\n",
       "      <th>IG</th>\n",
       "    </tr>\n",
       "  </thead>\n",
       "  <tbody>\n",
       "    <tr>\n",
       "      <th>0</th>\n",
       "      <td>marital-status</td>\n",
       "      <td>0.411045</td>\n",
       "    </tr>\n",
       "    <tr>\n",
       "      <th>1</th>\n",
       "      <td>education-num</td>\n",
       "      <td>0.131606</td>\n",
       "    </tr>\n",
       "    <tr>\n",
       "      <th>2</th>\n",
       "      <td>capital-gain</td>\n",
       "      <td>0.084247</td>\n",
       "    </tr>\n",
       "    <tr>\n",
       "      <th>3</th>\n",
       "      <td>age</td>\n",
       "      <td>0.057984</td>\n",
       "    </tr>\n",
       "    <tr>\n",
       "      <th>4</th>\n",
       "      <td>hours-per-week</td>\n",
       "      <td>0.044663</td>\n",
       "    </tr>\n",
       "    <tr>\n",
       "      <th>5</th>\n",
       "      <td>capital-loss</td>\n",
       "      <td>0.037838</td>\n",
       "    </tr>\n",
       "    <tr>\n",
       "      <th>6</th>\n",
       "      <td>relationship</td>\n",
       "      <td>0.035035</td>\n",
       "    </tr>\n",
       "    <tr>\n",
       "      <th>7</th>\n",
       "      <td>native-country</td>\n",
       "      <td>0.034790</td>\n",
       "    </tr>\n",
       "    <tr>\n",
       "      <th>8</th>\n",
       "      <td>education</td>\n",
       "      <td>0.034156</td>\n",
       "    </tr>\n",
       "    <tr>\n",
       "      <th>9</th>\n",
       "      <td>occupation</td>\n",
       "      <td>0.027572</td>\n",
       "    </tr>\n",
       "    <tr>\n",
       "      <th>10</th>\n",
       "      <td>fnlwgt</td>\n",
       "      <td>0.027104</td>\n",
       "    </tr>\n",
       "    <tr>\n",
       "      <th>11</th>\n",
       "      <td>Workclass</td>\n",
       "      <td>0.026388</td>\n",
       "    </tr>\n",
       "    <tr>\n",
       "      <th>12</th>\n",
       "      <td>sex</td>\n",
       "      <td>0.024280</td>\n",
       "    </tr>\n",
       "    <tr>\n",
       "      <th>13</th>\n",
       "      <td>race</td>\n",
       "      <td>0.023291</td>\n",
       "    </tr>\n",
       "  </tbody>\n",
       "</table>\n",
       "</div>"
      ],
      "text/plain": [
       "     input columns        IG\n",
       "0   marital-status  0.411045\n",
       "1    education-num  0.131606\n",
       "2     capital-gain  0.084247\n",
       "3              age  0.057984\n",
       "4   hours-per-week  0.044663\n",
       "5     capital-loss  0.037838\n",
       "6     relationship  0.035035\n",
       "7   native-country  0.034790\n",
       "8        education  0.034156\n",
       "9       occupation  0.027572\n",
       "10          fnlwgt  0.027104\n",
       "11       Workclass  0.026388\n",
       "12             sex  0.024280\n",
       "13            race  0.023291"
      ]
     },
     "execution_count": 86,
     "metadata": {},
     "output_type": "execute_result"
    }
   ],
   "source": [
    "#create a dataframe with help of dictionary\n",
    "dict={\"input columns\":X.columns,\"IG\":xgb.feature_importances_}\n",
    "df2=pd.DataFrame(dict)\n",
    "df2.sort_values(by=\"IG\",ascending=False,ignore_index=True)"
   ]
  },
  {
   "cell_type": "code",
   "execution_count": 87,
   "id": "dd5d5fcf-4f83-4ff0-b9f7-99c9171b5285",
   "metadata": {},
   "outputs": [],
   "source": [
    "#In about Report, f1 score=0.82 means 82% and Accuracy=0.82 means 82%\n",
    "#XGBclassifier"
   ]
  },
  {
   "cell_type": "code",
   "execution_count": 88,
   "id": "92726bec-43ad-43b6-8d1d-c16de17a2084",
   "metadata": {},
   "outputs": [],
   "source": [
    "#support vector machine\n"
   ]
  },
  {
   "cell_type": "code",
   "execution_count": 89,
   "id": "aab08b8c-df11-4384-850a-17bbf0612515",
   "metadata": {},
   "outputs": [],
   "source": [
    "#1 use linear kernel function\n",
    "# Linear kernel fucntion\n",
    "#use of LinearSVC\n",
    "#call inbuilt class LinearSVC\n",
    "from sklearn.svm import LinearSVC"
   ]
  },
  {
   "cell_type": "code",
   "execution_count": 90,
   "id": "2f313d2a-c7f8-4b6f-859a-5f426e03e67e",
   "metadata": {},
   "outputs": [],
   "source": [
    "#create object of linearSVC class\n",
    "svc=LinearSVC(random_state=1) #Hard Margin bydefault"
   ]
  },
  {
   "cell_type": "code",
   "execution_count": 91,
   "id": "8c113bd6-bdeb-4411-852d-f36413e3037d",
   "metadata": {},
   "outputs": [
    {
     "name": "stdout",
     "output_type": "stream",
     "text": [
      "[[184  54]\n",
      " [ 61 177]]\n",
      "              precision    recall  f1-score   support\n",
      "\n",
      "           0       0.75      0.77      0.76       238\n",
      "           1       0.77      0.74      0.75       238\n",
      "\n",
      "    accuracy                           0.76       476\n",
      "   macro avg       0.76      0.76      0.76       476\n",
      "weighted avg       0.76      0.76      0.76       476\n",
      "\n"
     ]
    }
   ],
   "source": [
    "#call function (user defined function)\n",
    "svc=create_model(svc)"
   ]
  },
  {
   "cell_type": "code",
   "execution_count": 92,
   "id": "d2b99573-3634-4022-92bc-2d566723f464",
   "metadata": {},
   "outputs": [],
   "source": [
    "#In about Report, f1 score=0.75 means 75% and Accuracy=0.76 means 76%\n",
    "#LinearSVG(Hard Margin)\n",
    "#"
   ]
  },
  {
   "cell_type": "code",
   "execution_count": 93,
   "id": "b3d9db14-3bc1-4bad-ba61-50eddd037d7b",
   "metadata": {},
   "outputs": [],
   "source": [
    "#Here score is not good , not better\n",
    "#behind the reason, may be model is overfit.\n",
    "#means both classes are separate with straight line but may be model is \n",
    "#overfit, so reduced overfit of model, we add external error on training\n",
    "#time and this processis known as soft margin\n",
    "#create the object of class LinearSVC\n",
    "svc1= LinearSVC(random_state=1,C=0.0001) #if error value is not works means data will not seprate linearly \n",
    "#C inbuilt parameter of LinearSVC class and value of these parameter\n",
    "#betweeen >0-1 \n",
    "#correct value-=0.0001"
   ]
  },
  {
   "cell_type": "code",
   "execution_count": 94,
   "id": "a98dcf5c-c5da-46b7-be20-3466332cf699",
   "metadata": {},
   "outputs": [
    {
     "name": "stdout",
     "output_type": "stream",
     "text": [
      "[[184  54]\n",
      " [ 61 177]]\n",
      "              precision    recall  f1-score   support\n",
      "\n",
      "           0       0.75      0.77      0.76       238\n",
      "           1       0.77      0.74      0.75       238\n",
      "\n",
      "    accuracy                           0.76       476\n",
      "   macro avg       0.76      0.76      0.76       476\n",
      "weighted avg       0.76      0.76      0.76       476\n",
      "\n"
     ]
    }
   ],
   "source": [
    "#call functions defined function\n",
    "svc=create_model(svc)"
   ]
  },
  {
   "cell_type": "code",
   "execution_count": 95,
   "id": "ec81304a-8a1d-45b0-bafa-84a57743f461",
   "metadata": {},
   "outputs": [],
   "source": [
    "#In above report, f1 score = 0.75 means 75% and Accuracy = 0.76 means 76%, LinearSVC(soft margin)"
   ]
  },
  {
   "cell_type": "code",
   "execution_count": 96,
   "id": "856067b5-e3e5-44f0-9a20-68a3ae0e69ec",
   "metadata": {},
   "outputs": [],
   "source": [
    "#no.changes in score when add external error on training time \n",
    "#means data is non-linear data.\n",
    "#use Non Linear kernal function: 2. polynomial kernal function\n",
    "# polynomial kernel function:\n",
    "'''it increase the dimension means its converts low dimension to high dimension.\n",
    "suppose we have 1D  then it convert into 2D and so on.\n",
    "use inbuilt class svc for non linear kernal function : polynomial or radial basis kernal function'''\n",
    "\n",
    "from sklearn.svm import SVC\n",
    "#create object of SVC class and pass the parameter kernel=\"poly\"\n",
    "poly_SVC=SVC(random_state=1,kernel=\"poly\") #Poly means polynomial\n"
   ]
  },
  {
   "cell_type": "code",
   "execution_count": 97,
   "id": "3d7274f8-706b-4149-84a3-d9bacf4da224",
   "metadata": {},
   "outputs": [
    {
     "name": "stdout",
     "output_type": "stream",
     "text": [
      "[[215  23]\n",
      " [104 134]]\n",
      "              precision    recall  f1-score   support\n",
      "\n",
      "           0       0.67      0.90      0.77       238\n",
      "           1       0.85      0.56      0.68       238\n",
      "\n",
      "    accuracy                           0.73       476\n",
      "   macro avg       0.76      0.73      0.73       476\n",
      "weighted avg       0.76      0.73      0.73       476\n",
      "\n"
     ]
    }
   ],
   "source": [
    "#call user defined function\n",
    "poly_SVC=create_model(poly_SVC)"
   ]
  },
  {
   "cell_type": "code",
   "execution_count": 98,
   "id": "2266390d-558e-4dc1-b058-115474b113ba",
   "metadata": {},
   "outputs": [],
   "source": [
    "#In about Report, f1 score=0.68 means 68% and Accuracy=0.73 means 73%\n",
    "#LinearSVG\n",
    "#SVC(kernel=\"poly\")"
   ]
  },
  {
   "cell_type": "code",
   "execution_count": 99,
   "id": "b1b21eb8-88bf-4cc9-bcab-763f0d784664",
   "metadata": {},
   "outputs": [
    {
     "name": "stdout",
     "output_type": "stream",
     "text": [
      "[[199  39]\n",
      " [ 69 169]]\n",
      "              precision    recall  f1-score   support\n",
      "\n",
      "           0       0.74      0.84      0.79       238\n",
      "           1       0.81      0.71      0.76       238\n",
      "\n",
      "    accuracy                           0.77       476\n",
      "   macro avg       0.78      0.77      0.77       476\n",
      "weighted avg       0.78      0.77      0.77       476\n",
      "\n"
     ]
    }
   ],
   "source": [
    "#create object of SVC for radial basis\n",
    "svc_radial=SVC(random_state=1,kernel=\"rbf\")\n",
    "#rbf means radial basis function\n",
    "#call user defined funtion\n",
    "svc_radical=create_model(svc_radial)"
   ]
  },
  {
   "cell_type": "code",
   "execution_count": 100,
   "id": "d0f17dab-dd06-4d90-bce7-1f1f9c37d407",
   "metadata": {},
   "outputs": [],
   "source": [
    "#In above report, f1 score = 0.76 means 76% and Accuracy = 0.77 means 77%, SVC(Radial basis function)"
   ]
  },
  {
   "cell_type": "code",
   "execution_count": 101,
   "id": "4f35734e-dcd7-43cb-a42e-064e3ddca4e7",
   "metadata": {},
   "outputs": [],
   "source": [
    "#In this dataset, we got best score by Extreme Gradient Boost.\n",
    "#f1 socre=0.82 means 82% and accuracy = 0.82 means 82%"
   ]
  }
 ],
 "metadata": {
  "kernelspec": {
   "display_name": "Python 3 (ipykernel)",
   "language": "python",
   "name": "python3"
  },
  "language_info": {
   "codemirror_mode": {
    "name": "ipython",
    "version": 3
   },
   "file_extension": ".py",
   "mimetype": "text/x-python",
   "name": "python",
   "nbconvert_exporter": "python",
   "pygments_lexer": "ipython3",
   "version": "3.11.7"
  }
 },
 "nbformat": 4,
 "nbformat_minor": 5
}
